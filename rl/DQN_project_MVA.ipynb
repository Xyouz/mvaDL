{
 "cells": [
  {
   "cell_type": "markdown",
   "metadata": {},
   "source": [
    "**You may need to install [OpenCV](https://pypi.python.org/pypi/opencv-python) and [scikit-video](http://www.scikit-video.org/stable/).**"
   ]
  },
  {
   "cell_type": "code",
   "execution_count": 4,
   "metadata": {},
   "outputs": [
    {
     "name": "stderr",
     "output_type": "stream",
     "text": [
      "Using TensorFlow backend.\n"
     ]
    }
   ],
   "source": [
    "import keras\n",
    "import numpy as np\n",
    "import io\n",
    "import base64\n",
    "from IPython.display import HTML\n",
    "import skvideo.io\n",
    "import cv2\n",
    "import json\n",
    "\n",
    "from keras.models import Sequential,model_from_json\n",
    "from keras.layers.core import Dense, Flatten\n",
    "from keras.optimizers import sgd\n",
    "from keras.layers import Conv2D, MaxPooling2D, Activation, AveragePooling2D,Reshape,BatchNormalization"
   ]
  },
  {
   "cell_type": "markdown",
   "metadata": {},
   "source": [
    "# MiniProject on Deep Reinforcement Learning"
   ]
  },
  {
   "cell_type": "markdown",
   "metadata": {},
   "source": [
    "__Notations__: $E_p$ is the expectation under probability $p$. Please justify each of your answer and widely comment your code."
   ]
  },
  {
   "cell_type": "markdown",
   "metadata": {},
   "source": [
    "# Context"
   ]
  },
  {
   "cell_type": "markdown",
   "metadata": {},
   "source": [
    "In a reinforcement learning algorithm, we modelize each step $t$ as an action $a_t$ obtained from a state $s_t$, i.e. $\\{(a_{t},s_{t})_{t\\leq T}\\}$ having the Markov property. We consider a discount factor $\\gamma \\in [0,1]$ that ensures convergence. The goal is to find among all the policies $\\pi$, one that maximizes the expected reward:\n",
    "\n",
    "\\begin{equation*}\n",
    "R(\\pi)=\\sum_{t\\leq T}E_{p^{\\pi}}[\\gamma^t r(s_{t},a_{t})] \\> ,\n",
    "\\end{equation*}\n",
    "\n",
    "where: \n",
    "\\begin{equation*}p^{\\pi}(a_{0},a_{1},s_{1},...,a_{T},s_{T})=p(a_{0})\\prod_{t=1}^{T}\\pi(a_{t}|s_{t})p(s_{t+1}|s_{t},a_{t}) \\> .\n",
    "\\end{equation*}\n",
    "\n",
    "We note the $Q$-function:\n",
    "\n",
    "\\begin{equation*}Q^\\pi(s,a)=E_{p^{\\pi}}[\\sum_{t\\leq T}\\gamma^{t}r(s_{t},a_{t})|s_{0}=s,a_{0}=a] \\> .\n",
    "\\end{equation*}\n",
    "\n",
    "Thus, the optimal Q function is:\n",
    "\\begin{equation*}\n",
    "Q^*(s,a)=\\max_{\\pi}Q^\\pi(s,a) \\> .\n",
    "\\end{equation*}\n",
    "\n",
    "In this project, we will apply the deep reinforcement learning techniques to a simple game: an agent will have to learn from scratch a policy that will permit it maximizing a reward."
   ]
  },
  {
   "cell_type": "markdown",
   "metadata": {},
   "source": [
    "## The environment, the agent and the game"
   ]
  },
  {
   "cell_type": "markdown",
   "metadata": {},
   "source": [
    "### The environment"
   ]
  },
  {
   "cell_type": "markdown",
   "metadata": {},
   "source": [
    "```Environment``` is an abstract class that represents the states, rewards, and actions to obtain the new state."
   ]
  },
  {
   "cell_type": "code",
   "execution_count": 5,
   "metadata": {},
   "outputs": [],
   "source": [
    "class Environment(object):\n",
    "    def __init__(self):\n",
    "        pass\n",
    "\n",
    "    def act(self, act):\n",
    "        \"\"\"\n",
    "        One can act on the environment and obtain its reaction:\n",
    "        - the new state\n",
    "        - the reward of the new state\n",
    "        - should we continue the game?\n",
    "\n",
    "        :return: state, reward, game_over\n",
    "        \"\"\"\n",
    "        pass\n",
    "\n",
    "\n",
    "    def reset(self):\n",
    "        \"\"\"\n",
    "        Reinitialize the environment to a random state and returns\n",
    "        the original state\n",
    "\n",
    "        :return: state\n",
    "        \"\"\"\n",
    "        pass\n",
    "    \n",
    "    def draw(self):\n",
    "        \"\"\"\n",
    "        Visualize in the console or graphically the current state\n",
    "        \"\"\"\n",
    "        pass"
   ]
  },
  {
   "cell_type": "markdown",
   "metadata": {},
   "source": [
    "The method ```act``` allows to act on the environment at a given state $s_t$ (stored internally), via action $a_t$. The method will return the new state $s_{t+1}$, the reward $r(s_{t},a_{t})$ and determines if $t\\leq T$ (*game_over*).\n",
    "\n",
    "The method ```reset``` simply reinitializes the environment to a random state $s_0$.\n",
    "\n",
    "The method ```draw``` displays the current state $s_t$ (this is useful to check the behavior of the Agent).\n",
    "\n",
    "We modelize $s_t$ as a tensor, while $a_t$ is an integer."
   ]
  },
  {
   "cell_type": "markdown",
   "metadata": {},
   "source": [
    "### The Agent"
   ]
  },
  {
   "cell_type": "markdown",
   "metadata": {},
   "source": [
    "The goal of the ```Agent``` is to interact with the ```Environment``` by proposing actions $a_t$ obtained from a given state $s_t$ to attempt to maximize its __reward__ $r(s_t,a_t)$. We propose the following abstract class:"
   ]
  },
  {
   "cell_type": "code",
   "execution_count": 6,
   "metadata": {},
   "outputs": [],
   "source": [
    "class Agent(object):\n",
    "    def __init__(self, epsilon=0.1, n_action=4):\n",
    "        self.epsilon = epsilon\n",
    "        self.n_action = n_action\n",
    "    \n",
    "    def set_epsilon(self,e):\n",
    "        self.epsilon = e\n",
    "\n",
    "    def act(self,s,train=True):\n",
    "        \"\"\" This function should return the next action to do:\n",
    "        an integer between 0 and 4 (not included) with a random exploration of epsilon\"\"\"\n",
    "        if train:\n",
    "            if np.random.rand() <= self.epsilon:\n",
    "                a = np.random.randint(0, self.n_action, size=1)[0]\n",
    "            else:\n",
    "                a = self.learned_act(s)\n",
    "        else: # in some cases, this can improve the performance.. remove it if poor performances\n",
    "            a = self.learned_act(s)\n",
    "\n",
    "        return a\n",
    "\n",
    "    def learned_act(self,s):\n",
    "        \"\"\" Act via the policy of the agent, from a given state s\n",
    "        it proposes an action a\"\"\"\n",
    "        pass\n",
    "\n",
    "    def reinforce(self, s, n_s, a, r, game_over_):\n",
    "        \"\"\" This function is the core of the learning algorithm. \n",
    "        It takes as an input the current state s_, the next state n_s_\n",
    "        the action a_ used to move from s_ to n_s_ and the reward r_.\n",
    "        \n",
    "        Its goal is to learn a policy.\n",
    "        \"\"\"\n",
    "        pass\n",
    "\n",
    "    def save(self):\n",
    "        \"\"\" This function returns basic stats if applicable: the\n",
    "        loss and/or the model\"\"\"\n",
    "        pass\n",
    "\n",
    "    def load(self):\n",
    "        \"\"\" This function allows to restore a model\"\"\"\n",
    "        pass"
   ]
  },
  {
   "cell_type": "markdown",
   "metadata": {},
   "source": [
    "***\n",
    "__Question 1__:\n",
    "Explain the function act. Why is ```epsilon``` essential?"
   ]
  },
  {
   "cell_type": "markdown",
   "metadata": {},
   "source": [
    "The agent acts according to the learnt policy most of the time but it sometimes ($\\epsilon$ of the time) act randomly. This behaviour is useful to ensure that the state-action space is well explored and that the agent does not lock himself in a sub-optimal policy."
   ]
  },
  {
   "cell_type": "markdown",
   "metadata": {},
   "source": [
    "***\n",
    "### The Game"
   ]
  },
  {
   "cell_type": "markdown",
   "metadata": {},
   "source": [
    "The ```Agent``` and the ```Environment``` work in an interlaced way as in the following (take some time to understand this code as it is the core of the project)\n",
    "\n",
    "```python\n",
    "\n",
    "epoch = 300\n",
    "env = Environment()\n",
    "agent = Agent()\n",
    "\n",
    "\n",
    "# Number of won games\n",
    "score = 0\n",
    "loss = 0\n",
    "\n",
    "\n",
    "for e in range(epoch):\n",
    "    # At each epoch, we restart to a fresh game and get the initial state\n",
    "    state = env.reset()\n",
    "    # This assumes that the games will end\n",
    "    game_over = False\n",
    "\n",
    "    win = 0\n",
    "    lose = 0\n",
    "    \n",
    "    while not game_over:\n",
    "        # The agent performs an action\n",
    "        action = agent.act(state)\n",
    "\n",
    "        # Apply an action to the environment, get the next state, the reward\n",
    "        # and if the games end\n",
    "        prev_state = state\n",
    "        state, reward, game_over = env.act(action)\n",
    "\n",
    "        # Update the counters\n",
    "        if reward > 0:\n",
    "            win = win + reward\n",
    "        if reward < 0:\n",
    "            lose = lose -reward\n",
    "\n",
    "        # Apply the reinforcement strategy\n",
    "        loss = agent.reinforce(prev_state, state,  action, reward, game_over)\n",
    "\n",
    "    # Save as a mp4\n",
    "    if e % 10 == 0:\n",
    "        env.draw(e)\n",
    "\n",
    "    # Update stats\n",
    "    score += win-lose\n",
    "\n",
    "    print(\"Epoch {:03d}/{:03d} | Loss {:.4f} | Win/lose count {}/{} ({})\"\n",
    "          .format(e, epoch, loss, win, lose, win-lose))\n",
    "    agent.save()\n",
    "```"
   ]
  },
  {
   "cell_type": "markdown",
   "metadata": {},
   "source": [
    "# The game, *eat cheese*"
   ]
  },
  {
   "cell_type": "markdown",
   "metadata": {},
   "source": [
    "A rat runs on an island and tries to eat as much as possible. The island is subdivided into $N\\times N$ cells, in which there are cheese (+0.5) and poisonous cells (-1). The rat has a visibility of 2 cells (thus it can see $5^2$ cells). The rat is given a time $T$ to accumulate as much food as possible. It can perform 4 actions: going up, down, left, right. \n",
    "\n",
    "The goal is to code an agent to solve this task that will learn by trial and error. We propose the following environment:"
   ]
  },
  {
   "cell_type": "code",
   "execution_count": 7,
   "metadata": {},
   "outputs": [],
   "source": [
    "class Environment(object):\n",
    "    def __init__(self, grid_size=10, max_time=500, temperature=0.1):\n",
    "        grid_size = grid_size+4\n",
    "        self.grid_size = grid_size\n",
    "        self.max_time = max_time\n",
    "        self.temperature = temperature\n",
    "\n",
    "        #board on which one plays\n",
    "        self.board = np.zeros((grid_size,grid_size))\n",
    "        self.position = np.zeros((grid_size,grid_size))\n",
    "\n",
    "        # coordinate of the cat\n",
    "        self.x = 0\n",
    "        self.y = 1\n",
    "\n",
    "        # self time\n",
    "        self.t = 0\n",
    "\n",
    "        self.scale=16\n",
    "\n",
    "        self.to_draw = np.zeros((max_time+2, grid_size*self.scale, grid_size*self.scale, 3))\n",
    "\n",
    "\n",
    "    def draw(self,e):\n",
    "        skvideo.io.vwrite(str(e) + '.mp4', self.to_draw)\n",
    "\n",
    "    def get_frame(self,t):\n",
    "        b = np.zeros((self.grid_size,self.grid_size,3))+128\n",
    "        b[self.board>0,0] = 256\n",
    "        b[self.board < 0, 2] = 256\n",
    "        b[self.x,self.y,:]=256\n",
    "        b[-2:,:,:]=0\n",
    "        b[:,-2:,:]=0\n",
    "        b[:2,:,:]=0\n",
    "        b[:,:2,:]=0\n",
    "        \n",
    "        b =  cv2.resize(b, None, fx=self.scale, fy=self.scale, interpolation=cv2.INTER_NEAREST)\n",
    "\n",
    "        self.to_draw[t,:,:,:]=b\n",
    "\n",
    "\n",
    "    def act(self, action):\n",
    "        \"\"\"This function returns the new state, reward and decides if the\n",
    "        game ends.\"\"\"\n",
    "\n",
    "        self.get_frame(int(self.t))\n",
    "\n",
    "        self.position = np.zeros((self.grid_size, self.grid_size))\n",
    "\n",
    "        self.position[0:2,:]= -1\n",
    "        self.position[:,0:2] = -1\n",
    "        self.position[-2:, :] = -1\n",
    "        self.position[:, -2:] = -1\n",
    "\n",
    "        self.position[self.x, self.y] = 1\n",
    "        if action == 0: # Right\n",
    "            if self.x == self.grid_size-3:\n",
    "                self.x = self.x-1\n",
    "            else:\n",
    "                self.x = self.x + 1\n",
    "        elif action == 1: # Left\n",
    "            if self.x == 2:\n",
    "                self.x = self.x+1\n",
    "            else:\n",
    "                self.x = self.x-1\n",
    "        elif action == 2: # Down\n",
    "            if self.y == self.grid_size - 3:\n",
    "                self.y = self.y - 1\n",
    "            else:\n",
    "                self.y = self.y + 1\n",
    "        elif action == 3: # Up\n",
    "            if self.y == 2:\n",
    "                self.y = self.y + 1\n",
    "            else:\n",
    "                self.y = self.y - 1\n",
    "        else:\n",
    "            RuntimeError('Error: action not recognized')\n",
    "\n",
    "        self.t = self.t + 1\n",
    "        reward = self.board[self.x, self.y]\n",
    "        self.board[self.x, self.y] = 0\n",
    "        game_over = self.t > self.max_time\n",
    "        state = np.concatenate((self.board.reshape(self.grid_size, self.grid_size,1),\n",
    "                        self.position.reshape(self.grid_size, self.grid_size,1)),axis=2)\n",
    "        state = state[self.x-2:self.x+3,self.y-2:self.y+3,:]\n",
    "\n",
    "        return state, reward, game_over\n",
    "\n",
    "    def reset(self):\n",
    "        \"\"\"This function resets the game and returns the initial state\"\"\"\n",
    "\n",
    "        self.x = np.random.randint(3, self.grid_size-3, size=1)[0]\n",
    "        self.y = np.random.randint(3, self.grid_size-3, size=1)[0]\n",
    "\n",
    "\n",
    "        bonus = 0.5*np.random.binomial(1,self.temperature,size=self.grid_size**2)\n",
    "        bonus = bonus.reshape(self.grid_size,self.grid_size)\n",
    "\n",
    "        malus = -1.0*np.random.binomial(1,self.temperature,size=self.grid_size**2)\n",
    "        malus = malus.reshape(self.grid_size, self.grid_size)\n",
    "\n",
    "        self.to_draw = np.zeros((self.max_time+2, self.grid_size*self.scale, self.grid_size*self.scale, 3))\n",
    "\n",
    "\n",
    "        malus[bonus>0]=0\n",
    "\n",
    "        self.board = bonus + malus\n",
    "\n",
    "        self.position = np.zeros((self.grid_size, self.grid_size))\n",
    "        self.position[0:2,:]= -1\n",
    "        self.position[:,0:2] = -1\n",
    "        self.position[-2:, :] = -1\n",
    "        self.position[:, -2:] = -1\n",
    "        self.board[self.x,self.y] = 0\n",
    "        self.t = 0\n",
    "\n",
    "        state = np.concatenate((\n",
    "                               self.board.reshape(self.grid_size, self.grid_size,1),\n",
    "                        self.position.reshape(self.grid_size, self.grid_size,1)),axis=2)\n",
    "\n",
    "        state = state[self.x - 2:self.x + 3, self.y - 2:self.y + 3, :]\n",
    "        return state"
   ]
  },
  {
   "cell_type": "markdown",
   "metadata": {},
   "source": [
    "The following elements are important because they correspond to the hyper parameters for this project:"
   ]
  },
  {
   "cell_type": "code",
   "execution_count": 8,
   "metadata": {},
   "outputs": [],
   "source": [
    "# parameters\n",
    "size = 13\n",
    "T=200\n",
    "temperature=0.3\n",
    "epochs_train=100 # set small when debugging\n",
    "epochs_test=10 # set small when debugging\n",
    "\n",
    "# display videos\n",
    "def display_videos(name):\n",
    "    video = io.open(name, 'r+b').read()\n",
    "    encoded = base64.b64encode(video)\n",
    "    return '''<video alt=\"test\" controls>\n",
    "                <source src=\"data:video/mp4;base64,{0}\" type=\"video/mp4\" />\n",
    "             </video>'''.format(encoded.decode('ascii'))\n"
   ]
  },
  {
   "cell_type": "markdown",
   "metadata": {},
   "source": [
    "__Question 2__ Explain the use of the arrays ```position``` and ```board```."
   ]
  },
  {
   "cell_type": "markdown",
   "metadata": {},
   "source": [
    "```position``` stores an image of the world containing it's boundaries as well as the player position.\n",
    "\n",
    "```board``` stores an image of the position of fruits and poison, it is used to compute the current state as well as the reward."
   ]
  },
  {
   "cell_type": "markdown",
   "metadata": {},
   "source": [
    "## Random Agent"
   ]
  },
  {
   "cell_type": "markdown",
   "metadata": {},
   "source": [
    "***\n",
    "__Question 3__ Implement a random Agent (only ```learned_act``` needs to be implemented):"
   ]
  },
  {
   "cell_type": "code",
   "execution_count": 9,
   "metadata": {},
   "outputs": [],
   "source": [
    "class RandomAgent(Agent):\n",
    "    def __init__(self):\n",
    "        super(RandomAgent, self).__init__()\n",
    "        pass\n",
    "\n",
    "    def learned_act(self, s):\n",
    "        return np.random.randint(self.n_action)"
   ]
  },
  {
   "cell_type": "markdown",
   "metadata": {},
   "source": [
    "***\n",
    "***\n",
    "__Question 4__ Visualize the game moves. You need to fill in the following function for the evaluation:"
   ]
  },
  {
   "cell_type": "code",
   "execution_count": 10,
   "metadata": {},
   "outputs": [],
   "source": [
    "def test(agent,env,epochs,prefix=''):\n",
    "    # Number of won games\n",
    "    score = 0\n",
    "        \n",
    "    for e in range(epochs):\n",
    "        \n",
    "        state = env.reset()\n",
    "        \n",
    "        done = False\n",
    "        win = 0\n",
    "        lose = 0\n",
    "        \n",
    "        while not done:\n",
    "            # The agent performs an action\n",
    "            action = agent.act(state)\n",
    "\n",
    "            # Apply an action to the environment, get the next state, the reward\n",
    "            # and if the games end\n",
    "            prev_state = state\n",
    "            state, reward, done = env.act(action)\n",
    "\n",
    "            # Update the counters\n",
    "            if reward > 0:\n",
    "                win = win + reward\n",
    "            if reward < 0:\n",
    "                lose = lose -reward\n",
    "            \n",
    "        # Save as a mp4\n",
    "        env.draw(prefix+str(e))\n",
    "\n",
    "        # Update stats\n",
    "        score = score + win-lose\n",
    "\n",
    "        print(\"Win/lose count {}/{}. Average score ({})\"\n",
    "              .format(win, lose, score/(1+e)))\n",
    "    print('Final score: '+str(score/epochs))"
   ]
  },
  {
   "cell_type": "code",
   "execution_count": 11,
   "metadata": {},
   "outputs": [
    {
     "name": "stdout",
     "output_type": "stream",
     "text": [
      "Win/lose count 7.5/16.0. Average score (-8.5)\n",
      "Win/lose count 8.0/10.0. Average score (-5.25)\n",
      "Win/lose count 12.5/10.0. Average score (-2.6666666666666665)\n",
      "Win/lose count 8.0/13.0. Average score (-3.25)\n",
      "Win/lose count 10.5/15.0. Average score (-3.5)\n",
      "Win/lose count 8.5/13.0. Average score (-3.6666666666666665)\n",
      "Win/lose count 9.0/12.0. Average score (-3.5714285714285716)\n",
      "Win/lose count 11.0/14.0. Average score (-3.5)\n",
      "Win/lose count 4.0/12.0. Average score (-4.0)\n",
      "Win/lose count 11.0/14.0. Average score (-3.9)\n",
      "Final score: -3.9\n"
     ]
    },
    {
     "data": {
      "text/html": [
       "<video alt=\"test\" controls>\n",
       "                <source src=\"data:video/mp4;base64,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\" type=\"video/mp4\" />\n",
       "             </video>"
      ],
      "text/plain": [
       "<IPython.core.display.HTML object>"
      ]
     },
     "execution_count": 11,
     "metadata": {},
     "output_type": "execute_result"
    }
   ],
   "source": [
    "# Initialize the game\n",
    "env = Environment(grid_size=size, max_time=T,temperature=temperature)\n",
    "\n",
    "# Initialize the agent!\n",
    "agent = RandomAgent()\n",
    "\n",
    "test(agent,env,epochs_test,prefix='random')\n",
    "HTML(display_videos('random0.mp4'))\n"
   ]
  },
  {
   "cell_type": "markdown",
   "metadata": {},
   "source": [
    "***\n",
    "## DQN"
   ]
  },
  {
   "cell_type": "markdown",
   "metadata": {},
   "source": [
    "Let us assume here that $T=\\infty$.\n",
    "\n",
    "***\n",
    "__Question 5__ Let $\\pi$ be a policy, show that:\n",
    "\n",
    "\\begin{equation*}\n",
    "Q^{\\pi}(s,a)=E_{(s',a')\\sim p(.|s,a)}[r(s,a)+\\gamma Q^{\\pi}(s',a')]\n",
    "\\end{equation*}\n",
    "\n",
    "Then, show that for the optimal policy $\\pi^*$ (we assume its existence), the following holds: \n",
    "\n",
    "\\begin{equation*}\n",
    "Q^{*}(s,a)=E_{s'\\sim \\pi^*(.|s,a)}[r(s,a)+\\gamma\\max_{a'}Q^{*}(s',a')].\n",
    "\\end{equation*}\n",
    "Finally, deduce that a plausible objective is:\n",
    "\n",
    "\\begin{equation*}\n",
    "\\mathcal{L}(\\theta)=E_{s' \\sim \\pi^*(.|s,a)}\\Vert r+\\gamma\\max_{a'}Q(s',a',\\theta)-Q(s,a,\\theta)\\Vert^{2}.\n",
    "\\end{equation*}\n",
    "\n",
    "\n"
   ]
  },
  {
   "cell_type": "markdown",
   "metadata": {},
   "source": [
    "- For any policy $\\pi$ we have\n",
    "$$ Q^{\\pi}(s,a) = E_{\\pi}\\left[ \\sum_{k=0}^{\\infty}\\gamma^kr_k \\mid s_0=s, a_0=a \\right] $$\n",
    "$$ Q^{\\pi}(s,a) = E_{\\pi}\\left[r(s_0,a_0) + \\gamma\\sum_{k=1}^{\\infty}\\gamma^kr_k\\mid s_0=s, a_0=a  \\right]  $$\n",
    "$$ Q^{\\pi}(s,a) = E_{(s',a')\\sim \\pi(.\\mid s,a)}\\left[  r(s,a) + \\gamma E_{\\pi}\\left[  \\sum_{k=0}^{+\\infty}\\gamma^kr(s_{k+1},a_{k+1}\\mid s_1=s', a_1=a'  \\right] \\mid s_0=s, a_0=a   \\right] $$\n",
    "and finally\n",
    "$$ Q^{\\pi}(s,a) =  E_{(s',a')\\sim p(.|s,a)}[r(s,a)+\\gamma Q^{\\pi}(s',a')]$$"
   ]
  },
  {
   "cell_type": "markdown",
   "metadata": {},
   "source": [
    "- For the optimal policy $\\pi^*$, the following must hold\n",
    "$$Q^{*}(s,a)=E_{s'\\sim \\pi^*(.|s,a)}[r(s,a)+\\gamma\\max_{a'}Q^{*}(s',a')]$$\n",
    "as selecting a value out of $\\arg\\max_{a'}Q^*(s',a')$ would raise a policy with a value function smaller than the optimal one in state $s'$ which is $V^*(s') = \\max_{a'}Q^*(s',a')$."
   ]
  },
  {
   "cell_type": "markdown",
   "metadata": {},
   "source": [
    "- The last equality can be expressed as \n",
    "$$ 0 = E_{s'\\sim \\pi^*(.|s,a)}[r(s,a)+\\gamma\\max_{a'}Q^{*}(s',a') - Q^{*}(s,a)]$$\n",
    "and thus finding a value function that minimizes this quantity is interesting. To do so, it seems appropriate to use the following loss\n",
    "$$\\mathcal{L}(\\theta)=E_{s' \\sim \\pi^*(.|s,a)}\\Vert r+\\gamma\\max_{a'}Q(s',a',\\theta)-Q(s,a,\\theta)\\Vert^{2}.$$"
   ]
  },
  {
   "cell_type": "markdown",
   "metadata": {},
   "source": [
    "***\n",
    "The DQN-learning algorithm relies on these derivations to train the parameters $\\theta$ of a Deep Neural Network:\n",
    "\n",
    "1. At the state $s_t$, select the action $a_t$ with best reward using $Q_t$ and store the results;\n",
    "\n",
    "2. Obtain the new state $s_{t+1}$ from the environment $p$;\n",
    "\n",
    "3. Store $(s_t,a_t,s_{t+1})$;\n",
    "\n",
    "4. Obtain $Q_{t+1}$ by minimizing  $\\mathcal{L}$ from a recovered batch from the previously stored results.\n",
    "\n",
    "***\n",
    "__Question 6__ Implement the class ```Memory``` that stores moves (in a replay buffer) via ```remember``` and provides a ```random_access``` to these. Specify a maximum memory size to avoid side effects. You can for example use a ```list()``` and set by default ```max_memory=100```."
   ]
  },
  {
   "cell_type": "code",
   "execution_count": 12,
   "metadata": {},
   "outputs": [],
   "source": [
    "import random\n",
    "\n",
    "class Memory(object):\n",
    "    def __init__(self, max_memory=100):\n",
    "        self.max_memory = max_memory\n",
    "        self.memory = list()\n",
    "\n",
    "    def remember(self, m):\n",
    "        if len(self.memory) < self.max_memory:\n",
    "            self.memory.append(m)\n",
    "        else:\n",
    "            self.memory[random.randrange(self.max_memory)] = m\n",
    "\n",
    "    def random_access(self):\n",
    "        return random.choice(self.memory)"
   ]
  },
  {
   "cell_type": "markdown",
   "metadata": {},
   "source": [
    "***\n",
    "The pipeline we will use for training is given below:"
   ]
  },
  {
   "cell_type": "code",
   "execution_count": 13,
   "metadata": {},
   "outputs": [],
   "source": [
    "def train(agent,env,epoch,prefix=''):\n",
    "    # Number of won games\n",
    "    score = 0\n",
    "    loss = 0\n",
    "\n",
    "    for e in range(epoch):\n",
    "        # At each epoch, we restart to a fresh game and get the initial state\n",
    "        state = env.reset()\n",
    "        # This assumes that the games will terminate\n",
    "        game_over = False\n",
    "\n",
    "        win = 0\n",
    "        lose = 0\n",
    "\n",
    "        while not game_over:\n",
    "            # The agent performs an action\n",
    "            action = agent.act(state, train=True)\n",
    "\n",
    "            # Apply an action to the environment, get the next state, the reward\n",
    "            # and if the games end\n",
    "            prev_state = state\n",
    "            state, reward, game_over = env.act(action)\n",
    "\n",
    "            # Update the counters\n",
    "            if reward > 0:\n",
    "                win = win + reward\n",
    "            if reward < 0:\n",
    "                lose = lose -reward\n",
    "\n",
    "            # Apply the reinforcement strategy\n",
    "            loss = agent.reinforce(prev_state, state,  action, reward, game_over)\n",
    "\n",
    "        # Save as a mp4\n",
    "        if e % 10 == 0:\n",
    "            env.draw(prefix+str(e))\n",
    "\n",
    "        # Update stats\n",
    "        score += win-lose\n",
    "\n",
    "        print(\"Epoch {:03d}/{:03d} | Loss {:.4f} | Win/lose count {}/{} ({})\"\n",
    "              .format(e, epoch, loss, win, lose, win-lose))\n",
    "        agent.save(name_weights=prefix+'model.h5',name_model=prefix+'model.json')"
   ]
  },
  {
   "cell_type": "markdown",
   "metadata": {},
   "source": [
    "***\n",
    "__Question 7__ Implement the DQN training algorithm using a cascade of fully connected layers. You can use different learning rate, batch size or memory size parameters. In particular, the loss might oscillate while the player will start to win the games. You have to find a good criterium."
   ]
  },
  {
   "cell_type": "code",
   "execution_count": 14,
   "metadata": {},
   "outputs": [],
   "source": [
    "class DQN(Agent):\n",
    "    def __init__(self, grid_size,  epsilon = 0.1, memory_size=100, batch_size = 16,n_state=2):\n",
    "        super(DQN, self).__init__(epsilon = epsilon)\n",
    "\n",
    "        # Discount for Q learning\n",
    "        self.discount = 0.99\n",
    "        \n",
    "        self.grid_size = grid_size\n",
    "        \n",
    "        # number of state\n",
    "        self.n_state = n_state\n",
    "\n",
    "        # Memory\n",
    "        self.memory = Memory(memory_size)\n",
    "        \n",
    "        # Batch size when learning\n",
    "        self.batch_size = batch_size\n",
    "\n",
    "    def learned_act(self, s):\n",
    "        pred = self.predict(s)\n",
    "        return pred.argmax()\n",
    "\n",
    "    def reinforce(self, s_, n_s_, a_, r_, game_over_):\n",
    "        # Two steps: first memorize the states, second learn from the pool\n",
    "\n",
    "        self.memory.remember([s_, n_s_, a_, r_, game_over_])\n",
    "        \n",
    "        input_states = np.zeros((self.batch_size, 5,5,self.n_state))\n",
    "        target_q = np.zeros((self.batch_size, 4))\n",
    "        \n",
    "        for i in range(self.batch_size):\n",
    "            s, ns, a, r, game_over_ = self.memory.random_access()\n",
    "            input_states[i] = s\n",
    "            # Dont't change value function for actions not taken\n",
    "            target_q[i] = self.predict(s)\n",
    "            if game_over_:\n",
    "                target_q[i,a] = r\n",
    "            else:\n",
    "                prediction = self.predict(ns)\n",
    "                target_q[i,a] = r + self.gamma * prediction.max()\n",
    "            \n",
    "        input_states = self.reshape_batch(input_states)\n",
    "        \n",
    "        # HINT: Clip the target to avoid exploiding gradients.. -- clipping is a bit tighter\n",
    "        target_q = np.clip(target_q, -3, 3)\n",
    "\n",
    "        l = self.model.train_on_batch(input_states, target_q)\n",
    "\n",
    "\n",
    "        return l\n",
    "\n",
    "    def save(self,name_weights='model.h5',name_model='model.json'):\n",
    "        self.model.save_weights(name_weights, overwrite=True)\n",
    "        with open(name_model, \"w\") as outfile:\n",
    "            json.dump(self.model.to_json(), outfile)\n",
    "            \n",
    "    def load(self,name_weights='model.h5',name_model='model.json'):\n",
    "        with open(name_model, \"r\") as jfile:\n",
    "            model = model_from_json(json.load(jfile))\n",
    "        model.load_weights(name_weights)\n",
    "        model.compile(\"sgd\", \"mse\")\n",
    "        self.model = model\n",
    "\n",
    "    def reshape_batch(self, batch):\n",
    "        return batch\n",
    "            \n",
    "class DQN_FC(DQN):\n",
    "    def __init__(self, *args, lr=0.1,**kwargs):\n",
    "        super(DQN_FC, self).__init__( *args,**kwargs)\n",
    "        \n",
    "        # NN Model\n",
    "        self.gamma = 0.9\n",
    "        \n",
    "        model = Sequential([\n",
    "            Dense(4, input_shape=(50,))\n",
    "        ])\n",
    "        \n",
    "        model.compile(sgd(lr=lr, decay=1e-4, momentum=0.0), \"mse\")\n",
    "        self.model = model\n",
    "\n",
    "    def predict(self,s):\n",
    "        return self.model.predict(s.reshape(1,-1))[0]\n",
    "\n",
    "    def reshape_batch(self, batch):\n",
    "        return batch.reshape(self.batch_size, -1)"
   ]
  },
  {
   "cell_type": "code",
   "execution_count": 15,
   "metadata": {},
   "outputs": [
    {
     "name": "stdout",
     "output_type": "stream",
     "text": [
      "Epoch 000/100 | Loss 0.0182 | Win/lose count 2.0/3.0 (-1.0)\n",
      "Epoch 001/100 | Loss 0.0070 | Win/lose count 3.0/4.0 (-1.0)\n",
      "Epoch 002/100 | Loss 0.0167 | Win/lose count 10.5/13.0 (-2.5)\n",
      "Epoch 003/100 | Loss 0.0221 | Win/lose count 2.5/3.0 (-0.5)\n",
      "Epoch 004/100 | Loss 0.0079 | Win/lose count 3.0/3.0 (0.0)\n",
      "Epoch 005/100 | Loss 0.0201 | Win/lose count 5.0/5.0 (0.0)\n",
      "Epoch 006/100 | Loss 0.0106 | Win/lose count 1.5/1.0 (0.5)\n",
      "Epoch 007/100 | Loss 0.0070 | Win/lose count 6.0/4.0 (2.0)\n",
      "Epoch 008/100 | Loss 0.0126 | Win/lose count 3.5/1.0 (2.5)\n",
      "Epoch 009/100 | Loss 0.0064 | Win/lose count 6.5/1.0 (5.5)\n",
      "Epoch 010/100 | Loss 0.0099 | Win/lose count 4.5/2.0 (2.5)\n",
      "Epoch 011/100 | Loss 0.0088 | Win/lose count 13.0/6.0 (7.0)\n",
      "Epoch 012/100 | Loss 0.0087 | Win/lose count 6.0/3.0 (3.0)\n",
      "Epoch 013/100 | Loss 0.0061 | Win/lose count 7.0/2.0 (5.0)\n",
      "Epoch 014/100 | Loss 0.0075 | Win/lose count 5.5/0 (5.5)\n",
      "Epoch 015/100 | Loss 0.0066 | Win/lose count 7.0/1.0 (6.0)\n",
      "Epoch 016/100 | Loss 0.0118 | Win/lose count 4.0/2.0 (2.0)\n",
      "Epoch 017/100 | Loss 0.0030 | Win/lose count 4.5/3.0 (1.5)\n",
      "Epoch 018/100 | Loss 0.0059 | Win/lose count 6.0/4.0 (2.0)\n",
      "Epoch 019/100 | Loss 0.0085 | Win/lose count 10.0/3.0 (7.0)\n",
      "Epoch 020/100 | Loss 0.0061 | Win/lose count 8.0/2.0 (6.0)\n",
      "Epoch 021/100 | Loss 0.0085 | Win/lose count 10.5/2.0 (8.5)\n",
      "Epoch 022/100 | Loss 0.0041 | Win/lose count 5.0/1.0 (4.0)\n",
      "Epoch 023/100 | Loss 0.0036 | Win/lose count 9.5/2.0 (7.5)\n",
      "Epoch 024/100 | Loss 0.0066 | Win/lose count 9.0/0 (9.0)\n",
      "Epoch 025/100 | Loss 0.0035 | Win/lose count 10.0/1.0 (9.0)\n",
      "Epoch 026/100 | Loss 0.0072 | Win/lose count 8.5/2.0 (6.5)\n",
      "Epoch 027/100 | Loss 0.0027 | Win/lose count 8.0/2.0 (6.0)\n",
      "Epoch 028/100 | Loss 0.0077 | Win/lose count 13.0/6.0 (7.0)\n",
      "Epoch 029/100 | Loss 0.0141 | Win/lose count 15.5/1.0 (14.5)\n",
      "Epoch 030/100 | Loss 0.0052 | Win/lose count 15.0/6.0 (9.0)\n",
      "Epoch 031/100 | Loss 0.0087 | Win/lose count 18.0/3.0 (15.0)\n",
      "Epoch 032/100 | Loss 0.0105 | Win/lose count 5.5/1.0 (4.5)\n",
      "Epoch 033/100 | Loss 0.0107 | Win/lose count 14.5/3.0 (11.5)\n",
      "Epoch 034/100 | Loss 0.0047 | Win/lose count 9.0/2.0 (7.0)\n",
      "Epoch 035/100 | Loss 0.0101 | Win/lose count 7.5/1.0 (6.5)\n",
      "Epoch 036/100 | Loss 0.0084 | Win/lose count 9.5/2.0 (7.5)\n",
      "Epoch 037/100 | Loss 0.0091 | Win/lose count 17.0/4.0 (13.0)\n",
      "Epoch 038/100 | Loss 0.0119 | Win/lose count 5.5/0 (5.5)\n",
      "Epoch 039/100 | Loss 0.0049 | Win/lose count 4.0/1.0 (3.0)\n",
      "Epoch 040/100 | Loss 0.0082 | Win/lose count 15.0/5.0 (10.0)\n",
      "Epoch 041/100 | Loss 0.0031 | Win/lose count 14.0/3.0 (11.0)\n",
      "Epoch 042/100 | Loss 0.0104 | Win/lose count 8.0/7.0 (1.0)\n",
      "Epoch 043/100 | Loss 0.0072 | Win/lose count 16.5/4.0 (12.5)\n",
      "Epoch 044/100 | Loss 0.0040 | Win/lose count 16.0/4.0 (12.0)\n",
      "Epoch 045/100 | Loss 0.0048 | Win/lose count 5.0/1.0 (4.0)\n",
      "Epoch 046/100 | Loss 0.0100 | Win/lose count 4.0/0 (4.0)\n",
      "Epoch 047/100 | Loss 0.0038 | Win/lose count 21.0/5.0 (16.0)\n",
      "Epoch 048/100 | Loss 0.0056 | Win/lose count 19.5/6.0 (13.5)\n",
      "Epoch 049/100 | Loss 0.0080 | Win/lose count 7.5/2.0 (5.5)\n",
      "Epoch 050/100 | Loss 0.0040 | Win/lose count 9.0/2.0 (7.0)\n",
      "Epoch 051/100 | Loss 0.0035 | Win/lose count 17.0/1.0 (16.0)\n",
      "Epoch 052/100 | Loss 0.0122 | Win/lose count 7.0/1.0 (6.0)\n",
      "Epoch 053/100 | Loss 0.0033 | Win/lose count 8.5/0 (8.5)\n",
      "Epoch 054/100 | Loss 0.0040 | Win/lose count 6.0/1.0 (5.0)\n",
      "Epoch 055/100 | Loss 0.0046 | Win/lose count 23.5/1.0 (22.5)\n",
      "Epoch 056/100 | Loss 0.0078 | Win/lose count 16.5/3.0 (13.5)\n",
      "Epoch 057/100 | Loss 0.0035 | Win/lose count 18.0/3.0 (15.0)\n",
      "Epoch 058/100 | Loss 0.0094 | Win/lose count 15.0/1.0 (14.0)\n",
      "Epoch 059/100 | Loss 0.0118 | Win/lose count 20.5/2.0 (18.5)\n",
      "Epoch 060/100 | Loss 0.0034 | Win/lose count 11.5/4.0 (7.5)\n",
      "Epoch 061/100 | Loss 0.0110 | Win/lose count 15.0/0 (15.0)\n",
      "Epoch 062/100 | Loss 0.0077 | Win/lose count 15.5/2.0 (13.5)\n",
      "Epoch 063/100 | Loss 0.0096 | Win/lose count 7.5/3.0 (4.5)\n",
      "Epoch 064/100 | Loss 0.0026 | Win/lose count 19.5/1.0 (18.5)\n",
      "Epoch 065/100 | Loss 0.0178 | Win/lose count 9.0/3.0 (6.0)\n",
      "Epoch 066/100 | Loss 0.0079 | Win/lose count 11.5/2.0 (9.5)\n",
      "Epoch 067/100 | Loss 0.0089 | Win/lose count 12.5/0 (12.5)\n",
      "Epoch 068/100 | Loss 0.0107 | Win/lose count 16.5/2.0 (14.5)\n",
      "Epoch 069/100 | Loss 0.0115 | Win/lose count 13.5/2.0 (11.5)\n",
      "Epoch 070/100 | Loss 0.0036 | Win/lose count 11.5/0 (11.5)\n",
      "Epoch 071/100 | Loss 0.0046 | Win/lose count 3.5/1.0 (2.5)\n",
      "Epoch 072/100 | Loss 0.0032 | Win/lose count 9.5/1.0 (8.5)\n",
      "Epoch 073/100 | Loss 0.0082 | Win/lose count 11.5/1.0 (10.5)\n",
      "Epoch 074/100 | Loss 0.0050 | Win/lose count 9.5/1.0 (8.5)\n",
      "Epoch 075/100 | Loss 0.0022 | Win/lose count 6.0/1.0 (5.0)\n",
      "Epoch 076/100 | Loss 0.0062 | Win/lose count 22.0/2.0 (20.0)\n",
      "Epoch 077/100 | Loss 0.0101 | Win/lose count 12.0/1.0 (11.0)\n",
      "Epoch 078/100 | Loss 0.0080 | Win/lose count 14.5/2.0 (12.5)\n",
      "Epoch 079/100 | Loss 0.0059 | Win/lose count 8.5/0 (8.5)\n",
      "Epoch 080/100 | Loss 0.0056 | Win/lose count 14.5/1.0 (13.5)\n",
      "Epoch 081/100 | Loss 0.0059 | Win/lose count 16.5/0 (16.5)\n",
      "Epoch 082/100 | Loss 0.0017 | Win/lose count 11.5/1.0 (10.5)\n",
      "Epoch 083/100 | Loss 0.0059 | Win/lose count 10.5/2.0 (8.5)\n",
      "Epoch 084/100 | Loss 0.0073 | Win/lose count 19.0/0 (19.0)\n",
      "Epoch 085/100 | Loss 0.0036 | Win/lose count 11.0/0 (11.0)\n",
      "Epoch 086/100 | Loss 0.0071 | Win/lose count 14.5/1.0 (13.5)\n",
      "Epoch 087/100 | Loss 0.0115 | Win/lose count 9.0/1.0 (8.0)\n",
      "Epoch 088/100 | Loss 0.0087 | Win/lose count 7.0/1.0 (6.0)\n",
      "Epoch 089/100 | Loss 0.0113 | Win/lose count 24.5/3.0 (21.5)\n",
      "Epoch 090/100 | Loss 0.0096 | Win/lose count 5.5/1.0 (4.5)\n",
      "Epoch 091/100 | Loss 0.0087 | Win/lose count 12.5/1.0 (11.5)\n",
      "Epoch 092/100 | Loss 0.0038 | Win/lose count 15.0/2.0 (13.0)\n",
      "Epoch 093/100 | Loss 0.0063 | Win/lose count 4.5/0 (4.5)\n",
      "Epoch 094/100 | Loss 0.0101 | Win/lose count 25.0/1.0 (24.0)\n",
      "Epoch 095/100 | Loss 0.0060 | Win/lose count 5.0/1.0 (4.0)\n",
      "Epoch 096/100 | Loss 0.0064 | Win/lose count 14.0/1.0 (13.0)\n",
      "Epoch 097/100 | Loss 0.0180 | Win/lose count 14.5/0 (14.5)\n",
      "Epoch 098/100 | Loss 0.0045 | Win/lose count 14.0/1.0 (13.0)\n",
      "Epoch 099/100 | Loss 0.0044 | Win/lose count 12.5/1.0 (11.5)\n"
     ]
    },
    {
     "data": {
      "text/html": [
       "<video alt=\"test\" controls>\n",
       "                <source src=\"data:video/mp4;base64,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\" type=\"video/mp4\" />\n",
       "             </video>"
      ],
      "text/plain": [
       "<IPython.core.display.HTML object>"
      ]
     },
     "execution_count": 15,
     "metadata": {},
     "output_type": "execute_result"
    }
   ],
   "source": [
    "env = Environment(grid_size=size, max_time=T, temperature=0.3)\n",
    "agent = DQN_FC(size, lr=.1, epsilon = 0.1, memory_size=2000, batch_size = 32)\n",
    "train(agent, env, epochs_train, prefix='fc_train')\n",
    "HTML(display_videos('fc_train0.mp4'))"
   ]
  },
  {
   "cell_type": "markdown",
   "metadata": {},
   "source": [
    "***\n",
    "***\n",
    "__Question 8__ Implement the DQN training algorithm using a CNN (for example, 2 convolutional layers and one final fully connected layer)."
   ]
  },
  {
   "cell_type": "code",
   "execution_count": 16,
   "metadata": {},
   "outputs": [],
   "source": [
    "class DQN_CNN(DQN):\n",
    "    def __init__(self, *args,lr=0.1,**kwargs):\n",
    "        super(DQN_CNN, self).__init__(*args,**kwargs)\n",
    "        \n",
    "        self.gamma = 0.9\n",
    "        \n",
    "        model = Sequential([\n",
    "            Conv2D(16,3,activation=\"relu\"),\n",
    "            Conv2D(16,3,activation=\"relu\"),\n",
    "            Flatten(),\n",
    "            Dense(4)\n",
    "        ])\n",
    "        \n",
    "        model.compile(sgd(lr=lr, decay=1e-4, momentum=0.0), \"mse\")\n",
    "        self.model = model\n",
    "    \n",
    "    def predict(self, s):\n",
    "        return self.model.predict(s[np.newaxis])"
   ]
  },
  {
   "cell_type": "code",
   "execution_count": 17,
   "metadata": {},
   "outputs": [
    {
     "name": "stdout",
     "output_type": "stream",
     "text": [
      "Epoch 000/100 | Loss 0.0012 | Win/lose count 3.5/2.0 (1.5)\n",
      "Epoch 001/100 | Loss 0.0160 | Win/lose count 4.0/3.0 (1.0)\n",
      "Epoch 002/100 | Loss 0.0112 | Win/lose count 3.5/5.0 (-1.5)\n",
      "Epoch 003/100 | Loss 0.0030 | Win/lose count 4.0/2.0 (2.0)\n",
      "Epoch 004/100 | Loss 0.0027 | Win/lose count 4.5/1.0 (3.5)\n",
      "Epoch 005/100 | Loss 0.0043 | Win/lose count 4.0/3.0 (1.0)\n",
      "Epoch 006/100 | Loss 0.0033 | Win/lose count 3.0/7.0 (-4.0)\n",
      "Epoch 007/100 | Loss 0.0069 | Win/lose count 3.0/2.0 (1.0)\n",
      "Epoch 008/100 | Loss 0.0047 | Win/lose count 2.0/4.0 (-2.0)\n",
      "Epoch 009/100 | Loss 0.0065 | Win/lose count 2.0/2.0 (0.0)\n",
      "Epoch 010/100 | Loss 0.0021 | Win/lose count 4.0/0 (4.0)\n",
      "Epoch 011/100 | Loss 0.0039 | Win/lose count 3.0/2.0 (1.0)\n",
      "Epoch 012/100 | Loss 0.0089 | Win/lose count 6.5/4.0 (2.5)\n",
      "Epoch 013/100 | Loss 0.0024 | Win/lose count 10.5/3.0 (7.5)\n",
      "Epoch 014/100 | Loss 0.0013 | Win/lose count 8.0/4.0 (4.0)\n",
      "Epoch 015/100 | Loss 0.0004 | Win/lose count 2.0/4.0 (-2.0)\n",
      "Epoch 016/100 | Loss 0.0010 | Win/lose count 2.5/3.0 (-0.5)\n",
      "Epoch 017/100 | Loss 0.0031 | Win/lose count 9.0/2.0 (7.0)\n",
      "Epoch 018/100 | Loss 0.0060 | Win/lose count 5.5/3.0 (2.5)\n",
      "Epoch 019/100 | Loss 0.0035 | Win/lose count 3.0/3.0 (0.0)\n",
      "Epoch 020/100 | Loss 0.0061 | Win/lose count 9.5/9.0 (0.5)\n",
      "Epoch 021/100 | Loss 0.0169 | Win/lose count 4.0/3.0 (1.0)\n",
      "Epoch 022/100 | Loss 0.0037 | Win/lose count 13.5/0 (13.5)\n",
      "Epoch 023/100 | Loss 0.0093 | Win/lose count 6.0/5.0 (1.0)\n",
      "Epoch 024/100 | Loss 0.0058 | Win/lose count 11.5/1.0 (10.5)\n",
      "Epoch 025/100 | Loss 0.0090 | Win/lose count 11.0/2.0 (9.0)\n",
      "Epoch 026/100 | Loss 0.0044 | Win/lose count 9.5/4.0 (5.5)\n",
      "Epoch 027/100 | Loss 0.0027 | Win/lose count 5.0/2.0 (3.0)\n",
      "Epoch 028/100 | Loss 0.0032 | Win/lose count 4.5/1.0 (3.5)\n",
      "Epoch 029/100 | Loss 0.0036 | Win/lose count 12.0/4.0 (8.0)\n",
      "Epoch 030/100 | Loss 0.0027 | Win/lose count 10.0/2.0 (8.0)\n",
      "Epoch 031/100 | Loss 0.0039 | Win/lose count 8.5/1.0 (7.5)\n",
      "Epoch 032/100 | Loss 0.0034 | Win/lose count 3.0/0 (3.0)\n",
      "Epoch 033/100 | Loss 0.0110 | Win/lose count 9.5/1.0 (8.5)\n",
      "Epoch 034/100 | Loss 0.0042 | Win/lose count 13.0/3.0 (10.0)\n",
      "Epoch 035/100 | Loss 0.0118 | Win/lose count 16.0/3.0 (13.0)\n",
      "Epoch 036/100 | Loss 0.0027 | Win/lose count 17.5/1.0 (16.5)\n",
      "Epoch 037/100 | Loss 0.0041 | Win/lose count 4.5/1.0 (3.5)\n",
      "Epoch 038/100 | Loss 0.0052 | Win/lose count 15.5/4.0 (11.5)\n",
      "Epoch 039/100 | Loss 0.0041 | Win/lose count 14.5/4.0 (10.5)\n",
      "Epoch 040/100 | Loss 0.0060 | Win/lose count 16.0/0 (16.0)\n",
      "Epoch 041/100 | Loss 0.0081 | Win/lose count 6.0/4.0 (2.0)\n",
      "Epoch 042/100 | Loss 0.0069 | Win/lose count 6.0/2.0 (4.0)\n",
      "Epoch 043/100 | Loss 0.0106 | Win/lose count 16.0/4.0 (12.0)\n",
      "Epoch 044/100 | Loss 0.0046 | Win/lose count 12.0/6.0 (6.0)\n",
      "Epoch 045/100 | Loss 0.0135 | Win/lose count 23.0/2.0 (21.0)\n",
      "Epoch 046/100 | Loss 0.0062 | Win/lose count 15.0/1.0 (14.0)\n",
      "Epoch 047/100 | Loss 0.0097 | Win/lose count 22.0/0 (22.0)\n",
      "Epoch 048/100 | Loss 0.0070 | Win/lose count 15.5/7.0 (8.5)\n",
      "Epoch 049/100 | Loss 0.0050 | Win/lose count 27.5/1.0 (26.5)\n",
      "Epoch 050/100 | Loss 0.0064 | Win/lose count 28.0/1.0 (27.0)\n",
      "Epoch 051/100 | Loss 0.0070 | Win/lose count 6.0/0 (6.0)\n",
      "Epoch 052/100 | Loss 0.0029 | Win/lose count 13.5/2.0 (11.5)\n",
      "Epoch 053/100 | Loss 0.0071 | Win/lose count 19.0/3.0 (16.0)\n",
      "Epoch 054/100 | Loss 0.0245 | Win/lose count 17.0/1.0 (16.0)\n",
      "Epoch 055/100 | Loss 0.0046 | Win/lose count 18.5/1.0 (17.5)\n",
      "Epoch 056/100 | Loss 0.0034 | Win/lose count 11.0/2.0 (9.0)\n",
      "Epoch 057/100 | Loss 0.0138 | Win/lose count 9.0/1.0 (8.0)\n",
      "Epoch 058/100 | Loss 0.0161 | Win/lose count 18.0/2.0 (16.0)\n",
      "Epoch 059/100 | Loss 0.0071 | Win/lose count 17.5/0 (17.5)\n",
      "Epoch 060/100 | Loss 0.0154 | Win/lose count 25.5/1.0 (24.5)\n",
      "Epoch 061/100 | Loss 0.0152 | Win/lose count 12.0/1.0 (11.0)\n",
      "Epoch 062/100 | Loss 0.0105 | Win/lose count 22.5/3.0 (19.5)\n",
      "Epoch 063/100 | Loss 0.0180 | Win/lose count 12.5/0 (12.5)\n",
      "Epoch 064/100 | Loss 0.0063 | Win/lose count 19.5/4.0 (15.5)\n",
      "Epoch 065/100 | Loss 0.0102 | Win/lose count 16.0/1.0 (15.0)\n",
      "Epoch 066/100 | Loss 0.0167 | Win/lose count 8.5/2.0 (6.5)\n",
      "Epoch 067/100 | Loss 0.0044 | Win/lose count 19.5/7.0 (12.5)\n",
      "Epoch 068/100 | Loss 0.0054 | Win/lose count 20.5/5.0 (15.5)\n",
      "Epoch 069/100 | Loss 0.0100 | Win/lose count 23.0/2.0 (21.0)\n",
      "Epoch 070/100 | Loss 0.0168 | Win/lose count 17.0/5.0 (12.0)\n",
      "Epoch 071/100 | Loss 0.0094 | Win/lose count 18.5/0 (18.5)\n",
      "Epoch 072/100 | Loss 0.0077 | Win/lose count 21.5/3.0 (18.5)\n",
      "Epoch 073/100 | Loss 0.0079 | Win/lose count 16.5/2.0 (14.5)\n",
      "Epoch 074/100 | Loss 0.0083 | Win/lose count 15.5/3.0 (12.5)\n",
      "Epoch 075/100 | Loss 0.0128 | Win/lose count 16.5/4.0 (12.5)\n",
      "Epoch 076/100 | Loss 0.0132 | Win/lose count 23.0/7.0 (16.0)\n",
      "Epoch 077/100 | Loss 0.0037 | Win/lose count 18.5/1.0 (17.5)\n",
      "Epoch 078/100 | Loss 0.0104 | Win/lose count 11.0/7.0 (4.0)\n",
      "Epoch 079/100 | Loss 0.0055 | Win/lose count 14.5/1.0 (13.5)\n",
      "Epoch 080/100 | Loss 0.0150 | Win/lose count 22.0/2.0 (20.0)\n",
      "Epoch 081/100 | Loss 0.0107 | Win/lose count 18.0/9.0 (9.0)\n",
      "Epoch 082/100 | Loss 0.0093 | Win/lose count 23.5/2.0 (21.5)\n",
      "Epoch 083/100 | Loss 0.0139 | Win/lose count 11.0/0 (11.0)\n",
      "Epoch 084/100 | Loss 0.0158 | Win/lose count 20.0/6.0 (14.0)\n",
      "Epoch 085/100 | Loss 0.0136 | Win/lose count 11.5/3.0 (8.5)\n",
      "Epoch 086/100 | Loss 0.0164 | Win/lose count 14.0/1.0 (13.0)\n",
      "Epoch 087/100 | Loss 0.0078 | Win/lose count 24.0/4.0 (20.0)\n",
      "Epoch 088/100 | Loss 0.0037 | Win/lose count 17.0/0 (17.0)\n",
      "Epoch 089/100 | Loss 0.0052 | Win/lose count 15.5/5.0 (10.5)\n",
      "Epoch 090/100 | Loss 0.0065 | Win/lose count 20.0/4.0 (16.0)\n",
      "Epoch 091/100 | Loss 0.0133 | Win/lose count 11.0/2.0 (9.0)\n",
      "Epoch 092/100 | Loss 0.0129 | Win/lose count 23.0/3.0 (20.0)\n",
      "Epoch 093/100 | Loss 0.0163 | Win/lose count 25.5/5.0 (20.5)\n",
      "Epoch 094/100 | Loss 0.0194 | Win/lose count 21.5/4.0 (17.5)\n",
      "Epoch 095/100 | Loss 0.0083 | Win/lose count 15.5/0 (15.5)\n",
      "Epoch 096/100 | Loss 0.0109 | Win/lose count 21.0/2.0 (19.0)\n",
      "Epoch 097/100 | Loss 0.0126 | Win/lose count 20.0/4.0 (16.0)\n",
      "Epoch 098/100 | Loss 0.0115 | Win/lose count 26.0/2.0 (24.0)\n",
      "Epoch 099/100 | Loss 0.0115 | Win/lose count 26.0/1.0 (25.0)\n"
     ]
    },
    {
     "data": {
      "text/html": [
       "<video alt=\"test\" controls>\n",
       "                <source src=\"data:video/mp4;base64,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\" type=\"video/mp4\" />\n",
       "             </video>"
      ],
      "text/plain": [
       "<IPython.core.display.HTML object>"
      ]
     },
     "execution_count": 17,
     "metadata": {},
     "output_type": "execute_result"
    }
   ],
   "source": [
    "env = Environment(grid_size=size, max_time=T, temperature=0.3)\n",
    "agent = DQN_CNN(size, lr=.1, epsilon = 0.1, memory_size=2000, batch_size = 32)\n",
    "train(agent,env,epochs_train,prefix='cnn_train')\n",
    "HTML(display_videos('cnn_train10.mp4'))"
   ]
  },
  {
   "cell_type": "markdown",
   "metadata": {},
   "source": [
    "***\n",
    "***\n",
    "__Question 9__ Test both algorithms and compare their performances. Which issue(s) do you observe? Observe also different behaviors by changing the temperature."
   ]
  },
  {
   "cell_type": "markdown",
   "metadata": {},
   "source": [
    "The CNN performs better than the FC net. It is hard to properly tune $\\varepsilon$ to get a good compromise between exploration and exploitation : the agent tends to end stuck in a few cells. "
   ]
  },
  {
   "cell_type": "code",
   "execution_count": 24,
   "metadata": {},
   "outputs": [
    {
     "name": "stdout",
     "output_type": "stream",
     "text": [
      "Test of the CNN\n",
      "Win/lose count 10.5/3.0. Average score (7.5)\n",
      "Win/lose count 14.5/2.0. Average score (10.0)\n",
      "Win/lose count 19.0/3.0. Average score (12.0)\n",
      "Win/lose count 20.5/2.0. Average score (13.625)\n",
      "Win/lose count 25.5/1.0. Average score (15.8)\n",
      "Win/lose count 14.5/2.0. Average score (15.25)\n",
      "Win/lose count 24.0/0. Average score (16.5)\n",
      "Win/lose count 24.5/3.0. Average score (17.125)\n",
      "Win/lose count 18.0/7.0. Average score (16.444444444444443)\n",
      "Win/lose count 1.0/1.0. Average score (14.8)\n",
      "Final score: 14.8\n",
      "Test of the FC\n",
      "Win/lose count 10.0/3.0. Average score (7.0)\n",
      "Win/lose count 18.0/2.0. Average score (11.5)\n",
      "Win/lose count 15.5/5.0. Average score (11.166666666666666)\n",
      "Win/lose count 12.0/1.0. Average score (11.125)\n",
      "Win/lose count 5.5/3.0. Average score (9.4)\n",
      "Win/lose count 14.5/3.0. Average score (9.75)\n",
      "Win/lose count 11.0/2.0. Average score (9.642857142857142)\n",
      "Win/lose count 4.5/2.0. Average score (8.75)\n",
      "Win/lose count 25.0/3.0. Average score (10.222222222222221)\n",
      "Win/lose count 10.0/3.0. Average score (9.9)\n",
      "Final score: 9.9\n"
     ]
    }
   ],
   "source": [
    "env = Environment(grid_size=size, max_time=T,temperature=0.3)\n",
    "agent_cnn = DQN_CNN(size, lr=.1, epsilon = 0.1, memory_size=2000, batch_size = 32)\n",
    "agent_cnn.load(name_weights='cnn_trainmodel.h5',name_model='cnn_trainmodel.json')\n",
    "\n",
    "agent_fc = DQN_FC(size, lr=.1, epsilon = 0.1, memory_size=2000, batch_size = 32)\n",
    "agent_fc.load(name_weights='fc_trainmodel.h5',name_model='fc_trainmodel.json')\n",
    "print('Test of the CNN')\n",
    "test(agent_cnn,env,epochs_test,prefix='cnn_test')\n",
    "print('Test of the FC')\n",
    "test(agent_fc,env,epochs_test,prefix='fc_test')"
   ]
  },
  {
   "cell_type": "code",
   "execution_count": 20,
   "metadata": {},
   "outputs": [
    {
     "ename": "FileNotFoundError",
     "evalue": "[Errno 2] No such file or directory: 'cnn_test10.mp4'",
     "output_type": "error",
     "traceback": [
      "\u001b[0;31m---------------------------------------------------------------------------\u001b[0m",
      "\u001b[0;31mFileNotFoundError\u001b[0m                         Traceback (most recent call last)",
      "\u001b[0;32m<ipython-input-20-6258079ce82e>\u001b[0m in \u001b[0;36m<module>\u001b[0;34m\u001b[0m\n\u001b[0;32m----> 1\u001b[0;31m \u001b[0mHTML\u001b[0m\u001b[0;34m(\u001b[0m\u001b[0mdisplay_videos\u001b[0m\u001b[0;34m(\u001b[0m\u001b[0;34m'cnn_test10.mp4'\u001b[0m\u001b[0;34m)\u001b[0m\u001b[0;34m)\u001b[0m\u001b[0;34m\u001b[0m\u001b[0;34m\u001b[0m\u001b[0m\n\u001b[0m",
      "\u001b[0;32m<ipython-input-8-3eefef004da2>\u001b[0m in \u001b[0;36mdisplay_videos\u001b[0;34m(name)\u001b[0m\n\u001b[1;32m      8\u001b[0m \u001b[0;31m# display videos\u001b[0m\u001b[0;34m\u001b[0m\u001b[0;34m\u001b[0m\u001b[0;34m\u001b[0m\u001b[0m\n\u001b[1;32m      9\u001b[0m \u001b[0;32mdef\u001b[0m \u001b[0mdisplay_videos\u001b[0m\u001b[0;34m(\u001b[0m\u001b[0mname\u001b[0m\u001b[0;34m)\u001b[0m\u001b[0;34m:\u001b[0m\u001b[0;34m\u001b[0m\u001b[0;34m\u001b[0m\u001b[0m\n\u001b[0;32m---> 10\u001b[0;31m     \u001b[0mvideo\u001b[0m \u001b[0;34m=\u001b[0m \u001b[0mio\u001b[0m\u001b[0;34m.\u001b[0m\u001b[0mopen\u001b[0m\u001b[0;34m(\u001b[0m\u001b[0mname\u001b[0m\u001b[0;34m,\u001b[0m \u001b[0;34m'r+b'\u001b[0m\u001b[0;34m)\u001b[0m\u001b[0;34m.\u001b[0m\u001b[0mread\u001b[0m\u001b[0;34m(\u001b[0m\u001b[0;34m)\u001b[0m\u001b[0;34m\u001b[0m\u001b[0;34m\u001b[0m\u001b[0m\n\u001b[0m\u001b[1;32m     11\u001b[0m     \u001b[0mencoded\u001b[0m \u001b[0;34m=\u001b[0m \u001b[0mbase64\u001b[0m\u001b[0;34m.\u001b[0m\u001b[0mb64encode\u001b[0m\u001b[0;34m(\u001b[0m\u001b[0mvideo\u001b[0m\u001b[0;34m)\u001b[0m\u001b[0;34m\u001b[0m\u001b[0;34m\u001b[0m\u001b[0m\n\u001b[1;32m     12\u001b[0m     return '''<video alt=\"test\" controls>\n",
      "\u001b[0;31mFileNotFoundError\u001b[0m: [Errno 2] No such file or directory: 'cnn_test10.mp4'"
     ]
    }
   ],
   "source": [
    "HTML(display_videos('cnn_test10.mp4'))"
   ]
  },
  {
   "cell_type": "code",
   "execution_count": null,
   "metadata": {},
   "outputs": [],
   "source": [
    "HTML(display_videos('fc_test10.mp4'))"
   ]
  },
  {
   "cell_type": "markdown",
   "metadata": {},
   "source": [
    "***\n",
    "\n",
    "The algorithm tends to not explore the map which can be an issue. We propose two ideas in order to encourage exploration:\n",
    "1. Incorporating a decreasing $\\epsilon$-greedy exploration. You can use the method ```set_epsilon```\n",
    "2. Append via the environment a new state that describes if a cell has been visited or not\n",
    "\n",
    "***\n",
    "__Question 10__ Design a new ```train_explore``` function and environment class ```EnvironmentExploring``` to tackle the issue of exploration.\n",
    "\n"
   ]
  },
  {
   "cell_type": "code",
   "execution_count": 21,
   "metadata": {},
   "outputs": [],
   "source": [
    "def train_explore(agent,env,epoch,prefix=''):\n",
    "    # Number of won games\n",
    "    score = 0\n",
    "    loss = 0\n",
    "    \n",
    "    begin_epsilon = 0.9\n",
    "    end_epsilon = 0.01\n",
    "\n",
    "    for e in range(epoch):\n",
    "        # At each epoch, we restart to a fresh game and get the initial state\n",
    "        state = env.reset()\n",
    "\n",
    "        # This assumes that the games will terminate\n",
    "        game_over = False\n",
    "\n",
    "        agent.set_epsilon(begin_epsilon + e / epoch * (end_epsilon - begin_epsilon))\n",
    "        \n",
    "        win = 0\n",
    "        lose = 0\n",
    "\n",
    "        while not game_over:\n",
    "            # The agent performs an action\n",
    "            action = agent.act(state, train=True)\n",
    "\n",
    "            # Apply an action to the environment, get the next state, the reward\n",
    "            # and if the games end\n",
    "            prev_state = state\n",
    "            state, reward, game_over = env.act(action)\n",
    "\n",
    "            # Update the counters\n",
    "            if reward > 0:\n",
    "                win = win + reward\n",
    "            if reward < 0:\n",
    "                lose = lose -reward\n",
    "\n",
    "            # Apply the reinforcement strategy\n",
    "            loss = agent.reinforce(prev_state, state,  action, reward, game_over)\n",
    "\n",
    "        # Save as a mp4\n",
    "        if e % 10 == 0:\n",
    "            env.draw(prefix+str(e))\n",
    "\n",
    "        # Update stats\n",
    "        score += win-lose\n",
    "\n",
    "        print(\"Epoch {:03d}/{:03d} | Loss {:.4f} | Win/lose count {}/{} ({})\"\n",
    "              .format(e, epoch, loss, win, lose, win-lose))\n",
    "        agent.save(name_weights=prefix+'model.h5',name_model=prefix+'model.json')\n",
    "        \n",
    "class EnvironmentExploring(Environment):\n",
    "    def __init__(self, grid_size=10, max_time=500, temperature=0.1):\n",
    "        super().__init__(grid_size=grid_size, max_time=max_time, temperature=temperature)\n",
    "        self.malus_position = np.zeros((self.grid_size, self.grid_size, 1))\n",
    "    \n",
    "    def reset(self):\n",
    "        state = super().reset()\n",
    "        self.malus_position = np.zeros((self.grid_size, self.grid_size, 1))\n",
    "        malus_view = self.malus_position[self.x - 2:self.x + 3, self.y - 2:self.y + 3, :]\n",
    "        state = np.concatenate((malus_view, state), axis=2)\n",
    "        return state\n",
    "    \n",
    "    def act(self, action, train=False):\n",
    "        state, reward, game_over = super().act(action)\n",
    "        if train:\n",
    "            reward -= self.malus_position[self.x, self.y]\n",
    "        self.malus_position[self.x, self.y] = 0.1\n",
    "        malus_view = self.malus_position[self.x - 2:self.x + 3, self.y - 2:self.y + 3, :]\n",
    "        state = np.concatenate((malus_view, state), axis=2)\n",
    "        return state, reward, game_over\n",
    "    \n"
   ]
  },
  {
   "cell_type": "code",
   "execution_count": 22,
   "metadata": {},
   "outputs": [
    {
     "name": "stdout",
     "output_type": "stream",
     "text": [
      "Epoch 000/100 | Loss 0.0073 | Win/lose count 5.0/9.0 (-4.0)\n",
      "Epoch 001/100 | Loss 0.0187 | Win/lose count 10.0/8.0 (2.0)\n",
      "Epoch 002/100 | Loss 0.0143 | Win/lose count 10.0/18.0 (-8.0)\n",
      "Epoch 003/100 | Loss 0.0169 | Win/lose count 8.0/20.0 (-12.0)\n",
      "Epoch 004/100 | Loss 0.0094 | Win/lose count 17.0/9.0 (8.0)\n",
      "Epoch 005/100 | Loss 0.0078 | Win/lose count 9.5/15.0 (-5.5)\n",
      "Epoch 006/100 | Loss 0.0131 | Win/lose count 8.5/9.0 (-0.5)\n",
      "Epoch 007/100 | Loss 0.0065 | Win/lose count 12.5/11.0 (1.5)\n",
      "Epoch 008/100 | Loss 0.0081 | Win/lose count 9.0/12.0 (-3.0)\n",
      "Epoch 009/100 | Loss 0.0070 | Win/lose count 10.0/7.0 (3.0)\n",
      "Epoch 010/100 | Loss 0.0081 | Win/lose count 15.0/11.0 (4.0)\n",
      "Epoch 011/100 | Loss 0.0084 | Win/lose count 7.5/9.0 (-1.5)\n",
      "Epoch 012/100 | Loss 0.0050 | Win/lose count 9.0/11.0 (-2.0)\n",
      "Epoch 013/100 | Loss 0.0047 | Win/lose count 15.0/8.0 (7.0)\n",
      "Epoch 014/100 | Loss 0.0113 | Win/lose count 8.5/7.0 (1.5)\n",
      "Epoch 015/100 | Loss 0.0246 | Win/lose count 17.0/16.0 (1.0)\n",
      "Epoch 016/100 | Loss 0.0067 | Win/lose count 11.0/7.0 (4.0)\n",
      "Epoch 017/100 | Loss 0.0085 | Win/lose count 12.5/9.0 (3.5)\n",
      "Epoch 018/100 | Loss 0.0084 | Win/lose count 18.0/12.0 (6.0)\n",
      "Epoch 019/100 | Loss 0.0087 | Win/lose count 7.5/9.0 (-1.5)\n",
      "Epoch 020/100 | Loss 0.0066 | Win/lose count 13.5/11.0 (2.5)\n",
      "Epoch 021/100 | Loss 0.0055 | Win/lose count 10.5/11.0 (-0.5)\n",
      "Epoch 022/100 | Loss 0.0068 | Win/lose count 16.5/10.0 (6.5)\n",
      "Epoch 023/100 | Loss 0.0129 | Win/lose count 11.5/9.0 (2.5)\n",
      "Epoch 024/100 | Loss 0.0085 | Win/lose count 17.0/9.0 (8.0)\n",
      "Epoch 025/100 | Loss 0.0128 | Win/lose count 15.0/9.0 (6.0)\n",
      "Epoch 026/100 | Loss 0.0086 | Win/lose count 18.5/12.0 (6.5)\n",
      "Epoch 027/100 | Loss 0.0093 | Win/lose count 19.0/12.0 (7.0)\n",
      "Epoch 028/100 | Loss 0.0074 | Win/lose count 10.5/9.0 (1.5)\n",
      "Epoch 029/100 | Loss 0.0487 | Win/lose count 12.5/13.0 (-0.5)\n",
      "Epoch 030/100 | Loss 0.0389 | Win/lose count 10.0/14.0 (-4.0)\n",
      "Epoch 031/100 | Loss 0.0067 | Win/lose count 13.5/10.0 (3.5)\n",
      "Epoch 032/100 | Loss 0.0168 | Win/lose count 13.5/8.0 (5.5)\n",
      "Epoch 033/100 | Loss 0.0092 | Win/lose count 15.5/16.0 (-0.5)\n",
      "Epoch 034/100 | Loss 0.0372 | Win/lose count 10.5/9.0 (1.5)\n",
      "Epoch 035/100 | Loss 0.0068 | Win/lose count 15.0/12.0 (3.0)\n",
      "Epoch 036/100 | Loss 0.0099 | Win/lose count 19.0/9.0 (10.0)\n",
      "Epoch 037/100 | Loss 0.0117 | Win/lose count 16.5/17.0 (-0.5)\n",
      "Epoch 038/100 | Loss 0.0077 | Win/lose count 18.5/17.0 (1.5)\n",
      "Epoch 039/100 | Loss 0.0272 | Win/lose count 10.5/14.0 (-3.5)\n",
      "Epoch 040/100 | Loss 0.0084 | Win/lose count 16.5/10.0 (6.5)\n",
      "Epoch 041/100 | Loss 0.0137 | Win/lose count 13.5/7.0 (6.5)\n",
      "Epoch 042/100 | Loss 0.0115 | Win/lose count 19.5/13.0 (6.5)\n",
      "Epoch 043/100 | Loss 0.0164 | Win/lose count 20.0/11.0 (9.0)\n",
      "Epoch 044/100 | Loss 0.0146 | Win/lose count 21.0/11.0 (10.0)\n",
      "Epoch 045/100 | Loss 0.0113 | Win/lose count 22.5/11.0 (11.5)\n",
      "Epoch 046/100 | Loss 0.0114 | Win/lose count 21.0/10.0 (11.0)\n",
      "Epoch 047/100 | Loss 0.0115 | Win/lose count 19.5/8.0 (11.5)\n",
      "Epoch 048/100 | Loss 0.0207 | Win/lose count 18.0/11.0 (7.0)\n",
      "Epoch 049/100 | Loss 0.0100 | Win/lose count 15.5/14.0 (1.5)\n",
      "Epoch 050/100 | Loss 0.0100 | Win/lose count 22.0/12.0 (10.0)\n",
      "Epoch 051/100 | Loss 0.0098 | Win/lose count 25.0/10.0 (15.0)\n",
      "Epoch 052/100 | Loss 0.0156 | Win/lose count 21.5/12.0 (9.5)\n",
      "Epoch 053/100 | Loss 0.0217 | Win/lose count 21.5/13.0 (8.5)\n",
      "Epoch 054/100 | Loss 0.0173 | Win/lose count 16.5/7.0 (9.5)\n",
      "Epoch 055/100 | Loss 0.0108 | Win/lose count 18.5/9.0 (9.5)\n",
      "Epoch 056/100 | Loss 0.0067 | Win/lose count 23.0/7.0 (16.0)\n",
      "Epoch 057/100 | Loss 0.0090 | Win/lose count 19.5/8.0 (11.5)\n",
      "Epoch 058/100 | Loss 0.0137 | Win/lose count 20.0/9.0 (11.0)\n",
      "Epoch 059/100 | Loss 0.0057 | Win/lose count 19.5/9.0 (10.5)\n",
      "Epoch 060/100 | Loss 0.0096 | Win/lose count 18.5/13.0 (5.5)\n",
      "Epoch 061/100 | Loss 0.0094 | Win/lose count 20.5/12.0 (8.5)\n",
      "Epoch 062/100 | Loss 0.0157 | Win/lose count 22.0/6.0 (16.0)\n",
      "Epoch 063/100 | Loss 0.0068 | Win/lose count 13.5/12.0 (1.5)\n",
      "Epoch 064/100 | Loss 0.0099 | Win/lose count 18.0/7.0 (11.0)\n",
      "Epoch 065/100 | Loss 0.0072 | Win/lose count 10.5/6.0 (4.5)\n",
      "Epoch 066/100 | Loss 0.0080 | Win/lose count 19.0/8.0 (11.0)\n",
      "Epoch 067/100 | Loss 0.0065 | Win/lose count 16.0/12.0 (4.0)\n",
      "Epoch 068/100 | Loss 0.0043 | Win/lose count 14.0/6.0 (8.0)\n",
      "Epoch 069/100 | Loss 0.0091 | Win/lose count 21.0/4.0 (17.0)\n",
      "Epoch 070/100 | Loss 0.0097 | Win/lose count 21.0/13.0 (8.0)\n",
      "Epoch 071/100 | Loss 0.0081 | Win/lose count 16.5/5.0 (11.5)\n",
      "Epoch 072/100 | Loss 0.0046 | Win/lose count 21.5/9.0 (12.5)\n",
      "Epoch 073/100 | Loss 0.0061 | Win/lose count 16.0/6.0 (10.0)\n",
      "Epoch 074/100 | Loss 0.0122 | Win/lose count 18.5/10.0 (8.5)\n",
      "Epoch 075/100 | Loss 0.0062 | Win/lose count 23.5/9.0 (14.5)\n",
      "Epoch 076/100 | Loss 0.0118 | Win/lose count 12.0/5.0 (7.0)\n",
      "Epoch 077/100 | Loss 0.0192 | Win/lose count 21.5/4.0 (17.5)\n",
      "Epoch 078/100 | Loss 0.0118 | Win/lose count 20.5/6.0 (14.5)\n",
      "Epoch 079/100 | Loss 0.0122 | Win/lose count 24.0/9.0 (15.0)\n",
      "Epoch 080/100 | Loss 0.0109 | Win/lose count 20.5/10.0 (10.5)\n",
      "Epoch 081/100 | Loss 0.0114 | Win/lose count 20.0/2.0 (18.0)\n",
      "Epoch 082/100 | Loss 0.0057 | Win/lose count 18.0/5.0 (13.0)\n",
      "Epoch 083/100 | Loss 0.0112 | Win/lose count 16.0/3.0 (13.0)\n",
      "Epoch 084/100 | Loss 0.0152 | Win/lose count 21.5/4.0 (17.5)\n",
      "Epoch 085/100 | Loss 0.0076 | Win/lose count 20.0/5.0 (15.0)\n",
      "Epoch 086/100 | Loss 0.0107 | Win/lose count 15.5/2.0 (13.5)\n",
      "Epoch 087/100 | Loss 0.0081 | Win/lose count 21.5/5.0 (16.5)\n",
      "Epoch 088/100 | Loss 0.0125 | Win/lose count 22.5/5.0 (17.5)\n",
      "Epoch 089/100 | Loss 0.0096 | Win/lose count 17.5/2.0 (15.5)\n",
      "Epoch 090/100 | Loss 0.0083 | Win/lose count 25.0/4.0 (21.0)\n",
      "Epoch 091/100 | Loss 0.0099 | Win/lose count 22.5/3.0 (19.5)\n",
      "Epoch 092/100 | Loss 0.0103 | Win/lose count 15.0/5.0 (10.0)\n",
      "Epoch 093/100 | Loss 0.0074 | Win/lose count 21.5/6.0 (15.5)\n",
      "Epoch 094/100 | Loss 0.0165 | Win/lose count 20.5/2.0 (18.5)\n",
      "Epoch 095/100 | Loss 0.0096 | Win/lose count 24.0/1.0 (23.0)\n",
      "Epoch 096/100 | Loss 0.0077 | Win/lose count 18.5/0 (18.5)\n",
      "Epoch 097/100 | Loss 0.0078 | Win/lose count 16.0/1.0 (15.0)\n",
      "Epoch 098/100 | Loss 0.0112 | Win/lose count 23.5/3.0 (20.5)\n",
      "Epoch 099/100 | Loss 0.0110 | Win/lose count 25.0/3.0 (22.0)\n"
     ]
    },
    {
     "data": {
      "text/html": [
       "<video alt=\"test\" controls>\n",
       "                <source src=\"data:video/mp4;base64,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\" type=\"video/mp4\" />\n",
       "             </video>"
      ],
      "text/plain": [
       "<IPython.core.display.HTML object>"
      ]
     },
     "execution_count": 22,
     "metadata": {},
     "output_type": "execute_result"
    }
   ],
   "source": [
    "# Training\n",
    "env = EnvironmentExploring(grid_size=size, max_time=T, temperature=0.3)\n",
    "agent = DQN_CNN(size, lr=.1, epsilon = 0.1, memory_size=2000, batch_size = 32,n_state=3)\n",
    "train_explore(agent, env, epochs_train, prefix='cnn_train_explore')\n",
    "HTML(display_videos('cnn_train_explore10.mp4'))"
   ]
  },
  {
   "cell_type": "code",
   "execution_count": 23,
   "metadata": {},
   "outputs": [
    {
     "name": "stdout",
     "output_type": "stream",
     "text": [
      "Win/lose count 23.0/1.0. Average score (22.0)\n",
      "Win/lose count 7.0/0. Average score (14.5)\n",
      "Win/lose count 19.0/2.0. Average score (15.333333333333334)\n",
      "Win/lose count 9.5/1.0. Average score (13.625)\n",
      "Win/lose count 18.5/2.0. Average score (14.2)\n",
      "Win/lose count 20.0/2.0. Average score (14.833333333333334)\n",
      "Win/lose count 22.5/1.0. Average score (15.785714285714286)\n",
      "Win/lose count 26.5/1.0. Average score (17.0)\n",
      "Win/lose count 24.0/4.0. Average score (17.333333333333332)\n",
      "Win/lose count 5.5/0. Average score (16.15)\n",
      "Final score: 16.15\n"
     ]
    },
    {
     "ename": "FileNotFoundError",
     "evalue": "[Errno 2] No such file or directory: 'cnn_test_explore10.mp4'",
     "output_type": "error",
     "traceback": [
      "\u001b[0;31m---------------------------------------------------------------------------\u001b[0m",
      "\u001b[0;31mFileNotFoundError\u001b[0m                         Traceback (most recent call last)",
      "\u001b[0;32m<ipython-input-23-598634141cce>\u001b[0m in \u001b[0;36m<module>\u001b[0;34m\u001b[0m\n\u001b[1;32m      1\u001b[0m \u001b[0;31m# Evaluation\u001b[0m\u001b[0;34m\u001b[0m\u001b[0;34m\u001b[0m\u001b[0;34m\u001b[0m\u001b[0m\n\u001b[1;32m      2\u001b[0m \u001b[0mtest\u001b[0m\u001b[0;34m(\u001b[0m\u001b[0magent\u001b[0m\u001b[0;34m,\u001b[0m\u001b[0menv\u001b[0m\u001b[0;34m,\u001b[0m\u001b[0mepochs_test\u001b[0m\u001b[0;34m,\u001b[0m\u001b[0mprefix\u001b[0m\u001b[0;34m=\u001b[0m\u001b[0;34m'cnn_test_explore'\u001b[0m\u001b[0;34m)\u001b[0m\u001b[0;34m\u001b[0m\u001b[0;34m\u001b[0m\u001b[0m\n\u001b[0;32m----> 3\u001b[0;31m \u001b[0mHTML\u001b[0m\u001b[0;34m(\u001b[0m\u001b[0mdisplay_videos\u001b[0m\u001b[0;34m(\u001b[0m\u001b[0;34m'cnn_test_explore10.mp4'\u001b[0m\u001b[0;34m)\u001b[0m\u001b[0;34m)\u001b[0m\u001b[0;34m\u001b[0m\u001b[0;34m\u001b[0m\u001b[0m\n\u001b[0m",
      "\u001b[0;32m<ipython-input-8-3eefef004da2>\u001b[0m in \u001b[0;36mdisplay_videos\u001b[0;34m(name)\u001b[0m\n\u001b[1;32m      8\u001b[0m \u001b[0;31m# display videos\u001b[0m\u001b[0;34m\u001b[0m\u001b[0;34m\u001b[0m\u001b[0;34m\u001b[0m\u001b[0m\n\u001b[1;32m      9\u001b[0m \u001b[0;32mdef\u001b[0m \u001b[0mdisplay_videos\u001b[0m\u001b[0;34m(\u001b[0m\u001b[0mname\u001b[0m\u001b[0;34m)\u001b[0m\u001b[0;34m:\u001b[0m\u001b[0;34m\u001b[0m\u001b[0;34m\u001b[0m\u001b[0m\n\u001b[0;32m---> 10\u001b[0;31m     \u001b[0mvideo\u001b[0m \u001b[0;34m=\u001b[0m \u001b[0mio\u001b[0m\u001b[0;34m.\u001b[0m\u001b[0mopen\u001b[0m\u001b[0;34m(\u001b[0m\u001b[0mname\u001b[0m\u001b[0;34m,\u001b[0m \u001b[0;34m'r+b'\u001b[0m\u001b[0;34m)\u001b[0m\u001b[0;34m.\u001b[0m\u001b[0mread\u001b[0m\u001b[0;34m(\u001b[0m\u001b[0;34m)\u001b[0m\u001b[0;34m\u001b[0m\u001b[0;34m\u001b[0m\u001b[0m\n\u001b[0m\u001b[1;32m     11\u001b[0m     \u001b[0mencoded\u001b[0m \u001b[0;34m=\u001b[0m \u001b[0mbase64\u001b[0m\u001b[0;34m.\u001b[0m\u001b[0mb64encode\u001b[0m\u001b[0;34m(\u001b[0m\u001b[0mvideo\u001b[0m\u001b[0;34m)\u001b[0m\u001b[0;34m\u001b[0m\u001b[0;34m\u001b[0m\u001b[0m\n\u001b[1;32m     12\u001b[0m     return '''<video alt=\"test\" controls>\n",
      "\u001b[0;31mFileNotFoundError\u001b[0m: [Errno 2] No such file or directory: 'cnn_test_explore10.mp4'"
     ]
    }
   ],
   "source": [
    "# Evaluation\n",
    "test(agent,env,epochs_test,prefix='cnn_test_explore')\n",
    "HTML(display_videos('cnn_test_explore10.mp4'))"
   ]
  },
  {
   "cell_type": "markdown",
   "metadata": {},
   "source": [
    "***\n",
    "***\n",
    "__BONUS question__ Use the expert DQN from the previous question to generate some winning games. Train a model that mimicks its behavior. Compare the performances."
   ]
  },
  {
   "cell_type": "markdown",
   "metadata": {},
   "source": [
    "***"
   ]
  }
 ],
 "metadata": {
  "kernelspec": {
   "display_name": "Python 3",
   "language": "python",
   "name": "python3"
  },
  "language_info": {
   "codemirror_mode": {
    "name": "ipython",
    "version": 3
   },
   "file_extension": ".py",
   "mimetype": "text/x-python",
   "name": "python",
   "nbconvert_exporter": "python",
   "pygments_lexer": "ipython3",
   "version": "3.6.8"
  }
 },
 "nbformat": 4,
 "nbformat_minor": 4
}
