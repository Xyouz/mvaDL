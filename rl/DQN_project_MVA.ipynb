{
 "cells": [
  {
   "cell_type": "markdown",
   "metadata": {},
   "source": [
    "**You may need to install [OpenCV](https://pypi.python.org/pypi/opencv-python) and [scikit-video](http://www.scikit-video.org/stable/).**"
   ]
  },
  {
   "cell_type": "code",
   "execution_count": 1,
   "metadata": {},
   "outputs": [
    {
     "name": "stderr",
     "output_type": "stream",
     "text": [
      "Using TensorFlow backend.\n"
     ]
    }
   ],
   "source": [
    "import keras\n",
    "import numpy as np\n",
    "import io\n",
    "import base64\n",
    "from IPython.display import HTML\n",
    "import skvideo.io\n",
    "import cv2\n",
    "import json\n",
    "\n",
    "from keras.models import Sequential,model_from_json\n",
    "from keras.layers.core import Dense\n",
    "from keras.optimizers import sgd\n",
    "from keras.layers import Conv2D, MaxPooling2D, Activation, AveragePooling2D,Reshape,BatchNormalization"
   ]
  },
  {
   "cell_type": "markdown",
   "metadata": {},
   "source": [
    "# MiniProject on Deep Reinforcement Learning"
   ]
  },
  {
   "cell_type": "markdown",
   "metadata": {},
   "source": [
    "__Notations__: $E_p$ is the expectation under probability $p$. Please justify each of your answer and widely comment your code."
   ]
  },
  {
   "cell_type": "markdown",
   "metadata": {},
   "source": [
    "# Context"
   ]
  },
  {
   "cell_type": "markdown",
   "metadata": {},
   "source": [
    "In a reinforcement learning algorithm, we modelize each step $t$ as an action $a_t$ obtained from a state $s_t$, i.e. $\\{(a_{t},s_{t})_{t\\leq T}\\}$ having the Markov property. We consider a discount factor $\\gamma \\in [0,1]$ that ensures convergence. The goal is to find among all the policies $\\pi$, one that maximizes the expected reward:\n",
    "\n",
    "\\begin{equation*}\n",
    "R(\\pi)=\\sum_{t\\leq T}E_{p^{\\pi}}[\\gamma^t r(s_{t},a_{t})] \\> ,\n",
    "\\end{equation*}\n",
    "\n",
    "where: \n",
    "\\begin{equation*}p^{\\pi}(a_{0},a_{1},s_{1},...,a_{T},s_{T})=p(a_{0})\\prod_{t=1}^{T}\\pi(a_{t}|s_{t})p(s_{t+1}|s_{t},a_{t}) \\> .\n",
    "\\end{equation*}\n",
    "\n",
    "We note the $Q$-function:\n",
    "\n",
    "\\begin{equation*}Q^\\pi(s,a)=E_{p^{\\pi}}[\\sum_{t\\leq T}\\gamma^{t}r(s_{t},a_{t})|s_{0}=s,a_{0}=a] \\> .\n",
    "\\end{equation*}\n",
    "\n",
    "Thus, the optimal Q function is:\n",
    "\\begin{equation*}\n",
    "Q^*(s,a)=\\max_{\\pi}Q^\\pi(s,a) \\> .\n",
    "\\end{equation*}\n",
    "\n",
    "In this project, we will apply the deep reinforcement learning techniques to a simple game: an agent will have to learn from scratch a policy that will permit it maximizing a reward."
   ]
  },
  {
   "cell_type": "markdown",
   "metadata": {},
   "source": [
    "## The environment, the agent and the game"
   ]
  },
  {
   "cell_type": "markdown",
   "metadata": {},
   "source": [
    "### The environment"
   ]
  },
  {
   "cell_type": "markdown",
   "metadata": {},
   "source": [
    "```Environment``` is an abstract class that represents the states, rewards, and actions to obtain the new state."
   ]
  },
  {
   "cell_type": "code",
   "execution_count": 2,
   "metadata": {},
   "outputs": [],
   "source": [
    "class Environment(object):\n",
    "    def __init__(self):\n",
    "        pass\n",
    "\n",
    "    def act(self, act):\n",
    "        \"\"\"\n",
    "        One can act on the environment and obtain its reaction:\n",
    "        - the new state\n",
    "        - the reward of the new state\n",
    "        - should we continue the game?\n",
    "\n",
    "        :return: state, reward, game_over\n",
    "        \"\"\"\n",
    "        pass\n",
    "\n",
    "\n",
    "    def reset(self):\n",
    "        \"\"\"\n",
    "        Reinitialize the environment to a random state and returns\n",
    "        the original state\n",
    "\n",
    "        :return: state\n",
    "        \"\"\"\n",
    "        pass\n",
    "    \n",
    "    def draw(self):\n",
    "        \"\"\"\n",
    "        Visualize in the console or graphically the current state\n",
    "        \"\"\"\n",
    "        pass"
   ]
  },
  {
   "cell_type": "markdown",
   "metadata": {},
   "source": [
    "The method ```act``` allows to act on the environment at a given state $s_t$ (stored internally), via action $a_t$. The method will return the new state $s_{t+1}$, the reward $r(s_{t},a_{t})$ and determines if $t\\leq T$ (*game_over*).\n",
    "\n",
    "The method ```reset``` simply reinitializes the environment to a random state $s_0$.\n",
    "\n",
    "The method ```draw``` displays the current state $s_t$ (this is useful to check the behavior of the Agent).\n",
    "\n",
    "We modelize $s_t$ as a tensor, while $a_t$ is an integer."
   ]
  },
  {
   "cell_type": "markdown",
   "metadata": {},
   "source": [
    "### The Agent"
   ]
  },
  {
   "cell_type": "markdown",
   "metadata": {},
   "source": [
    "The goal of the ```Agent``` is to interact with the ```Environment``` by proposing actions $a_t$ obtained from a given state $s_t$ to attempt to maximize its __reward__ $r(s_t,a_t)$. We propose the following abstract class:"
   ]
  },
  {
   "cell_type": "code",
   "execution_count": 3,
   "metadata": {},
   "outputs": [],
   "source": [
    "class Agent(object):\n",
    "    def __init__(self, epsilon=0.1, n_action=4):\n",
    "        self.epsilon = epsilon\n",
    "        self.n_action = n_action\n",
    "    \n",
    "    def set_epsilon(self,e):\n",
    "        self.epsilon = e\n",
    "\n",
    "    def act(self,s,train=True):\n",
    "        \"\"\" This function should return the next action to do:\n",
    "        an integer between 0 and 4 (not included) with a random exploration of epsilon\"\"\"\n",
    "        if train:\n",
    "            if np.random.rand() <= self.epsilon:\n",
    "                a = np.random.randint(0, self.n_action, size=1)[0]\n",
    "            else:\n",
    "                a = self.learned_act(s)\n",
    "        else: # in some cases, this can improve the performance.. remove it if poor performances\n",
    "            a = self.learned_act(s)\n",
    "\n",
    "        return a\n",
    "\n",
    "    def learned_act(self,s):\n",
    "        \"\"\" Act via the policy of the agent, from a given state s\n",
    "        it proposes an action a\"\"\"\n",
    "        pass\n",
    "\n",
    "    def reinforce(self, s, n_s, a, r, game_over_):\n",
    "        \"\"\" This function is the core of the learning algorithm. \n",
    "        It takes as an input the current state s_, the next state n_s_\n",
    "        the action a_ used to move from s_ to n_s_ and the reward r_.\n",
    "        \n",
    "        Its goal is to learn a policy.\n",
    "        \"\"\"\n",
    "        pass\n",
    "\n",
    "    def save(self):\n",
    "        \"\"\" This function returns basic stats if applicable: the\n",
    "        loss and/or the model\"\"\"\n",
    "        pass\n",
    "\n",
    "    def load(self):\n",
    "        \"\"\" This function allows to restore a model\"\"\"\n",
    "        pass"
   ]
  },
  {
   "cell_type": "markdown",
   "metadata": {},
   "source": [
    "***\n",
    "__Question 1__:\n",
    "Explain the function act. Why is ```epsilon``` essential?"
   ]
  },
  {
   "cell_type": "markdown",
   "metadata": {},
   "source": [
    "The agent acts according to the learnt policy most of the time but it sometimes ($\\epsilon$ of the time) act randomly. This behaviour is useful to ensure that the state-action space is well explored and that the agent does not lock himself in a sub-optimal policy."
   ]
  },
  {
   "cell_type": "markdown",
   "metadata": {},
   "source": [
    "***\n",
    "### The Game"
   ]
  },
  {
   "cell_type": "markdown",
   "metadata": {},
   "source": [
    "The ```Agent``` and the ```Environment``` work in an interlaced way as in the following (take some time to understand this code as it is the core of the project)\n",
    "\n",
    "```python\n",
    "\n",
    "epoch = 300\n",
    "env = Environment()\n",
    "agent = Agent()\n",
    "\n",
    "\n",
    "# Number of won games\n",
    "score = 0\n",
    "loss = 0\n",
    "\n",
    "\n",
    "for e in range(epoch):\n",
    "    # At each epoch, we restart to a fresh game and get the initial state\n",
    "    state = env.reset()\n",
    "    # This assumes that the games will end\n",
    "    game_over = False\n",
    "\n",
    "    win = 0\n",
    "    lose = 0\n",
    "    \n",
    "    while not game_over:\n",
    "        # The agent performs an action\n",
    "        action = agent.act(state)\n",
    "\n",
    "        # Apply an action to the environment, get the next state, the reward\n",
    "        # and if the games end\n",
    "        prev_state = state\n",
    "        state, reward, game_over = env.act(action)\n",
    "\n",
    "        # Update the counters\n",
    "        if reward > 0:\n",
    "            win = win + reward\n",
    "        if reward < 0:\n",
    "            lose = lose -reward\n",
    "\n",
    "        # Apply the reinforcement strategy\n",
    "        loss = agent.reinforce(prev_state, state,  action, reward, game_over)\n",
    "\n",
    "    # Save as a mp4\n",
    "    if e % 10 == 0:\n",
    "        env.draw(e)\n",
    "\n",
    "    # Update stats\n",
    "    score += win-lose\n",
    "\n",
    "    print(\"Epoch {:03d}/{:03d} | Loss {:.4f} | Win/lose count {}/{} ({})\"\n",
    "          .format(e, epoch, loss, win, lose, win-lose))\n",
    "    agent.save()\n",
    "```"
   ]
  },
  {
   "cell_type": "markdown",
   "metadata": {},
   "source": [
    "# The game, *eat cheese*"
   ]
  },
  {
   "cell_type": "markdown",
   "metadata": {},
   "source": [
    "A rat runs on an island and tries to eat as much as possible. The island is subdivided into $N\\times N$ cells, in which there are cheese (+0.5) and poisonous cells (-1). The rat has a visibility of 2 cells (thus it can see $5^2$ cells). The rat is given a time $T$ to accumulate as much food as possible. It can perform 4 actions: going up, down, left, right. \n",
    "\n",
    "The goal is to code an agent to solve this task that will learn by trial and error. We propose the following environment:"
   ]
  },
  {
   "cell_type": "code",
   "execution_count": 4,
   "metadata": {},
   "outputs": [],
   "source": [
    "class Environment(object):\n",
    "    def __init__(self, grid_size=10, max_time=500, temperature=0.1):\n",
    "        grid_size = grid_size+4\n",
    "        self.grid_size = grid_size\n",
    "        self.max_time = max_time\n",
    "        self.temperature = temperature\n",
    "\n",
    "        #board on which one plays\n",
    "        self.board = np.zeros((grid_size,grid_size))\n",
    "        self.position = np.zeros((grid_size,grid_size))\n",
    "\n",
    "        # coordinate of the cat\n",
    "        self.x = 0\n",
    "        self.y = 1\n",
    "\n",
    "        # self time\n",
    "        self.t = 0\n",
    "\n",
    "        self.scale=16\n",
    "\n",
    "        self.to_draw = np.zeros((max_time+2, grid_size*self.scale, grid_size*self.scale, 3))\n",
    "\n",
    "\n",
    "    def draw(self,e):\n",
    "        skvideo.io.vwrite(str(e) + '.mp4', self.to_draw)\n",
    "\n",
    "    def get_frame(self,t):\n",
    "        b = np.zeros((self.grid_size,self.grid_size,3))+128\n",
    "        b[self.board>0,0] = 256\n",
    "        b[self.board < 0, 2] = 256\n",
    "        b[self.x,self.y,:]=256\n",
    "        b[-2:,:,:]=0\n",
    "        b[:,-2:,:]=0\n",
    "        b[:2,:,:]=0\n",
    "        b[:,:2,:]=0\n",
    "        \n",
    "        b =  cv2.resize(b, None, fx=self.scale, fy=self.scale, interpolation=cv2.INTER_NEAREST)\n",
    "\n",
    "        self.to_draw[t,:,:,:]=b\n",
    "\n",
    "\n",
    "    def act(self, action):\n",
    "        \"\"\"This function returns the new state, reward and decides if the\n",
    "        game ends.\"\"\"\n",
    "\n",
    "        self.get_frame(int(self.t))\n",
    "\n",
    "        self.position = np.zeros((self.grid_size, self.grid_size))\n",
    "\n",
    "        self.position[0:2,:]= -1\n",
    "        self.position[:,0:2] = -1\n",
    "        self.position[-2:, :] = -1\n",
    "        self.position[:, -2:] = -1\n",
    "\n",
    "        self.position[self.x, self.y] = 1\n",
    "        if action == 0: # Right\n",
    "            if self.x == self.grid_size-3:\n",
    "                self.x = self.x-1\n",
    "            else:\n",
    "                self.x = self.x + 1\n",
    "        elif action == 1: # Left\n",
    "            if self.x == 2:\n",
    "                self.x = self.x+1\n",
    "            else:\n",
    "                self.x = self.x-1\n",
    "        elif action == 2: # Down\n",
    "            if self.y == self.grid_size - 3:\n",
    "                self.y = self.y - 1\n",
    "            else:\n",
    "                self.y = self.y + 1\n",
    "        elif action == 3: # Up\n",
    "            if self.y == 2:\n",
    "                self.y = self.y + 1\n",
    "            else:\n",
    "                self.y = self.y - 1\n",
    "        else:\n",
    "            RuntimeError('Error: action not recognized')\n",
    "\n",
    "        self.t = self.t + 1\n",
    "        reward = self.board[self.x, self.y]\n",
    "        self.board[self.x, self.y] = 0\n",
    "        game_over = self.t > self.max_time\n",
    "        state = np.concatenate((self.board.reshape(self.grid_size, self.grid_size,1),\n",
    "                        self.position.reshape(self.grid_size, self.grid_size,1)),axis=2)\n",
    "        state = state[self.x-2:self.x+3,self.y-2:self.y+3,:]\n",
    "\n",
    "        return state, reward, game_over\n",
    "\n",
    "    def reset(self):\n",
    "        \"\"\"This function resets the game and returns the initial state\"\"\"\n",
    "\n",
    "        self.x = np.random.randint(3, self.grid_size-3, size=1)[0]\n",
    "        self.y = np.random.randint(3, self.grid_size-3, size=1)[0]\n",
    "\n",
    "\n",
    "        bonus = 0.5*np.random.binomial(1,self.temperature,size=self.grid_size**2)\n",
    "        bonus = bonus.reshape(self.grid_size,self.grid_size)\n",
    "\n",
    "        malus = -1.0*np.random.binomial(1,self.temperature,size=self.grid_size**2)\n",
    "        malus = malus.reshape(self.grid_size, self.grid_size)\n",
    "\n",
    "        self.to_draw = np.zeros((self.max_time+2, self.grid_size*self.scale, self.grid_size*self.scale, 3))\n",
    "\n",
    "\n",
    "        malus[bonus>0]=0\n",
    "\n",
    "        self.board = bonus + malus\n",
    "\n",
    "        self.position = np.zeros((self.grid_size, self.grid_size))\n",
    "        self.position[0:2,:]= -1\n",
    "        self.position[:,0:2] = -1\n",
    "        self.position[-2:, :] = -1\n",
    "        self.position[:, -2:] = -1\n",
    "        self.board[self.x,self.y] = 0\n",
    "        self.t = 0\n",
    "\n",
    "        state = np.concatenate((\n",
    "                               self.board.reshape(self.grid_size, self.grid_size,1),\n",
    "                        self.position.reshape(self.grid_size, self.grid_size,1)),axis=2)\n",
    "\n",
    "        state = state[self.x - 2:self.x + 3, self.y - 2:self.y + 3, :]\n",
    "        return state"
   ]
  },
  {
   "cell_type": "markdown",
   "metadata": {},
   "source": [
    "The following elements are important because they correspond to the hyper parameters for this project:"
   ]
  },
  {
   "cell_type": "code",
   "execution_count": 5,
   "metadata": {},
   "outputs": [],
   "source": [
    "# parameters\n",
    "size = 13\n",
    "T=200\n",
    "temperature=0.3\n",
    "epochs_train=5 # set small when debugging\n",
    "epochs_test=5 # set small when debugging\n",
    "\n",
    "# display videos\n",
    "def display_videos(name):\n",
    "    video = io.open(name, 'r+b').read()\n",
    "    encoded = base64.b64encode(video)\n",
    "    return '''<video alt=\"test\" controls>\n",
    "                <source src=\"data:video/mp4;base64,{0}\" type=\"video/mp4\" />\n",
    "             </video>'''.format(encoded.decode('ascii'))\n"
   ]
  },
  {
   "cell_type": "markdown",
   "metadata": {},
   "source": [
    "__Question 2__ Explain the use of the arrays ```position``` and ```board```."
   ]
  },
  {
   "cell_type": "markdown",
   "metadata": {},
   "source": [
    "```position``` stores an image of the world containing it's boundaries as well as the player position.\n",
    "\n",
    "```board``` stores an image of the position of fruits and poison, it is used to compute the current state as well as the reward."
   ]
  },
  {
   "cell_type": "markdown",
   "metadata": {},
   "source": [
    "## Random Agent"
   ]
  },
  {
   "cell_type": "markdown",
   "metadata": {},
   "source": [
    "***\n",
    "__Question 3__ Implement a random Agent (only ```learned_act``` needs to be implemented):"
   ]
  },
  {
   "cell_type": "code",
   "execution_count": 6,
   "metadata": {},
   "outputs": [],
   "source": [
    "class RandomAgent(Agent):\n",
    "    def __init__(self):\n",
    "        super(RandomAgent, self).__init__()\n",
    "        pass\n",
    "\n",
    "    def learned_act(self, s):\n",
    "        return np.random.randint(self.n_action)"
   ]
  },
  {
   "cell_type": "markdown",
   "metadata": {},
   "source": [
    "***\n",
    "***\n",
    "__Question 4__ Visualize the game moves. You need to fill in the following function for the evaluation:"
   ]
  },
  {
   "cell_type": "code",
   "execution_count": 7,
   "metadata": {},
   "outputs": [],
   "source": [
    "def test(agent,env,epochs,prefix=''):\n",
    "    # Number of won games\n",
    "    score = 0\n",
    "        \n",
    "    for e in range(epochs):\n",
    "        \n",
    "        state = env.reset()\n",
    "        \n",
    "        done = False\n",
    "        win = 0\n",
    "        lose = 0\n",
    "        \n",
    "        while not done:\n",
    "            # The agent performs an action\n",
    "            action = agent.act(state)\n",
    "\n",
    "            # Apply an action to the environment, get the next state, the reward\n",
    "            # and if the games end\n",
    "            prev_state = state\n",
    "            state, reward, done = env.act(action)\n",
    "\n",
    "            # Update the counters\n",
    "            if reward > 0:\n",
    "                win = win + reward\n",
    "            if reward < 0:\n",
    "                lose = lose -reward\n",
    "            \n",
    "        # Save as a mp4\n",
    "        env.draw(prefix+str(e))\n",
    "\n",
    "        # Update stats\n",
    "        score = score + win-lose\n",
    "\n",
    "        print(\"Win/lose count {}/{}. Average score ({})\"\n",
    "              .format(win, lose, score/(1+e)))\n",
    "    print('Final score: '+str(score/epochs))"
   ]
  },
  {
   "cell_type": "code",
   "execution_count": 8,
   "metadata": {},
   "outputs": [
    {
     "name": "stdout",
     "output_type": "stream",
     "text": [
      "Win/lose count 4.0/25.0. Average score (-21.0)\n",
      "Win/lose count 11.5/18.0. Average score (-13.75)\n",
      "Win/lose count 7.0/10.0. Average score (-10.166666666666666)\n",
      "Win/lose count 7.0/6.0. Average score (-7.375)\n",
      "Win/lose count 13.0/17.0. Average score (-6.7)\n",
      "Final score: -6.7\n"
     ]
    },
    {
     "data": {
      "text/html": [
       "<video alt=\"test\" controls>\n",
       "                <source src=\"data:video/mp4;base64,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\" type=\"video/mp4\" />\n",
       "             </video>"
      ],
      "text/plain": [
       "<IPython.core.display.HTML object>"
      ]
     },
     "execution_count": 8,
     "metadata": {},
     "output_type": "execute_result"
    }
   ],
   "source": [
    "# Initialize the game\n",
    "env = Environment(grid_size=size, max_time=T,temperature=temperature)\n",
    "\n",
    "# Initialize the agent!\n",
    "agent = RandomAgent()\n",
    "\n",
    "test(agent,env,epochs_test,prefix='random')\n",
    "HTML(display_videos('random0.mp4'))\n"
   ]
  },
  {
   "cell_type": "markdown",
   "metadata": {},
   "source": [
    "***\n",
    "## DQN"
   ]
  },
  {
   "cell_type": "markdown",
   "metadata": {},
   "source": [
    "Let us assume here that $T=\\infty$.\n",
    "\n",
    "***\n",
    "__Question 5__ Let $\\pi$ be a policy, show that:\n",
    "\n",
    "\\begin{equation*}\n",
    "Q^{\\pi}(s,a)=E_{(s',a')\\sim p(.|s,a)}[r(s,a)+\\gamma Q^{\\pi}(s',a')]\n",
    "\\end{equation*}\n",
    "\n",
    "Then, show that for the optimal policy $\\pi^*$ (we assume its existence), the following holds: \n",
    "\n",
    "\\begin{equation*}\n",
    "Q^{*}(s,a)=E_{s'\\sim \\pi^*(.|s,a)}[r(s,a)+\\gamma\\max_{a'}Q^{*}(s',a')].\n",
    "\\end{equation*}\n",
    "Finally, deduce that a plausible objective is:\n",
    "\n",
    "\\begin{equation*}\n",
    "\\mathcal{L}(\\theta)=E_{s' \\sim \\pi^*(.|s,a)}\\Vert r+\\gamma\\max_{a'}Q(s',a',\\theta)-Q(s,a,\\theta)\\Vert^{2}.\n",
    "\\end{equation*}\n",
    "\n",
    "\n"
   ]
  },
  {
   "cell_type": "markdown",
   "metadata": {},
   "source": [
    "- We have\n",
    "$$ Q^{\\pi}(s,a) = E_{\\pi}\\left[ \\sum_{k=0}^{\\infty}\\gamma^kr_k \\mid s_0=s, a_0=a \\right] $$\n",
    "$$ Q^{\\pi}(s,a) = E_{\\pi}\\left[r(s,a) + \\gamma\\sum_{k=1}^{\\infty}\\gamma^kr_k\\right]  $$\n",
    "$$ Q^{\\pi}(s,a) = E_{(s',a')\\sim \\pi(.\\mid s,a)}\\left[  r(s,a) + \\gamma Q^{\\pi}(s',a')  \\right] $$"
   ]
  },
  {
   "cell_type": "markdown",
   "metadata": {},
   "source": [
    "- For the optimal policy the following must hold\n",
    "$$Q^{*}(s,a)=E_{s'\\sim \\pi^*(.|s,a)}[r(s,a)+\\gamma\\max_{a'}Q^{*}(s',a')]$$\n",
    "as selecting a value out of $\\arg\\max_{a'}Q^*(s',a')$ would raise a policy with a value function smaller than the optimal one in state $s'$ which is $V^*(s') = \\max_{a'}Q^*(s',a')$."
   ]
  },
  {
   "cell_type": "markdown",
   "metadata": {},
   "source": [
    "***\n",
    "The DQN-learning algorithm relies on these derivations to train the parameters $\\theta$ of a Deep Neural Network:\n",
    "\n",
    "1. At the state $s_t$, select the action $a_t$ with best reward using $Q_t$ and store the results;\n",
    "\n",
    "2. Obtain the new state $s_{t+1}$ from the environment $p$;\n",
    "\n",
    "3. Store $(s_t,a_t,s_{t+1})$;\n",
    "\n",
    "4. Obtain $Q_{t+1}$ by minimizing  $\\mathcal{L}$ from a recovered batch from the previously stored results.\n",
    "\n",
    "***\n",
    "__Question 6__ Implement the class ```Memory``` that stores moves (in a replay buffer) via ```remember``` and provides a ```random_access``` to these. Specify a maximum memory size to avoid side effects. You can for example use a ```list()``` and set by default ```max_memory=100```."
   ]
  },
  {
   "cell_type": "code",
   "execution_count": 10,
   "metadata": {},
   "outputs": [],
   "source": [
    "import random\n",
    "\n",
    "class Memory(object):\n",
    "    def __init__(self, max_memory=100):\n",
    "        self.max_memory = max_memory\n",
    "        self.memory = list()\n",
    "\n",
    "    def remember(self, m):\n",
    "        if len(self.memory) < self.max_memory:\n",
    "            self.memory.append(m)\n",
    "        else:\n",
    "            self.memory[random.randrange(self.max_memory)] = m\n",
    "\n",
    "    def random_access(self):\n",
    "        return random.choice(self.memory)"
   ]
  },
  {
   "cell_type": "markdown",
   "metadata": {},
   "source": [
    "***\n",
    "The pipeline we will use for training is given below:"
   ]
  },
  {
   "cell_type": "code",
   "execution_count": 11,
   "metadata": {},
   "outputs": [],
   "source": [
    "def train(agent,env,epoch,prefix=''):\n",
    "    # Number of won games\n",
    "    score = 0\n",
    "    loss = 0\n",
    "\n",
    "    for e in range(epoch):\n",
    "        # At each epoch, we restart to a fresh game and get the initial state\n",
    "        state = env.reset()\n",
    "        # This assumes that the games will terminate\n",
    "        game_over = False\n",
    "\n",
    "        win = 0\n",
    "        lose = 0\n",
    "\n",
    "        while not game_over:\n",
    "            # The agent performs an action\n",
    "            action = agent.act(state)\n",
    "\n",
    "            # Apply an action to the environment, get the next state, the reward\n",
    "            # and if the games end\n",
    "            prev_state = state\n",
    "            state, reward, game_over = env.act(action)\n",
    "\n",
    "            # Update the counters\n",
    "            if reward > 0:\n",
    "                win = win + reward\n",
    "            if reward < 0:\n",
    "                lose = lose -reward\n",
    "\n",
    "            # Apply the reinforcement strategy\n",
    "            loss = agent.reinforce(prev_state, state,  action, reward, game_over)\n",
    "\n",
    "        # Save as a mp4\n",
    "        if e % 10 == 0:\n",
    "            env.draw(prefix+str(e))\n",
    "\n",
    "        # Update stats\n",
    "        score += win-lose\n",
    "\n",
    "        print(\"Epoch {:03d}/{:03d} | Loss {:.4f} | Win/lose count {}/{} ({})\"\n",
    "              .format(e, epoch, loss, win, lose, win-lose))\n",
    "        agent.save(name_weights=prefix+'model.h5',name_model=prefix+'model.json')"
   ]
  },
  {
   "cell_type": "markdown",
   "metadata": {},
   "source": [
    "***\n",
    "__Question 7__ Implement the DQN training algorithm using a cascade of fully connected layers. You can use different learning rate, batch size or memory size parameters. In particular, the loss might oscillate while the player will start to win the games. You have to find a good criterium."
   ]
  },
  {
   "cell_type": "code",
   "execution_count": null,
   "metadata": {
    "collapsed": true,
    "jupyter": {
     "outputs_hidden": true
    }
   },
   "outputs": [],
   "source": [
    "class DQN(Agent):\n",
    "    def __init__(self, grid_size,  epsilon = 0.1, memory_size=100, batch_size = 16,n_state=2):\n",
    "        super(DQN, self).__init__(epsilon = epsilon)\n",
    "\n",
    "        # Discount for Q learning\n",
    "        self.discount = 0.99\n",
    "        \n",
    "        self.grid_size = grid_size\n",
    "        \n",
    "        # number of state\n",
    "        self.n_state = n_state\n",
    "\n",
    "        # Memory\n",
    "        self.memory = Memory(memory_size)\n",
    "        \n",
    "        # Batch size when learning\n",
    "        self.batch_size = batch_size\n",
    "\n",
    "    def learned_act(self, s):\n",
    "        pass\n",
    "\n",
    "    def reinforce(self, s_, n_s_, a_, r_, game_over_):\n",
    "        # Two steps: first memorize the states, second learn from the pool\n",
    "\n",
    "        self.memory.remember([s_, n_s_, a_, r_, game_over_])\n",
    "        \n",
    "        input_states = np.zeros((self.batch_size, 5,5,self.n_state))\n",
    "        target_q = np.zeros((self.batch_size, 4))\n",
    "        \n",
    "        for i in range(self.batch_size):\n",
    "            ######## FILL IN\n",
    "            \n",
    "            if game_over_:\n",
    "                ######## FILL IN\n",
    "            else:\n",
    "                ######## FILL IN\n",
    "        ######## FILL IN\n",
    "        # HINT: Clip the target to avoid exploiding gradients.. -- clipping is a bit tighter\n",
    "        target_q = np.clip(target_q, -3, 3)\n",
    "\n",
    "        l = self.model.train_on_batch(input_states, target_q)\n",
    "\n",
    "\n",
    "        return l\n",
    "\n",
    "    def save(self,name_weights='model.h5',name_model='model.json'):\n",
    "        self.model.save_weights(name_weights, overwrite=True)\n",
    "        with open(name_model, \"w\") as outfile:\n",
    "            json.dump(self.model.to_json(), outfile)\n",
    "            \n",
    "    def load(self,name_weights='model.h5',name_model='model.json'):\n",
    "        with open(name_model, \"r\") as jfile:\n",
    "            model = model_from_json(json.load(jfile))\n",
    "        model.load_weights(name_weights)\n",
    "        model.compile(\"sgd\", \"mse\")\n",
    "        self.model = model\n",
    "\n",
    "            \n",
    "class DQN_FC(DQN):\n",
    "    def __init__(self, *args, lr=0.1,**kwargs):\n",
    "        super(DQN_FC, self).__init__( *args,**kwargs)\n",
    "        \n",
    "        # NN Model\n",
    "        \n",
    "        ####### FILL IN\n",
    "        \n",
    "        model.compile(sgd(lr=lr, decay=1e-4, momentum=0.0), \"mse\")\n",
    "        self.model = model\n",
    "        "
   ]
  },
  {
   "cell_type": "code",
   "execution_count": null,
   "metadata": {
    "collapsed": true,
    "jupyter": {
     "outputs_hidden": true
    }
   },
   "outputs": [],
   "source": [
    "env = Environment(grid_size=size, max_time=T, temperature=0.3)\n",
    "agent = DQN_FC(size, lr=.1, epsilon = 0.1, memory_size=2000, batch_size = 32)\n",
    "train(agent, env, epochs_train, prefix='fc_train')\n",
    "HTML(display_videos('fc_train10.mp4'))"
   ]
  },
  {
   "cell_type": "markdown",
   "metadata": {},
   "source": [
    "***\n",
    "***\n",
    "__Question 8__ Implement the DQN training algorithm using a CNN (for example, 2 convolutional layers and one final fully connected layer)."
   ]
  },
  {
   "cell_type": "code",
   "execution_count": null,
   "metadata": {
    "collapsed": true,
    "jupyter": {
     "outputs_hidden": true
    }
   },
   "outputs": [],
   "source": [
    "class DQN_CNN(DQN):\n",
    "    def __init__(self, *args,lr=0.1,**kwargs):\n",
    "        super(DQN_CNN, self).__init__(*args,**kwargs)\n",
    "        \n",
    "        ###### FILL IN\n",
    "        \n",
    "        model.compile(sgd(lr=lr, decay=1e-4, momentum=0.0), \"mse\")\n",
    "        self.model = model"
   ]
  },
  {
   "cell_type": "code",
   "execution_count": null,
   "metadata": {
    "collapsed": true,
    "jupyter": {
     "outputs_hidden": true
    }
   },
   "outputs": [],
   "source": [
    "env = Environment(grid_size=size, max_time=T, temperature=0.3)\n",
    "agent = DQN_CNN(size, lr=.1, epsilon = 0.1, memory_size=2000, batch_size = 32)\n",
    "train(agent,env,epochs_train,prefix='cnn_train')\n",
    "HTML(display_videos('cnn_train10.mp4'))"
   ]
  },
  {
   "cell_type": "markdown",
   "metadata": {},
   "source": [
    "***\n",
    "***\n",
    "__Question 9__ Test both algorithms and compare their performances. Which issue(s) do you observe? Observe also different behaviors by changing the temperature."
   ]
  },
  {
   "cell_type": "code",
   "execution_count": null,
   "metadata": {
    "collapsed": true,
    "jupyter": {
     "outputs_hidden": true
    }
   },
   "outputs": [],
   "source": [
    "env = Environment(grid_size=size, max_time=T,temperature=0.3)\n",
    "agent_cnn = DQN_CNN(size, lr=.1, epsilon = 0.1, memory_size=2000, batch_size = 32)\n",
    "agent_cnn.load(name_weights='cnn_trainmodel.h5',name_model='cnn_trainmodel.json')\n",
    "\n",
    "agent_fc = DQN_FC(size, lr=.1, epsilon = 0.1, memory_size=2000, batch_size = 32)\n",
    "agent_cnn.load(name_weights='fc_trainmodel.h5',name_model='fc_trainmodel.json')\n",
    "print('Test of the CNN')\n",
    "test(agent_cnn,env,epochs_test,prefix='cnn_test')\n",
    "print('Test of the FC')\n",
    "test(agent_fc,env,epochs_test,prefix='fc_test')"
   ]
  },
  {
   "cell_type": "code",
   "execution_count": null,
   "metadata": {
    "collapsed": true,
    "jupyter": {
     "outputs_hidden": true
    }
   },
   "outputs": [],
   "source": [
    "HTML(display_videos('cnn_test10.mp4'))"
   ]
  },
  {
   "cell_type": "code",
   "execution_count": null,
   "metadata": {
    "collapsed": true,
    "jupyter": {
     "outputs_hidden": true
    }
   },
   "outputs": [],
   "source": [
    "HTML(display_videos('fc_test10.mp4'))"
   ]
  },
  {
   "cell_type": "markdown",
   "metadata": {},
   "source": []
  },
  {
   "cell_type": "markdown",
   "metadata": {},
   "source": [
    "***\n",
    "\n",
    "The algorithm tends to not explore the map which can be an issue. We propose two ideas in order to encourage exploration:\n",
    "1. Incorporating a decreasing $\\epsilon$-greedy exploration. You can use the method ```set_epsilon```\n",
    "2. Append via the environment a new state that describes if a cell has been visited or not\n",
    "\n",
    "***\n",
    "__Question 10__ Design a new ```train_explore``` function and environment class ```EnvironmentExploring``` to tackle the issue of exploration.\n",
    "\n"
   ]
  },
  {
   "cell_type": "code",
   "execution_count": null,
   "metadata": {
    "collapsed": true,
    "jupyter": {
     "outputs_hidden": true
    }
   },
   "outputs": [],
   "source": [
    "def train_explore(agent,env,epoch,prefix=''):\n",
    "    pass\n",
    "        \n",
    "class EnvironmentExploring(object):\n",
    "    def __init__(self, grid_size=10, max_time=500, temperature=0.1):\n",
    "        pass\n",
    "    \n",
    "## use those samples of code:\n",
    "#In train explore:\n",
    "state, reward, game_over = env.act(action, train=True)\n",
    "\n",
    "## In Environment exploring:\n",
    "# You will have to change n_state to 3 because you will use one more layer!\n",
    "reward = 0\n",
    "if train:\n",
    "    reward = -self.malus_position[self.x, self.y]\n",
    "self.malus_position[self.x, self.y] = 0.1\n",
    "\n",
    "reward = reward + self.board[self.x, self.y]\n",
    "# 3 \"feature\" states instead of 2\n",
    "state = np.concatenate((self.malus_position.reshape(self.grid_size, self.grid_size,1),\n",
    "                                self.board.reshape(self.grid_size, self.grid_size,1),\n",
    "                        self.position.reshape(self.grid_size, self.grid_size,1)),axis=2)"
   ]
  },
  {
   "cell_type": "code",
   "execution_count": null,
   "metadata": {
    "collapsed": true,
    "jupyter": {
     "outputs_hidden": true
    }
   },
   "outputs": [],
   "source": [
    "# Training\n",
    "env = EnvironmentExploring(grid_size=size, max_time=T, temperature=0.3)\n",
    "agent = DQN_CNN(size, lr=.1, epsilon = 0.1, memory_size=2000, batch_size = 32,n_state=3)\n",
    "train_explore(agent, env, epochs_train, prefix='cnn_train_explore')\n",
    "HTML(display_videos('cnn_train_explore10.mp4'))"
   ]
  },
  {
   "cell_type": "code",
   "execution_count": null,
   "metadata": {
    "collapsed": true,
    "jupyter": {
     "outputs_hidden": true
    }
   },
   "outputs": [],
   "source": [
    "# Evaluation\n",
    "test(agent,env,epochs_test,prefix='cnn_test_explore')\n",
    "HTML(display_videos('cnn_test_explore10.mp4'))"
   ]
  },
  {
   "cell_type": "markdown",
   "metadata": {},
   "source": [
    "***\n",
    "***\n",
    "__BONUS question__ Use the expert DQN from the previous question to generate some winning games. Train a model that mimicks its behavior. Compare the performances."
   ]
  },
  {
   "cell_type": "markdown",
   "metadata": {},
   "source": []
  },
  {
   "cell_type": "markdown",
   "metadata": {},
   "source": [
    "***"
   ]
  }
 ],
 "metadata": {
  "kernelspec": {
   "display_name": "Python 3",
   "language": "python",
   "name": "python3"
  },
  "language_info": {
   "codemirror_mode": {
    "name": "ipython",
    "version": 3
   },
   "file_extension": ".py",
   "mimetype": "text/x-python",
   "name": "python",
   "nbconvert_exporter": "python",
   "pygments_lexer": "ipython3",
   "version": "3.6.8"
  }
 },
 "nbformat": 4,
 "nbformat_minor": 4
}
