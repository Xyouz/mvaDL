{
 "cells": [
  {
   "cell_type": "markdown",
   "metadata": {},
   "source": [
    "**You may need to install [OpenCV](https://pypi.python.org/pypi/opencv-python) and [scikit-video](http://www.scikit-video.org/stable/).**"
   ]
  },
  {
   "cell_type": "code",
   "execution_count": 1,
   "metadata": {},
   "outputs": [
    {
     "name": "stderr",
     "output_type": "stream",
     "text": [
      "Using TensorFlow backend.\n"
     ]
    }
   ],
   "source": [
    "import keras\n",
    "import numpy as np\n",
    "import io\n",
    "import base64\n",
    "from IPython.display import HTML\n",
    "import skvideo.io\n",
    "import cv2\n",
    "import json\n",
    "\n",
    "from keras.models import Sequential,model_from_json\n",
    "from keras.layers.core import Dense\n",
    "from keras.optimizers import sgd\n",
    "from keras.layers import Conv2D, MaxPooling2D, Activation, AveragePooling2D,Reshape,BatchNormalization"
   ]
  },
  {
   "cell_type": "markdown",
   "metadata": {},
   "source": [
    "# MiniProject on Deep Reinforcement Learning"
   ]
  },
  {
   "cell_type": "markdown",
   "metadata": {},
   "source": [
    "__Notations__: $E_p$ is the expectation under probability $p$. Please justify each of your answer and widely comment your code."
   ]
  },
  {
   "cell_type": "markdown",
   "metadata": {},
   "source": [
    "# Context"
   ]
  },
  {
   "cell_type": "markdown",
   "metadata": {},
   "source": [
    "In a reinforcement learning algorithm, we modelize each step $t$ as an action $a_t$ obtained from a state $s_t$, i.e. $\\{(a_{t},s_{t})_{t\\leq T}\\}$ having the Markov property. We consider a discount factor $\\gamma \\in [0,1]$ that ensures convergence. The goal is to find among all the policies $\\pi$, one that maximizes the expected reward:\n",
    "\n",
    "\\begin{equation*}\n",
    "R(\\pi)=\\sum_{t\\leq T}E_{p^{\\pi}}[\\gamma^t r(s_{t},a_{t})] \\> ,\n",
    "\\end{equation*}\n",
    "\n",
    "where: \n",
    "\\begin{equation*}p^{\\pi}(a_{0},a_{1},s_{1},...,a_{T},s_{T})=p(a_{0})\\prod_{t=1}^{T}\\pi(a_{t}|s_{t})p(s_{t+1}|s_{t},a_{t}) \\> .\n",
    "\\end{equation*}\n",
    "\n",
    "We note the $Q$-function:\n",
    "\n",
    "\\begin{equation*}Q^\\pi(s,a)=E_{p^{\\pi}}[\\sum_{t\\leq T}\\gamma^{t}r(s_{t},a_{t})|s_{0}=s,a_{0}=a] \\> .\n",
    "\\end{equation*}\n",
    "\n",
    "Thus, the optimal Q function is:\n",
    "\\begin{equation*}\n",
    "Q^*(s,a)=\\max_{\\pi}Q^\\pi(s,a) \\> .\n",
    "\\end{equation*}\n",
    "\n",
    "In this project, we will apply the deep reinforcement learning techniques to a simple game: an agent will have to learn from scratch a policy that will permit it maximizing a reward."
   ]
  },
  {
   "cell_type": "markdown",
   "metadata": {},
   "source": [
    "## The environment, the agent and the game"
   ]
  },
  {
   "cell_type": "markdown",
   "metadata": {},
   "source": [
    "### The environment"
   ]
  },
  {
   "cell_type": "markdown",
   "metadata": {},
   "source": [
    "```Environment``` is an abstract class that represents the states, rewards, and actions to obtain the new state."
   ]
  },
  {
   "cell_type": "code",
   "execution_count": 2,
   "metadata": {},
   "outputs": [],
   "source": [
    "class Environment(object):\n",
    "    def __init__(self):\n",
    "        pass\n",
    "\n",
    "    def act(self, act):\n",
    "        \"\"\"\n",
    "        One can act on the environment and obtain its reaction:\n",
    "        - the new state\n",
    "        - the reward of the new state\n",
    "        - should we continue the game?\n",
    "\n",
    "        :return: state, reward, game_over\n",
    "        \"\"\"\n",
    "        pass\n",
    "\n",
    "\n",
    "    def reset(self):\n",
    "        \"\"\"\n",
    "        Reinitialize the environment to a random state and returns\n",
    "        the original state\n",
    "\n",
    "        :return: state\n",
    "        \"\"\"\n",
    "        pass\n",
    "    \n",
    "    def draw(self):\n",
    "        \"\"\"\n",
    "        Visualize in the console or graphically the current state\n",
    "        \"\"\"\n",
    "        pass"
   ]
  },
  {
   "cell_type": "markdown",
   "metadata": {},
   "source": [
    "The method ```act``` allows to act on the environment at a given state $s_t$ (stored internally), via action $a_t$. The method will return the new state $s_{t+1}$, the reward $r(s_{t},a_{t})$ and determines if $t\\leq T$ (*game_over*).\n",
    "\n",
    "The method ```reset``` simply reinitializes the environment to a random state $s_0$.\n",
    "\n",
    "The method ```draw``` displays the current state $s_t$ (this is useful to check the behavior of the Agent).\n",
    "\n",
    "We modelize $s_t$ as a tensor, while $a_t$ is an integer."
   ]
  },
  {
   "cell_type": "markdown",
   "metadata": {},
   "source": [
    "### The Agent"
   ]
  },
  {
   "cell_type": "markdown",
   "metadata": {},
   "source": [
    "The goal of the ```Agent``` is to interact with the ```Environment``` by proposing actions $a_t$ obtained from a given state $s_t$ to attempt to maximize its __reward__ $r(s_t,a_t)$. We propose the following abstract class:"
   ]
  },
  {
   "cell_type": "code",
   "execution_count": 3,
   "metadata": {},
   "outputs": [],
   "source": [
    "class Agent(object):\n",
    "    def __init__(self, epsilon=0.1, n_action=4):\n",
    "        self.epsilon = epsilon\n",
    "        self.n_action = n_action\n",
    "    \n",
    "    def set_epsilon(self,e):\n",
    "        self.epsilon = e\n",
    "\n",
    "    def act(self,s,train=True):\n",
    "        \"\"\" This function should return the next action to do:\n",
    "        an integer between 0 and 4 (not included) with a random exploration of epsilon\"\"\"\n",
    "        if train:\n",
    "            if np.random.rand() <= self.epsilon:\n",
    "                a = np.random.randint(0, self.n_action, size=1)[0]\n",
    "            else:\n",
    "                a = self.learned_act(s)\n",
    "        else: # in some cases, this can improve the performance.. remove it if poor performances\n",
    "            a = self.learned_act(s)\n",
    "\n",
    "        return a\n",
    "\n",
    "    def learned_act(self,s):\n",
    "        \"\"\" Act via the policy of the agent, from a given state s\n",
    "        it proposes an action a\"\"\"\n",
    "        pass\n",
    "\n",
    "    def reinforce(self, s, n_s, a, r, game_over_):\n",
    "        \"\"\" This function is the core of the learning algorithm. \n",
    "        It takes as an input the current state s_, the next state n_s_\n",
    "        the action a_ used to move from s_ to n_s_ and the reward r_.\n",
    "        \n",
    "        Its goal is to learn a policy.\n",
    "        \"\"\"\n",
    "        pass\n",
    "\n",
    "    def save(self):\n",
    "        \"\"\" This function returns basic stats if applicable: the\n",
    "        loss and/or the model\"\"\"\n",
    "        pass\n",
    "\n",
    "    def load(self):\n",
    "        \"\"\" This function allows to restore a model\"\"\"\n",
    "        pass"
   ]
  },
  {
   "cell_type": "markdown",
   "metadata": {},
   "source": [
    "***\n",
    "__Question 1__:\n",
    "Explain the function act. Why is ```epsilon``` essential?"
   ]
  },
  {
   "cell_type": "markdown",
   "metadata": {},
   "source": [
    "The agent acts according to the learnt policy most of the time but it sometimes ($\\epsilon$ of the time) act randomly. This behaviour is useful to ensure that the state-action space is well explored and that the agent does not lock himself in a sub-optimal policy."
   ]
  },
  {
   "cell_type": "markdown",
   "metadata": {},
   "source": [
    "***\n",
    "### The Game"
   ]
  },
  {
   "cell_type": "markdown",
   "metadata": {},
   "source": [
    "The ```Agent``` and the ```Environment``` work in an interlaced way as in the following (take some time to understand this code as it is the core of the project)\n",
    "\n",
    "```python\n",
    "\n",
    "epoch = 300\n",
    "env = Environment()\n",
    "agent = Agent()\n",
    "\n",
    "\n",
    "# Number of won games\n",
    "score = 0\n",
    "loss = 0\n",
    "\n",
    "\n",
    "for e in range(epoch):\n",
    "    # At each epoch, we restart to a fresh game and get the initial state\n",
    "    state = env.reset()\n",
    "    # This assumes that the games will end\n",
    "    game_over = False\n",
    "\n",
    "    win = 0\n",
    "    lose = 0\n",
    "    \n",
    "    while not game_over:\n",
    "        # The agent performs an action\n",
    "        action = agent.act(state)\n",
    "\n",
    "        # Apply an action to the environment, get the next state, the reward\n",
    "        # and if the games end\n",
    "        prev_state = state\n",
    "        state, reward, game_over = env.act(action)\n",
    "\n",
    "        # Update the counters\n",
    "        if reward > 0:\n",
    "            win = win + reward\n",
    "        if reward < 0:\n",
    "            lose = lose -reward\n",
    "\n",
    "        # Apply the reinforcement strategy\n",
    "        loss = agent.reinforce(prev_state, state,  action, reward, game_over)\n",
    "\n",
    "    # Save as a mp4\n",
    "    if e % 10 == 0:\n",
    "        env.draw(e)\n",
    "\n",
    "    # Update stats\n",
    "    score += win-lose\n",
    "\n",
    "    print(\"Epoch {:03d}/{:03d} | Loss {:.4f} | Win/lose count {}/{} ({})\"\n",
    "          .format(e, epoch, loss, win, lose, win-lose))\n",
    "    agent.save()\n",
    "```"
   ]
  },
  {
   "cell_type": "markdown",
   "metadata": {},
   "source": [
    "# The game, *eat cheese*"
   ]
  },
  {
   "cell_type": "markdown",
   "metadata": {},
   "source": [
    "A rat runs on an island and tries to eat as much as possible. The island is subdivided into $N\\times N$ cells, in which there are cheese (+0.5) and poisonous cells (-1). The rat has a visibility of 2 cells (thus it can see $5^2$ cells). The rat is given a time $T$ to accumulate as much food as possible. It can perform 4 actions: going up, down, left, right. \n",
    "\n",
    "The goal is to code an agent to solve this task that will learn by trial and error. We propose the following environment:"
   ]
  },
  {
   "cell_type": "code",
   "execution_count": 6,
   "metadata": {},
   "outputs": [],
   "source": [
    "class Environment(object):\n",
    "    def __init__(self, grid_size=10, max_time=500, temperature=0.1):\n",
    "        grid_size = grid_size+4\n",
    "        self.grid_size = grid_size\n",
    "        self.max_time = max_time\n",
    "        self.temperature = temperature\n",
    "\n",
    "        #board on which one plays\n",
    "        self.board = np.zeros((grid_size,grid_size))\n",
    "        self.position = np.zeros((grid_size,grid_size))\n",
    "\n",
    "        # coordinate of the cat\n",
    "        self.x = 0\n",
    "        self.y = 1\n",
    "\n",
    "        # self time\n",
    "        self.t = 0\n",
    "\n",
    "        self.scale=16\n",
    "\n",
    "        self.to_draw = np.zeros((max_time+2, grid_size*self.scale, grid_size*self.scale, 3))\n",
    "\n",
    "\n",
    "    def draw(self,e):\n",
    "        skvideo.io.vwrite(str(e) + '.mp4', self.to_draw)\n",
    "\n",
    "    def get_frame(self,t):\n",
    "        b = np.zeros((self.grid_size,self.grid_size,3))+128\n",
    "        b[self.board>0,0] = 256\n",
    "        b[self.board < 0, 2] = 256\n",
    "        b[self.x,self.y,:]=256\n",
    "        b[-2:,:,:]=0\n",
    "        b[:,-2:,:]=0\n",
    "        b[:2,:,:]=0\n",
    "        b[:,:2,:]=0\n",
    "        \n",
    "        b =  cv2.resize(b, None, fx=self.scale, fy=self.scale, interpolation=cv2.INTER_NEAREST)\n",
    "\n",
    "        self.to_draw[t,:,:,:]=b\n",
    "\n",
    "\n",
    "    def act(self, action):\n",
    "        \"\"\"This function returns the new state, reward and decides if the\n",
    "        game ends.\"\"\"\n",
    "\n",
    "        self.get_frame(int(self.t))\n",
    "\n",
    "        self.position = np.zeros((self.grid_size, self.grid_size))\n",
    "\n",
    "        self.position[0:2,:]= -1\n",
    "        self.position[:,0:2] = -1\n",
    "        self.position[-2:, :] = -1\n",
    "        self.position[:, -2:] = -1\n",
    "\n",
    "        self.position[self.x, self.y] = 1\n",
    "        if action == 0: # Right\n",
    "            if self.x == self.grid_size-3:\n",
    "                self.x = self.x-1\n",
    "            else:\n",
    "                self.x = self.x + 1\n",
    "        elif action == 1: # Left\n",
    "            if self.x == 2:\n",
    "                self.x = self.x+1\n",
    "            else:\n",
    "                self.x = self.x-1\n",
    "        elif action == 2: # Down\n",
    "            if self.y == self.grid_size - 3:\n",
    "                self.y = self.y - 1\n",
    "            else:\n",
    "                self.y = self.y + 1\n",
    "        elif action == 3: # Up\n",
    "            if self.y == 2:\n",
    "                self.y = self.y + 1\n",
    "            else:\n",
    "                self.y = self.y - 1\n",
    "        else:\n",
    "            RuntimeError('Error: action not recognized')\n",
    "\n",
    "        self.t = self.t + 1\n",
    "        reward = self.board[self.x, self.y]\n",
    "        self.board[self.x, self.y] = 0\n",
    "        game_over = self.t > self.max_time\n",
    "        state = np.concatenate((self.board.reshape(self.grid_size, self.grid_size,1),\n",
    "                        self.position.reshape(self.grid_size, self.grid_size,1)),axis=2)\n",
    "        state = state[self.x-2:self.x+3,self.y-2:self.y+3,:]\n",
    "\n",
    "        return state, reward, game_over\n",
    "\n",
    "    def reset(self):\n",
    "        \"\"\"This function resets the game and returns the initial state\"\"\"\n",
    "\n",
    "        self.x = np.random.randint(3, self.grid_size-3, size=1)[0]\n",
    "        self.y = np.random.randint(3, self.grid_size-3, size=1)[0]\n",
    "\n",
    "\n",
    "        bonus = 0.5*np.random.binomial(1,self.temperature,size=self.grid_size**2)\n",
    "        bonus = bonus.reshape(self.grid_size,self.grid_size)\n",
    "\n",
    "        malus = -1.0*np.random.binomial(1,self.temperature,size=self.grid_size**2)\n",
    "        malus = malus.reshape(self.grid_size, self.grid_size)\n",
    "\n",
    "        self.to_draw = np.zeros((self.max_time+2, self.grid_size*self.scale, self.grid_size*self.scale, 3))\n",
    "\n",
    "\n",
    "        malus[bonus>0]=0\n",
    "\n",
    "        self.board = bonus + malus\n",
    "\n",
    "        self.position = np.zeros((self.grid_size, self.grid_size))\n",
    "        self.position[0:2,:]= -1\n",
    "        self.position[:,0:2] = -1\n",
    "        self.position[-2:, :] = -1\n",
    "        self.position[:, -2:] = -1\n",
    "        self.board[self.x,self.y] = 0\n",
    "        self.t = 0\n",
    "\n",
    "        state = np.concatenate((\n",
    "                               self.board.reshape(self.grid_size, self.grid_size,1),\n",
    "                        self.position.reshape(self.grid_size, self.grid_size,1)),axis=2)\n",
    "\n",
    "        state = state[self.x - 2:self.x + 3, self.y - 2:self.y + 3, :]\n",
    "        return state"
   ]
  },
  {
   "cell_type": "markdown",
   "metadata": {},
   "source": [
    "The following elements are important because they correspond to the hyper parameters for this project:"
   ]
  },
  {
   "cell_type": "code",
   "execution_count": 43,
   "metadata": {},
   "outputs": [],
   "source": [
    "# parameters\n",
    "size = 13\n",
    "T=200\n",
    "temperature=0.3\n",
    "epochs_train=5 # set small when debugging\n",
    "epochs_test=5 # set small when debugging\n",
    "\n",
    "# display videos\n",
    "def display_videos(name):\n",
    "    video = io.open(name, 'r+b').read()\n",
    "    encoded = base64.b64encode(video)\n",
    "    return '''<video alt=\"test\" controls>\n",
    "                <source src=\"data:video/mp4;base64,{0}\" type=\"video/mp4\" />\n",
    "             </video>'''.format(encoded.decode('ascii'))\n"
   ]
  },
  {
   "cell_type": "markdown",
   "metadata": {},
   "source": [
    "__Question 2__ Explain the use of the arrays ```position``` and ```board```."
   ]
  },
  {
   "cell_type": "markdown",
   "metadata": {},
   "source": [
    "```position``` stores an image of the world containing it's boundaries as well as the player position.\n",
    "\n",
    "```board``` stores an image of the position of fruits and poison, it is used to compute the current state as well as the reward."
   ]
  },
  {
   "cell_type": "markdown",
   "metadata": {},
   "source": [
    "## Random Agent"
   ]
  },
  {
   "cell_type": "markdown",
   "metadata": {},
   "source": [
    "***\n",
    "__Question 3__ Implement a random Agent (only ```learned_act``` needs to be implemented):"
   ]
  },
  {
   "cell_type": "code",
   "execution_count": 44,
   "metadata": {},
   "outputs": [],
   "source": [
    "class RandomAgent(Agent):\n",
    "    def __init__(self):\n",
    "        super(RandomAgent, self).__init__()\n",
    "        pass\n",
    "\n",
    "    def learned_act(self, s):\n",
    "        return np.random.randint(self.n_action)"
   ]
  },
  {
   "cell_type": "markdown",
   "metadata": {},
   "source": [
    "***\n",
    "***\n",
    "__Question 4__ Visualize the game moves. You need to fill in the following function for the evaluation:"
   ]
  },
  {
   "cell_type": "code",
   "execution_count": 45,
   "metadata": {},
   "outputs": [],
   "source": [
    "def test(agent,env,epochs,prefix=''):\n",
    "    # Number of won games\n",
    "    score = 0\n",
    "        \n",
    "    for e in range(epochs):\n",
    "        \n",
    "        state = env.reset()\n",
    "        \n",
    "        done = False\n",
    "        win = 0\n",
    "        lose = 0\n",
    "        \n",
    "        while not done:\n",
    "            # The agent performs an action\n",
    "            action = agent.act(state)\n",
    "\n",
    "            # Apply an action to the environment, get the next state, the reward\n",
    "            # and if the games end\n",
    "            prev_state = state\n",
    "            state, reward, done = env.act(action)\n",
    "\n",
    "            # Update the counters\n",
    "            if reward > 0:\n",
    "                win = win + reward\n",
    "            if reward < 0:\n",
    "                lose = lose -reward\n",
    "            \n",
    "        # Save as a mp4\n",
    "        env.draw(prefix+str(e))\n",
    "\n",
    "        # Update stats\n",
    "        score = score + win-lose\n",
    "\n",
    "        print(\"Win/lose count {}/{}. Average score ({})\"\n",
    "              .format(win, lose, score/(1+e)))\n",
    "    print('Final score: '+str(score/epochs))"
   ]
  },
  {
   "cell_type": "code",
   "execution_count": 46,
   "metadata": {},
   "outputs": [
    {
     "name": "stdout",
     "output_type": "stream",
     "text": [
      "Win/lose count 11.0/7.0. Average score (4.0)\n",
      "Win/lose count 13.0/12.0. Average score (2.5)\n",
      "Win/lose count 6.0/4.0. Average score (2.3333333333333335)\n",
      "Win/lose count 8.0/12.0. Average score (0.75)\n",
      "Win/lose count 12.5/14.0. Average score (0.3)\n",
      "Final score: 0.3\n"
     ]
    },
    {
     "data": {
      "text/html": [
       "<video alt=\"test\" controls>\n",
       "                <source src=\"data:video/mp4;base64,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\" type=\"video/mp4\" />\n",
       "             </video>"
      ],
      "text/plain": [
       "<IPython.core.display.HTML object>"
      ]
     },
     "execution_count": 46,
     "metadata": {},
     "output_type": "execute_result"
    }
   ],
   "source": [
    "# Initialize the game\n",
    "env = Environment(grid_size=size, max_time=T,temperature=temperature)\n",
    "\n",
    "# Initialize the agent!\n",
    "agent = RandomAgent()\n",
    "\n",
    "test(agent,env,epochs_test,prefix='random')\n",
    "HTML(display_videos('random0.mp4'))\n"
   ]
  },
  {
   "cell_type": "markdown",
   "metadata": {},
   "source": [
    "***\n",
    "## DQN"
   ]
  },
  {
   "cell_type": "markdown",
   "metadata": {},
   "source": [
    "Let us assume here that $T=\\infty$.\n",
    "\n",
    "***\n",
    "__Question 5__ Let $\\pi$ be a policy, show that:\n",
    "\n",
    "\\begin{equation*}\n",
    "Q^{\\pi}(s,a)=E_{(s',a')\\sim p(.|s,a)}[r(s,a)+\\gamma Q^{\\pi}(s',a')]\n",
    "\\end{equation*}\n",
    "\n",
    "Then, show that for the optimal policy $\\pi^*$ (we assume its existence), the following holds: \n",
    "\n",
    "\\begin{equation*}\n",
    "Q^{*}(s,a)=E_{s'\\sim \\pi^*(.|s,a)}[r(s,a)+\\gamma\\max_{a'}Q^{*}(s',a')].\n",
    "\\end{equation*}\n",
    "Finally, deduce that a plausible objective is:\n",
    "\n",
    "\\begin{equation*}\n",
    "\\mathcal{L}(\\theta)=E_{s' \\sim \\pi^*(.|s,a)}\\Vert r+\\gamma\\max\\max_{a'}Q(s',a',\\theta)-Q(s,a,\\theta)\\Vert^{2}.\n",
    "\\end{equation*}\n",
    "\n",
    "\n"
   ]
  },
  {
   "cell_type": "markdown",
   "metadata": {},
   "source": []
  },
  {
   "cell_type": "markdown",
   "metadata": {},
   "source": [
    "***\n",
    "The DQN-learning algorithm relies on these derivations to train the parameters $\\theta$ of a Deep Neural Network:\n",
    "\n",
    "1. At the state $s_t$, select the action $a_t$ with best reward using $Q_t$ and store the results;\n",
    "\n",
    "2. Obtain the new state $s_{t+1}$ from the environment $p$;\n",
    "\n",
    "3. Store $(s_t,a_t,s_{t+1})$;\n",
    "\n",
    "4. Obtain $Q_{t+1}$ by minimizing  $\\mathcal{L}$ from a recovered batch from the previously stored results.\n",
    "\n",
    "***\n",
    "__Question 6__ Implement the class ```Memory``` that stores moves (in a replay buffer) via ```remember``` and provides a ```random_access``` to these. Specify a maximum memory size to avoid side effects. You can for example use a ```list()``` and set by default ```max_memory=100```."
   ]
  },
  {
   "cell_type": "code",
   "execution_count": null,
   "metadata": {
    "collapsed": true,
    "jupyter": {
     "outputs_hidden": true
    }
   },
   "outputs": [],
   "source": [
    "class Memory(object):\n",
    "    def __init__(self, max_memory=100):\n",
    "        self.max_memory = max_memory\n",
    "        self.memory = list()\n",
    "\n",
    "    def remember(self, m):\n",
    "        pass\n",
    "\n",
    "    def random_access(self):\n",
    "        pass"
   ]
  },
  {
   "cell_type": "markdown",
   "metadata": {},
   "source": [
    "***\n",
    "The pipeline we will use for training is given below:"
   ]
  },
  {
   "cell_type": "code",
   "execution_count": null,
   "metadata": {
    "collapsed": true,
    "jupyter": {
     "outputs_hidden": true
    }
   },
   "outputs": [],
   "source": [
    "def train(agent,env,epoch,prefix=''):\n",
    "    # Number of won games\n",
    "    score = 0\n",
    "    loss = 0\n",
    "\n",
    "    for e in range(epoch):\n",
    "        # At each epoch, we restart to a fresh game and get the initial state\n",
    "        state = env.reset()\n",
    "        # This assumes that the games will terminate\n",
    "        game_over = False\n",
    "\n",
    "        win = 0\n",
    "        lose = 0\n",
    "\n",
    "        while not game_over:\n",
    "            # The agent performs an action\n",
    "            action = agent.act(state)\n",
    "\n",
    "            # Apply an action to the environment, get the next state, the reward\n",
    "            # and if the games end\n",
    "            prev_state = state\n",
    "            state, reward, game_over = env.act(action)\n",
    "\n",
    "            # Update the counters\n",
    "            if reward > 0:\n",
    "                win = win + reward\n",
    "            if reward < 0:\n",
    "                lose = lose -reward\n",
    "\n",
    "            # Apply the reinforcement strategy\n",
    "            loss = agent.reinforce(prev_state, state,  action, reward, game_over)\n",
    "\n",
    "        # Save as a mp4\n",
    "        if e % 10 == 0:\n",
    "            env.draw(prefix+str(e))\n",
    "\n",
    "        # Update stats\n",
    "        score += win-lose\n",
    "\n",
    "        print(\"Epoch {:03d}/{:03d} | Loss {:.4f} | Win/lose count {}/{} ({})\"\n",
    "              .format(e, epoch, loss, win, lose, win-lose))\n",
    "        agent.save(name_weights=prefix+'model.h5',name_model=prefix+'model.json')"
   ]
  },
  {
   "cell_type": "markdown",
   "metadata": {},
   "source": [
    "***\n",
    "__Question 7__ Implement the DQN training algorithm using a cascade of fully connected layers. You can use different learning rate, batch size or memory size parameters. In particular, the loss might oscillate while the player will start to win the games. You have to find a good criterium."
   ]
  },
  {
   "cell_type": "code",
   "execution_count": null,
   "metadata": {
    "collapsed": true,
    "jupyter": {
     "outputs_hidden": true
    }
   },
   "outputs": [],
   "source": [
    "class DQN(Agent):\n",
    "    def __init__(self, grid_size,  epsilon = 0.1, memory_size=100, batch_size = 16,n_state=2):\n",
    "        super(DQN, self).__init__(epsilon = epsilon)\n",
    "\n",
    "        # Discount for Q learning\n",
    "        self.discount = 0.99\n",
    "        \n",
    "        self.grid_size = grid_size\n",
    "        \n",
    "        # number of state\n",
    "        self.n_state = n_state\n",
    "\n",
    "        # Memory\n",
    "        self.memory = Memory(memory_size)\n",
    "        \n",
    "        # Batch size when learning\n",
    "        self.batch_size = batch_size\n",
    "\n",
    "    def learned_act(self, s):\n",
    "        pass\n",
    "\n",
    "    def reinforce(self, s_, n_s_, a_, r_, game_over_):\n",
    "        # Two steps: first memorize the states, second learn from the pool\n",
    "\n",
    "        self.memory.remember([s_, n_s_, a_, r_, game_over_])\n",
    "        \n",
    "        input_states = np.zeros((self.batch_size, 5,5,self.n_state))\n",
    "        target_q = np.zeros((self.batch_size, 4))\n",
    "        \n",
    "        for i in range(self.batch_size):\n",
    "            ######## FILL IN\n",
    "            \n",
    "            if game_over_:\n",
    "                ######## FILL IN\n",
    "            else:\n",
    "                ######## FILL IN\n",
    "        ######## FILL IN\n",
    "        # HINT: Clip the target to avoid exploiding gradients.. -- clipping is a bit tighter\n",
    "        target_q = np.clip(target_q, -3, 3)\n",
    "\n",
    "        l = self.model.train_on_batch(input_states, target_q)\n",
    "\n",
    "\n",
    "        return l\n",
    "\n",
    "    def save(self,name_weights='model.h5',name_model='model.json'):\n",
    "        self.model.save_weights(name_weights, overwrite=True)\n",
    "        with open(name_model, \"w\") as outfile:\n",
    "            json.dump(self.model.to_json(), outfile)\n",
    "            \n",
    "    def load(self,name_weights='model.h5',name_model='model.json'):\n",
    "        with open(name_model, \"r\") as jfile:\n",
    "            model = model_from_json(json.load(jfile))\n",
    "        model.load_weights(name_weights)\n",
    "        model.compile(\"sgd\", \"mse\")\n",
    "        self.model = model\n",
    "\n",
    "            \n",
    "class DQN_FC(DQN):\n",
    "    def __init__(self, *args, lr=0.1,**kwargs):\n",
    "        super(DQN_FC, self).__init__( *args,**kwargs)\n",
    "        \n",
    "        # NN Model\n",
    "        \n",
    "        ####### FILL IN\n",
    "        \n",
    "        model.compile(sgd(lr=lr, decay=1e-4, momentum=0.0), \"mse\")\n",
    "        self.model = model\n",
    "        "
   ]
  },
  {
   "cell_type": "code",
   "execution_count": null,
   "metadata": {
    "collapsed": true,
    "jupyter": {
     "outputs_hidden": true
    }
   },
   "outputs": [],
   "source": [
    "env = Environment(grid_size=size, max_time=T, temperature=0.3)\n",
    "agent = DQN_FC(size, lr=.1, epsilon = 0.1, memory_size=2000, batch_size = 32)\n",
    "train(agent, env, epochs_train, prefix='fc_train')\n",
    "HTML(display_videos('fc_train10.mp4'))"
   ]
  },
  {
   "cell_type": "markdown",
   "metadata": {},
   "source": [
    "***\n",
    "***\n",
    "__Question 8__ Implement the DQN training algorithm using a CNN (for example, 2 convolutional layers and one final fully connected layer)."
   ]
  },
  {
   "cell_type": "code",
   "execution_count": null,
   "metadata": {
    "collapsed": true,
    "jupyter": {
     "outputs_hidden": true
    }
   },
   "outputs": [],
   "source": [
    "class DQN_CNN(DQN):\n",
    "    def __init__(self, *args,lr=0.1,**kwargs):\n",
    "        super(DQN_CNN, self).__init__(*args,**kwargs)\n",
    "        \n",
    "        ###### FILL IN\n",
    "        \n",
    "        model.compile(sgd(lr=lr, decay=1e-4, momentum=0.0), \"mse\")\n",
    "        self.model = model"
   ]
  },
  {
   "cell_type": "code",
   "execution_count": null,
   "metadata": {
    "collapsed": true,
    "jupyter": {
     "outputs_hidden": true
    }
   },
   "outputs": [],
   "source": [
    "env = Environment(grid_size=size, max_time=T, temperature=0.3)\n",
    "agent = DQN_CNN(size, lr=.1, epsilon = 0.1, memory_size=2000, batch_size = 32)\n",
    "train(agent,env,epochs_train,prefix='cnn_train')\n",
    "HTML(display_videos('cnn_train10.mp4'))"
   ]
  },
  {
   "cell_type": "markdown",
   "metadata": {},
   "source": [
    "***\n",
    "***\n",
    "__Question 9__ Test both algorithms and compare their performances. Which issue(s) do you observe? Observe also different behaviors by changing the temperature."
   ]
  },
  {
   "cell_type": "code",
   "execution_count": null,
   "metadata": {
    "collapsed": true,
    "jupyter": {
     "outputs_hidden": true
    }
   },
   "outputs": [],
   "source": [
    "env = Environment(grid_size=size, max_time=T,temperature=0.3)\n",
    "agent_cnn = DQN_CNN(size, lr=.1, epsilon = 0.1, memory_size=2000, batch_size = 32)\n",
    "agent_cnn.load(name_weights='cnn_trainmodel.h5',name_model='cnn_trainmodel.json')\n",
    "\n",
    "agent_fc = DQN_FC(size, lr=.1, epsilon = 0.1, memory_size=2000, batch_size = 32)\n",
    "agent_cnn.load(name_weights='fc_trainmodel.h5',name_model='fc_trainmodel.json')\n",
    "print('Test of the CNN')\n",
    "test(agent_cnn,env,epochs_test,prefix='cnn_test')\n",
    "print('Test of the FC')\n",
    "test(agent_fc,env,epochs_test,prefix='fc_test')"
   ]
  },
  {
   "cell_type": "code",
   "execution_count": null,
   "metadata": {
    "collapsed": true,
    "jupyter": {
     "outputs_hidden": true
    }
   },
   "outputs": [],
   "source": [
    "HTML(display_videos('cnn_test10.mp4'))"
   ]
  },
  {
   "cell_type": "code",
   "execution_count": null,
   "metadata": {
    "collapsed": true,
    "jupyter": {
     "outputs_hidden": true
    }
   },
   "outputs": [],
   "source": [
    "HTML(display_videos('fc_test10.mp4'))"
   ]
  },
  {
   "cell_type": "markdown",
   "metadata": {},
   "source": []
  },
  {
   "cell_type": "markdown",
   "metadata": {},
   "source": [
    "***\n",
    "\n",
    "The algorithm tends to not explore the map which can be an issue. We propose two ideas in order to encourage exploration:\n",
    "1. Incorporating a decreasing $\\epsilon$-greedy exploration. You can use the method ```set_epsilon```\n",
    "2. Append via the environment a new state that describes if a cell has been visited or not\n",
    "\n",
    "***\n",
    "__Question 10__ Design a new ```train_explore``` function and environment class ```EnvironmentExploring``` to tackle the issue of exploration.\n",
    "\n"
   ]
  },
  {
   "cell_type": "code",
   "execution_count": null,
   "metadata": {
    "collapsed": true,
    "jupyter": {
     "outputs_hidden": true
    }
   },
   "outputs": [],
   "source": [
    "def train_explore(agent,env,epoch,prefix=''):\n",
    "    pass\n",
    "        \n",
    "class EnvironmentExploring(object):\n",
    "    def __init__(self, grid_size=10, max_time=500, temperature=0.1):\n",
    "        pass\n",
    "    \n",
    "## use those samples of code:\n",
    "#In train explore:\n",
    "state, reward, game_over = env.act(action, train=True)\n",
    "\n",
    "## In Environment exploring:\n",
    "# You will have to change n_state to 3 because you will use one more layer!\n",
    "reward = 0\n",
    "if train:\n",
    "    reward = -self.malus_position[self.x, self.y]\n",
    "self.malus_position[self.x, self.y] = 0.1\n",
    "\n",
    "reward = reward + self.board[self.x, self.y]\n",
    "# 3 \"feature\" states instead of 2\n",
    "state = np.concatenate((self.malus_position.reshape(self.grid_size, self.grid_size,1),\n",
    "                                self.board.reshape(self.grid_size, self.grid_size,1),\n",
    "                        self.position.reshape(self.grid_size, self.grid_size,1)),axis=2)"
   ]
  },
  {
   "cell_type": "code",
   "execution_count": null,
   "metadata": {
    "collapsed": true,
    "jupyter": {
     "outputs_hidden": true
    }
   },
   "outputs": [],
   "source": [
    "# Training\n",
    "env = EnvironmentExploring(grid_size=size, max_time=T, temperature=0.3)\n",
    "agent = DQN_CNN(size, lr=.1, epsilon = 0.1, memory_size=2000, batch_size = 32,n_state=3)\n",
    "train_explore(agent, env, epochs_train, prefix='cnn_train_explore')\n",
    "HTML(display_videos('cnn_train_explore10.mp4'))"
   ]
  },
  {
   "cell_type": "code",
   "execution_count": null,
   "metadata": {
    "collapsed": true,
    "jupyter": {
     "outputs_hidden": true
    }
   },
   "outputs": [],
   "source": [
    "# Evaluation\n",
    "test(agent,env,epochs_test,prefix='cnn_test_explore')\n",
    "HTML(display_videos('cnn_test_explore10.mp4'))"
   ]
  },
  {
   "cell_type": "markdown",
   "metadata": {},
   "source": [
    "***\n",
    "***\n",
    "__BONUS question__ Use the expert DQN from the previous question to generate some winning games. Train a model that mimicks its behavior. Compare the performances."
   ]
  },
  {
   "cell_type": "markdown",
   "metadata": {},
   "source": []
  },
  {
   "cell_type": "markdown",
   "metadata": {},
   "source": [
    "***"
   ]
  }
 ],
 "metadata": {
  "kernelspec": {
   "display_name": "Python 3",
   "language": "python",
   "name": "python3"
  },
  "language_info": {
   "codemirror_mode": {
    "name": "ipython",
    "version": 3
   },
   "file_extension": ".py",
   "mimetype": "text/x-python",
   "name": "python",
   "nbconvert_exporter": "python",
   "pygments_lexer": "ipython3",
   "version": "3.6.8"
  }
 },
 "nbformat": 4,
 "nbformat_minor": 4
}
