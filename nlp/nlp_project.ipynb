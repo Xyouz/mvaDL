{
 "cells": [
  {
   "cell_type": "markdown",
   "metadata": {},
   "source": [
    "# Deep Learning for NLP - Project"
   ]
  },
  {
   "cell_type": "markdown",
   "metadata": {},
   "source": [
    "RULES:\n",
    "\n",
    "* Do not create any additional cell\n",
    "\n",
    "* Fill in the blanks\n",
    "\n",
    "* All cells should be runnable (modulo trivial compatibility bugs that we'd fix)\n",
    "\n",
    "* 4 / 20 points will be allocated to the clarity of your code\n",
    "\n",
    "* Efficient code will have a bonus\n",
    "\n",
    "DELIVERABLE:\n",
    "\n",
    "* the pdf with your answers\n",
    "* this notebook\n",
    "* the predictions of the SST test set\n",
    "\n",
    "DO NOT INCLUDE THE DATASETS IN THE DELIVERABLE.."
   ]
  },
  {
   "cell_type": "code",
   "execution_count": 1,
   "metadata": {
    "collapsed": false,
    "jupyter": {
     "outputs_hidden": false
    }
   },
   "outputs": [],
   "source": [
    "# Python 3.6 or above is required\n",
    "from collections import defaultdict\n",
    "import gzip\n",
    "import numpy as np\n",
    "from pathlib import Path\n",
    "from urllib.request import urlretrieve\n",
    "\n",
    "import numpy as np\n",
    "from scipy.spatial.distance import cdist"
   ]
  },
  {
   "cell_type": "code",
   "execution_count": 2,
   "metadata": {},
   "outputs": [],
   "source": [
    "PATH_TO_DATA = Path('data/')\n",
    "# Download word vectors, might take a few minutes and about ~3GB of storage space\n",
    "en_embeddings_path = PATH_TO_DATA / 'cc.en.300.vec.gz'\n",
    "if not en_embeddings_path.exists():\n",
    "    urlretrieve('https://dl.fbaipublicfiles.com/fasttext/vectors-crawl/cc.en.300.vec.gz', en_embeddings_path)\n",
    "fr_embeddings_path = PATH_TO_DATA / 'cc.fr.300.vec.gz'\n",
    "if not fr_embeddings_path.exists():\n",
    "    urlretrieve('https://dl.fbaipublicfiles.com/fasttext/vectors-crawl/cc.fr.300.vec.gz', fr_embeddings_path)"
   ]
  },
  {
   "cell_type": "markdown",
   "metadata": {},
   "source": [
    "# 1) Monolingual (English) word embeddings "
   ]
  },
  {
   "cell_type": "code",
   "execution_count": 4,
   "metadata": {},
   "outputs": [],
   "source": [
    "class Word2Vec():\n",
    "\n",
    "    def __init__(self, filepath, vocab_size=50000):\n",
    "        self.words, self.embeddings = self.load_wordvec(filepath, vocab_size)\n",
    "        # Mappings for O(1) retrieval:\n",
    "        self.word2id = {word: idx for idx, word in enumerate(self.words)}\n",
    "        self.id2word = {idx: word for idx, word in enumerate(self.words)}\n",
    "    \n",
    "    def load_wordvec(self, filepath, vocab_size):\n",
    "        assert str(filepath).endswith('.gz')\n",
    "        words = []\n",
    "        embeddings = []\n",
    "        with gzip.open(filepath, 'rt') as f:  # Read compressed file directly\n",
    "            next(f)  # Skip header\n",
    "            for i, line in enumerate(f):\n",
    "                word, vec = line.split(' ', 1)\n",
    "                words.append(word)\n",
    "                embeddings.append(np.fromstring(vec, sep=' '))\n",
    "                if i == (vocab_size - 1):\n",
    "                    break\n",
    "        print('Loaded %s pretrained word vectors' % (len(words)))\n",
    "        return words, np.vstack(embeddings)\n",
    "    \n",
    "    def encode(self, word):\n",
    "        # Returns the 1D embedding of a given word\n",
    "        try :\n",
    "            return self.embeddings[self.word2id[word]]\n",
    "        except KeyError:\n",
    "            # print(\"'{}' not in vocabulary\".format(word))\n",
    "            return np.zeros(self.embeddings.shape[1])\n",
    "        # raise NotImplementedError('Fill in the blank')\n",
    "    \n",
    "    def score(self, word1, word2):\n",
    "        # Return the cosine similarity: use np.dot & np.linalg.norm\n",
    "        e1 = self.encode(word1)\n",
    "        e2 = self.encode(word2)\n",
    "        return np.dot(e1,e2)/np.linalg.norm(e1)/np.linalg.norm(e2)\n",
    "        # raise NotImplementedError('Fill in the blank')\n",
    "    \n",
    "    def most_similar(self, word, k=5):\n",
    "        # Returns the k most similar words: self.score & np.argsort\n",
    "        emb = self.encode(word).reshape(1,-1)\n",
    "        dist = cdist(emb, self.embeddings, \"cosine\").squeeze()\n",
    "        best_id = np.argsort(dist)[:k]\n",
    "        words = [self.id2word[idx] for idx in best_id]\n",
    "        return words\n",
    "        # raise NotImplementedError('Fill in the blank')"
   ]
  },
  {
   "cell_type": "code",
   "execution_count": 5,
   "metadata": {
    "collapsed": false,
    "jupyter": {
     "outputs_hidden": false
    }
   },
   "outputs": [
    {
     "name": "stdout",
     "output_type": "stream",
     "text": [
      "Loaded 50000 pretrained word vectors\n",
      "cat tree 0.2644975466165475\n",
      "cat dog 0.7078641298542563\n",
      "cat pet 0.675331335997638\n",
      "Paris France 0.6892958925806543\n",
      "Paris Germany 0.4051242286737548\n",
      "Paris baguette 0.29399958277802224\n",
      "Paris donut -0.006588507552348005\n",
      "['cat', 'cats', 'kitty', 'kitten', 'feline']\n",
      "['dog', 'dogs', 'puppy', 'pup', 'canine']\n",
      "['dogs', 'dog', 'cats', 'puppies', 'Dogs']\n",
      "['Paris', 'France', 'Parisian', 'Marseille', 'Brussels']\n",
      "['Germany', 'Austria', 'Europe', 'Berlin', 'Hamburg']\n"
     ]
    }
   ],
   "source": [
    "word2vec = Word2Vec(en_embeddings_path, vocab_size=50000)\n",
    "\n",
    "# You will be evaluated on the output of the following:\n",
    "for word1, word2 in zip(('cat', 'cat', 'cat', 'Paris', 'Paris', 'Paris', 'Paris'), ('tree', 'dog', 'pet', 'France', 'Germany', 'baguette', 'donut')):\n",
    "    print(word1, word2, word2vec.score(word1, word2))\n",
    "for word in ['cat', 'dog', 'dogs', 'Paris', 'Germany']:\n",
    "    print(word2vec.most_similar(word))"
   ]
  },
  {
   "cell_type": "code",
   "execution_count": 6,
   "metadata": {
    "collapsed": false,
    "jupyter": {
     "outputs_hidden": false
    }
   },
   "outputs": [],
   "source": [
    "class BagOfWords():\n",
    "    \n",
    "    def __init__(self, word2vec):\n",
    "        self.word2vec = word2vec\n",
    "    \n",
    "    def build_idf(self, sentences):\n",
    "        # build the idf dictionary: associate each word to its idf value\n",
    "        # -> idf = {word: idf_value, ...}\n",
    "        n_sentences = len(sentences)\n",
    "        n_words = len(self.word2vec.words)\n",
    "        n_doc = np.zeros(n_words)\n",
    "        for s in sentences:\n",
    "            words = [w for w in s.split(\" \") if len(w) > 0]\n",
    "            for w in list(set(words)):\n",
    "                try:\n",
    "                    n_doc[self.word2vec.word2id[w]] += 1\n",
    "                except KeyError:\n",
    "                    pass\n",
    "        \n",
    "        idf = np.log(n_sentences/(n_doc+1e-10))\n",
    "        idf = {self.word2vec.id2word[idx] : idf[idx] for idx in range(n_words)}\n",
    "        return idf\n",
    "    \n",
    "    def encode(self, sentence, idf=None):\n",
    "        # Takes a sentence as input, returns the sentence embedding\n",
    "        words = [w for w in sentence.split(\" \") if len(w) > 0]\n",
    "        word_emb = np.array(list(map(self.word2vec.encode, words)))\n",
    "        if idf is None:\n",
    "            # mean of word vectors\n",
    "            return np.mean(word_emb, axis=0)\n",
    "            # raise NotImplementedError('Fill in the blank')\n",
    "        else:\n",
    "            # idf-weighted mean of word vectors\n",
    "            word_idf = []\n",
    "            for word in words:\n",
    "                try:\n",
    "                    word_idf.append(idf[word])\n",
    "                except KeyError:\n",
    "                    word_idf.append(0)\n",
    "            return np.average(word_emb, axis=0, weights=word_idf)\n",
    "            # raise NotImplementedError('Fill in the blank')\n",
    "\n",
    "    def score(self, sentence1, sentence2, idf=None):\n",
    "        # cosine similarity: use np.dot & np.linalg.norm\n",
    "        e1 = self.encode(sentence1, idf)\n",
    "        e2 = self.encode(sentence2, idf)\n",
    "        return np.dot(e1,e2)/np.linalg.norm(e1)/np.linalg.norm(e2)\n",
    "        # raise NotImplementedError('Fill in the blank')\n",
    "    \n",
    "    def most_similar(self, sentence, sentences, idf=None, k=5):\n",
    "        # Return most similar sentences\n",
    "        query = self.encode(sentence, idf).reshape(1,-1)\n",
    "        keys = np.vstack([self.encode(sentence, idf) for sentence in sentences])\n",
    "        dist = cdist(query, keys, \"cosine\").squeeze()\n",
    "        best_id = np.argsort(dist)[:k]\n",
    "        return [sentences[idx] for idx in best_id]        \n",
    "        # raise NotImplementedError('Fill in the blank')"
   ]
  },
  {
   "cell_type": "code",
   "execution_count": 7,
   "metadata": {},
   "outputs": [
    {
     "name": "stdout",
     "output_type": "stream",
     "text": [
      "Loaded 100000 pretrained word vectors\n",
      "\n",
      "\tAverage of word embeddings\n",
      "1 man singing and 1 man playing a saxophone in a concert . \n",
      "10 people venture out to go crosscountry skiing . \n",
      "0.7065220648251475\n",
      "1 smiling african american boy . \n",
      "1) 1 smiling african american boy . \n",
      "2) 2 woman dancing while pointing . \n",
      "3) 5 women and 1 man are smiling for the camera . \n",
      "4) a small boy following 4 geese . \n",
      "5) 2 female babies eating chips . \n",
      "\n",
      "\tidf weighted average of word embeddings\n",
      "1 man singing and 1 man playing a saxophone in a concert . \n",
      "10 people venture out to go crosscountry skiing . \n",
      "0.6400799939346448\n",
      "1 smiling african american boy . \n",
      "1) 1 smiling african american boy . \n",
      "2) 1 man singing and 1 man playing a saxophone in a concert . \n",
      "3) two women and 1 man walking across the street . \n",
      "4) 3 males and 1 woman enjoying a sporting event \n",
      "5) 5 women and 1 man are smiling for the camera . \n"
     ]
    }
   ],
   "source": [
    "word2vec = Word2Vec(en_embeddings_path, vocab_size=100000)\n",
    "sentence2vec = BagOfWords(word2vec)\n",
    "\n",
    "# Load sentences in \"PATH_TO_DATA/sentences.txt\"\n",
    "filepath = PATH_TO_DATA / 'sentences.txt'\n",
    "with open(filepath, 'r') as f:\n",
    "    sentences = [line.strip('\\n') for line in f]\n",
    "\n",
    "\n",
    "# You will be evaluated on the output of the following:\n",
    "print('\\n\\tAverage of word embeddings')\n",
    "sentence1 = sentences[7]\n",
    "sentence2 = sentences[13]\n",
    "print(sentence1)\n",
    "print(sentence2)\n",
    "print(sentence2vec.score(sentence1, sentence2))\n",
    "sentence = sentences[10]\n",
    "similar_sentences = sentence2vec.most_similar(sentence, sentences)  # BagOfWords-mean\n",
    "print(sentence)\n",
    "for i, s in enumerate(similar_sentences):\n",
    "    print(str(i+1) + ')', s)\n",
    "\n",
    "# Build idf scores for each word\n",
    "idf = sentence2vec.build_idf(sentences)\n",
    "\n",
    "print('\\n\\tidf weighted average of word embeddings')\n",
    "print(sentence1)\n",
    "print(sentence2)\n",
    "print(sentence2vec.score(sentence1, sentence2, idf))\n",
    "similar_sentences = sentence2vec.most_similar(sentence, sentences, idf)  # BagOfWords-idf\n",
    "print(sentence)\n",
    "for i, s in enumerate(similar_sentences):\n",
    "    print(str(i+1) + ')', s)"
   ]
  },
  {
   "cell_type": "markdown",
   "metadata": {},
   "source": [
    "# 2) Multilingual (English-French) word embeddings"
   ]
  },
  {
   "cell_type": "markdown",
   "metadata": {},
   "source": [
    "Let's consider a bilingual dictionary of size V_a (e.g French-English).\n",
    "\n",
    "Let's define **X** and **Y** the **French** and **English** matrices.\n",
    "\n",
    "They contain the embeddings associated to the words in the bilingual dictionary.\n",
    "\n",
    "We want to find a **mapping W** that will project the source word space (e.g French) to the target word space (e.g English).\n",
    "\n",
    "Procrustes : **W\\* = argmin || W.X - Y ||  s.t  W^T.W = Id**\n",
    "has a closed form solution:\n",
    "**W = U.V^T  where  U.Sig.V^T = SVD(Y.X^T)**\n",
    "\n",
    "In what follows, you are asked to: "
   ]
  },
  {
   "cell_type": "code",
   "execution_count": 8,
   "metadata": {},
   "outputs": [],
   "source": [
    "class MultilingualWordAligner:\n",
    "    \n",
    "    def __init__(self, fr_word2vec, en_word2vec):\n",
    "        self.fr_word2vec = fr_word2vec\n",
    "        self.en_word2vec = en_word2vec\n",
    "        self.aligned_fr_embeddings = self.get_aligned_fr_embeddings()\n",
    "        \n",
    "    def get_aligned_fr_embeddings(self):\n",
    "        # 1 - Get words that appear in both vocabs (= identical character strings)\n",
    "        #     Use it to create the matrix X (emb_dim, vocab_size) and Y (emb_dim, vocab_size) (of embeddings for these words)\n",
    "        word_in_common = [w for w in self.fr_word2vec.words if w in self.en_word2vec.words]\n",
    "        X = np.zeros((300, len(word_in_common)))\n",
    "        Y = np.zeros((300, len(word_in_common)))\n",
    "        \n",
    "        for i, word in enumerate(word_in_common):\n",
    "            en_emb = self.en_word2vec.encode(word)\n",
    "            fr_emb = self.fr_word2vec.encode(word)\n",
    "            \n",
    "            X[:,i] = fr_emb\n",
    "            Y[:,i] = en_emb\n",
    "        assert X.shape[0] == 300 and Y.shape[0] == 300\n",
    "        \n",
    "        # 2 - Solve the Procrustes using the numpy package and: np.linalg.svd() and get the optimal W\n",
    "        #     Now self.fr_word2vec.embeddings * W.transpose() is in the same space as en_word2vec.embeddings\n",
    "        U, s, V = np.linalg.svd(Y @ X.T)\n",
    "        W = U @ V\n",
    "        assert W.shape == (300, 300)\n",
    "        return np.matmul(fr_word2vec.embeddings, W.transpose())\n",
    "        \n",
    "    def get_closest_english_words(self, fr_word, k=3):\n",
    "        # 3 - Return the top k English nearest neighbors to the input French word\n",
    "        word_id = self.fr_word2vec.word2id[fr_word]\n",
    "        emb = self.aligned_fr_embeddings[word_id].reshape(1,300)\n",
    "        dist = cdist(emb, self.en_word2vec.embeddings, \"cosine\").squeeze()\n",
    "        best_id = np.argsort(dist)[:k]\n",
    "        return [self.en_word2vec.id2word[id] for id in best_id ]"
   ]
  },
  {
   "cell_type": "code",
   "execution_count": 9,
   "metadata": {},
   "outputs": [
    {
     "name": "stdout",
     "output_type": "stream",
     "text": [
      "Loaded 50000 pretrained word vectors\n",
      "Loaded 50000 pretrained word vectors\n",
      "----------\n",
      "fr: \"chat\"\n",
      "en: \"cat\"\n",
      "en: \"kitten\"\n",
      "en: \"kitty\"\n",
      "----------\n",
      "fr: \"chien\"\n",
      "en: \"dog\"\n",
      "en: \"cat\"\n",
      "en: \"pet\"\n",
      "----------\n",
      "fr: \"voiture\"\n",
      "en: \"car\"\n",
      "en: \"vehicle\"\n",
      "en: \"automobile\"\n",
      "----------\n",
      "fr: \"zut\"\n",
      "en: \"oops\"\n",
      "en: \"Ah\"\n",
      "en: \"ah\"\n"
     ]
    }
   ],
   "source": [
    "fr_word2vec = Word2Vec(fr_embeddings_path, vocab_size=50000)\n",
    "en_word2vec = Word2Vec(en_embeddings_path, vocab_size=50000)\n",
    "multilingual_word_aligner = MultilingualWordAligner(fr_word2vec, en_word2vec)\n",
    "\n",
    "# You will be evaluated on the output of the following:\n",
    "fr_words = ['chat', 'chien', 'voiture', 'zut']\n",
    "k = 3\n",
    "for fr_word in fr_words:\n",
    "    print('-' * 10)\n",
    "    print(f'fr: \"{fr_word}\"')\n",
    "    en_words = multilingual_word_aligner.get_closest_english_words(fr_word, k=3)\n",
    "    for en_word in en_words:\n",
    "        print(f'en: \"{en_word}\"')"
   ]
  },
  {
   "cell_type": "markdown",
   "metadata": {},
   "source": [
    "If you want to dive deeper on this subject: https://github.com/facebookresearch/MUSE"
   ]
  },
  {
   "cell_type": "markdown",
   "metadata": {},
   "source": [
    "# 3) Sentence classification with BoV and scikit-learn"
   ]
  },
  {
   "cell_type": "code",
   "execution_count": 10,
   "metadata": {},
   "outputs": [],
   "source": [
    "# 1 - Load train/dev/test of Stanford Sentiment TreeBank (SST)\n",
    "#     (https://nlp.stanford.edu/~socherr/EMNLP2013_RNTN.pdf)\n",
    "train_filepath = PATH_TO_DATA / 'SST/stsa.fine.train'\n",
    "dev_filepath = PATH_TO_DATA / 'SST/stsa.fine.dev'\n",
    "test_filepath = PATH_TO_DATA / 'SST/stsa.fine.test.X'\n",
    "\n",
    "with open(test_filepath, 'r') as f:\n",
    "    test_sentences = [line.strip('\\n') for line in f]\n",
    "\n",
    "with open(train_filepath, 'r') as f:\n",
    "    lines = [line.strip('\\n') for line in f]\n",
    "    train_classes = [int(l[:2]) for l in lines]\n",
    "    train_sentences = [l[2:] for l in lines]\n",
    "\n",
    "with open(dev_filepath, 'r') as f:\n",
    "    lines = [line.strip('\\n') for line in f]\n",
    "    dev_classes = [int(l[:2]) for l in lines]\n",
    "    dev_sentences = [l[2:] for l in lines]\n"
   ]
  },
  {
   "cell_type": "code",
   "execution_count": 11,
   "metadata": {},
   "outputs": [],
   "source": [
    "# 2 - Encode sentences with the BoV model above\n",
    "idf = sentence2vec.build_idf(train_sentences) # Only using training sentences to compute the idf\n",
    "\n",
    "test_embeddings = np.array([sentence2vec.encode(s, idf) for s in test_sentences ])\n",
    "train_embeddings = np.array([sentence2vec.encode(s, idf) for s in train_sentences ])\n",
    "dev_embeddings = np.array([sentence2vec.encode(s, idf) for s in dev_sentences ])\n",
    "\n",
    "idf = None\n",
    "\n",
    "test_embeddings_noidf = np.array([sentence2vec.encode(s, idf) for s in test_sentences ])\n",
    "train_embeddings_noidf = np.array([sentence2vec.encode(s, idf) for s in train_sentences ])\n",
    "dev_embeddings_noidf = np.array([sentence2vec.encode(s, idf) for s in dev_sentences ])"
   ]
  },
  {
   "cell_type": "code",
   "execution_count": 12,
   "metadata": {},
   "outputs": [
    {
     "name": "stdout",
     "output_type": "stream",
     "text": [
      "Using idf\n",
      "  Accuracy on train sentences : 45.21%\n",
      "  Accuracy on dev sentences : 39.87%\n",
      "\n",
      "Not using idf\n",
      "  Accuracy on train sentences : 43.33%\n",
      "  Accuracy on dev sentences : 39.42%\n"
     ]
    }
   ],
   "source": [
    "# 3 - Learn Logistic Regression on top of sentence embeddings using scikit-learn\n",
    "#     (consider tuning the L2 regularization on the dev set)\n",
    "#     In the paper, the accuracy for average of word vectors is 32.7%\n",
    "#     (VecAvg, table 1, https://nlp.stanford.edu/~socherr/EMNLP2013_RNTN.pdf)\n",
    "\n",
    "from sklearn.linear_model import LogisticRegression\n",
    "\n",
    "print(\"Using idf\")\n",
    "# Learning a model\n",
    "model = LogisticRegression(multi_class='auto', solver=\"lbfgs\", max_iter=200)\n",
    "model.fit(train_embeddings, train_classes)\n",
    "\n",
    "# Testing it on the train dataset\n",
    "train_pred = model.predict(train_embeddings)\n",
    "train_acc = np.mean(train_pred == train_classes)\n",
    "print(\"  Accuracy on train sentences : {:.2f}%\".format(train_acc * 100))\n",
    "\n",
    "# Testing it on the dev dataset\n",
    "dev_pred = model.predict(dev_embeddings)\n",
    "dev_acc = np.mean(dev_pred == dev_classes)\n",
    "print(\"  Accuracy on dev sentences : {:.2f}%\".format(dev_acc * 100))\n",
    "\n",
    "print(\"\\nNot using idf\")\n",
    "# Learning a model\n",
    "model = LogisticRegression(multi_class='auto', solver=\"lbfgs\", max_iter=200)\n",
    "model.fit(train_embeddings_noidf, train_classes)\n",
    "\n",
    "# Testing it on the train dataset\n",
    "train_pred = model.predict(train_embeddings_noidf)\n",
    "train_acc = np.mean(train_pred == train_classes)\n",
    "print(\"  Accuracy on train sentences : {:.2f}%\".format(train_acc * 100))\n",
    "\n",
    "# Testing it on the dev dataset\n",
    "dev_pred = model.predict(dev_embeddings_noidf)\n",
    "dev_acc = np.mean(dev_pred == dev_classes)\n",
    "print(\"  Accuracy on dev sentences : {:.2f}%\".format(dev_acc * 100))"
   ]
  },
  {
   "cell_type": "code",
   "execution_count": 13,
   "metadata": {},
   "outputs": [],
   "source": [
    "# 4 - Produce 2210 predictions for the test set (in the same order). One line = one prediction (=0,1,2,3,4).\n",
    "#     Attach the output file \"logreg_bov_y_test_sst.txt\" to your deliverable.\n",
    "#     You will be evaluated on the results of the test set.\n",
    "\n",
    "test_pred = model.predict(test_embeddings)\n",
    "assert test_pred.shape == (2210,)\n",
    "\n",
    "filename = \"logreg_bov_y_test_sst.txt\"\n",
    "np.savetxt(filename, test_pred.astype(int), fmt=\"%u\")"
   ]
  },
  {
   "cell_type": "code",
   "execution_count": 14,
   "metadata": {},
   "outputs": [
    {
     "name": "stdout",
     "output_type": "stream",
     "text": [
      "Accuracy on dev sentences : 40.33%\n"
     ]
    }
   ],
   "source": [
    "# BONUS!\n",
    "# 5 - Try to improve performance with another classifier\n",
    "#     Attach the output file \"XXX_bov_y_test_sst.txt\" to your deliverable (where XXX = the name of the classifier)\n",
    "\n",
    "# Using XGBoost\n",
    "from xgboost import XGBClassifier  # reaches 37.24% acc\n",
    "from sklearn.svm import LinearSVC  # reaches 38.87% acc\n",
    "from sklearn.svm import NuSVC  # reaches 38.33% acc\n",
    "from sklearn.svm import SVC  # reaches 40.33% acc, 38.78 when not using idf\n",
    "\n",
    "model = SVC(gamma='scale')\n",
    "modelname = \"SVC\"\n",
    "model.fit(train_embeddings, train_classes)\n",
    "\n",
    "# Testing it on the dev dataset\n",
    "dev_pred = model.predict(dev_embeddings)\n",
    "dev_acc = np.mean(dev_pred == dev_classes)\n",
    "print(\"Accuracy on dev sentences : {:.2f}%\".format(dev_acc * 100))\n",
    "\n",
    "test_pred = model.predict(test_embeddings)\n",
    "assert test_pred.shape == (2210,)\n",
    "\n",
    "filename = \"{}_bov_y_test_sst.txt\".format(modelname)\n",
    "np.savetxt(filename, test_pred.astype(int), fmt=\"%u\")"
   ]
  },
  {
   "cell_type": "markdown",
   "metadata": {},
   "source": [
    "# 4) Sentence classification with LSTMs in Keras"
   ]
  },
  {
   "cell_type": "markdown",
   "metadata": {},
   "source": [
    "## 4.1 - Preprocessing"
   ]
  },
  {
   "cell_type": "code",
   "execution_count": 3,
   "metadata": {
    "collapsed": false,
    "jupyter": {
     "outputs_hidden": false
    }
   },
   "outputs": [],
   "source": [
    "import tensorflow as tf"
   ]
  },
  {
   "cell_type": "code",
   "execution_count": 4,
   "metadata": {},
   "outputs": [],
   "source": [
    "# 1 - Using the same dataset, transform text to integers using tf.keras.preprocessing.text.one_hot function\n",
    "#     https://keras.io/preprocessing/text/\n",
    "\n",
    "n_vocab = 5000\n",
    "\n",
    "train_filepath = PATH_TO_DATA / 'SST/stsa.fine.train'\n",
    "dev_filepath = PATH_TO_DATA / 'SST/stsa.fine.dev'\n",
    "test_filepath = PATH_TO_DATA / 'SST/stsa.fine.test.X'\n",
    "\n",
    "with open(test_filepath, 'r') as f:\n",
    "    test_sentences = [line.strip('\\n') for line in f]\n",
    "test_onehot = [tf.keras.preprocessing.text.one_hot(s, n_vocab) for s in test_sentences]\n",
    "\n",
    "with open(train_filepath, 'r') as f:\n",
    "    lines = [line.strip('\\n') for line in f]\n",
    "    train_classes = [int(l[:2]) for l in lines]\n",
    "    train_sentences = [l[2:] for l in lines]\n",
    "train_onehot = [tf.keras.preprocessing.text.one_hot(s, n_vocab) for s in train_sentences]\n",
    "train_classes = tf.keras.utils.to_categorical(train_classes, num_classes=5)\n",
    "                           \n",
    "with open(dev_filepath, 'r') as f:\n",
    "    lines = [line.strip('\\n') for line in f]\n",
    "    dev_classes = [int(l[:2]) for l in lines]\n",
    "    dev_sentences = [l[2:] for l in lines]\n",
    "dev_onehot = [tf.keras.preprocessing.text.one_hot(s, n_vocab) for s in dev_sentences]\n",
    "dev_classes = tf.keras.utils.to_categorical(dev_classes, num_classes=5)\n"
   ]
  },
  {
   "cell_type": "markdown",
   "metadata": {},
   "source": [
    "**Padding input data**\n",
    "\n",
    "Models in Keras (and elsewhere) take batches of sentences of the same length as input. It is because Deep Learning framework have been designed to handle well Tensors, which are particularly suited for fast computation on the GPU.\n",
    "\n",
    "Since sentences have different sizes, we \"pad\" them. That is, we add dummy \"padding\" tokens so that they all have the same length.\n",
    "\n",
    "The input to a Keras model thus has this size : (batchsize, maxseqlen) where maxseqlen is the maximum length of a sentence in the batch."
   ]
  },
  {
   "cell_type": "code",
   "execution_count": 5,
   "metadata": {},
   "outputs": [],
   "source": [
    "# 2 - Pad your sequences using tf.keras.preprocessing.sequence.pad_sequences\n",
    "#     https://keras.io/preprocessing/sequence/\n",
    "\n",
    "train_pad = tf.keras.preprocessing.sequence.pad_sequences(train_onehot)\n",
    "dev_pad = tf.keras.preprocessing.sequence.pad_sequences(dev_onehot)\n",
    "test_pad = tf.keras.preprocessing.sequence.pad_sequences(test_onehot)\n"
   ]
  },
  {
   "cell_type": "markdown",
   "metadata": {},
   "source": [
    "## 4.2 - Design and train your model"
   ]
  },
  {
   "cell_type": "code",
   "execution_count": 6,
   "metadata": {},
   "outputs": [],
   "source": [
    "# 3 - Design your encoder + classifier using tensorflow.keras.layers\n",
    "#     In Keras, Torch and other deep learning framework, we create a \"container\" which is the Sequential() module.\n",
    "#     Then we add components to this container : the lookup-table, the LSTM, the classifier etc.\n",
    "#     All of these components are contained in the Sequential() and are trained together.\n",
    "#     Note that the embedding layer is initialized randomly and does not take advantage of pre-trained word embeddings.\n",
    "\n",
    "\n",
    "# ADAPT CODE BELOW\n",
    "\n",
    "\n",
    "from tensorflow.keras.models import Sequential\n",
    "from tensorflow.keras.layers import Embedding, LSTM, Dense, Activation\n",
    "\n",
    "embed_dim  = 64  # word embedding dimension\n",
    "nhid       = 64  # number of hidden units in the LSTM\n",
    "vocab_size = 5000  # size of the vocabulary\n",
    "n_classes  = 5\n",
    "\n",
    "model = Sequential()\n",
    "model.add(Embedding(vocab_size, embed_dim))\n",
    "model.add(LSTM(nhid, dropout=0.2, recurrent_dropout=0.2))\n",
    "model.add(Dense(n_classes, activation='sigmoid'))"
   ]
  },
  {
   "cell_type": "code",
   "execution_count": 7,
   "metadata": {
    "collapsed": false,
    "jupyter": {
     "outputs_hidden": false
    }
   },
   "outputs": [
    {
     "name": "stdout",
     "output_type": "stream",
     "text": [
      "Model: \"sequential\"\n",
      "_________________________________________________________________\n",
      "Layer (type)                 Output Shape              Param #   \n",
      "=================================================================\n",
      "embedding (Embedding)        (None, None, 64)          320000    \n",
      "_________________________________________________________________\n",
      "lstm (LSTM)                  (None, 64)                33024     \n",
      "_________________________________________________________________\n",
      "dense (Dense)                (None, 5)                 325       \n",
      "=================================================================\n",
      "Total params: 353,349\n",
      "Trainable params: 353,349\n",
      "Non-trainable params: 0\n",
      "_________________________________________________________________\n",
      "None\n"
     ]
    }
   ],
   "source": [
    "# 4 - Define your loss/optimizer/metrics\n",
    "\n",
    "# MODIFY CODE BELOW\n",
    "\n",
    "loss_classif     =  'categorical_crossentropy' # find the right loss for multi-class classification\n",
    "optimizer        =  'adam' # find the right optimizer\n",
    "metrics_classif  =  ['accuracy']\n",
    "\n",
    "# Observe how easy (but blackboxed) this is in Keras\n",
    "model.compile(loss=loss_classif,\n",
    "              optimizer=optimizer,\n",
    "              metrics=metrics_classif)\n",
    "print(model.summary())"
   ]
  },
  {
   "cell_type": "code",
   "execution_count": 8,
   "metadata": {},
   "outputs": [
    {
     "name": "stdout",
     "output_type": "stream",
     "text": [
      "WARNING:tensorflow:The `nb_epoch` argument in `fit` has been renamed `epochs`.\n",
      "Train on 8544 samples, validate on 1101 samples\n",
      "Epoch 1/6\n",
      "8544/8544 [==============================] - 6s 713us/sample - loss: 1.5721 - accuracy: 0.2726 - val_loss: 1.5645 - val_accuracy: 0.2661\n",
      "Epoch 2/6\n",
      "8544/8544 [==============================] - 4s 500us/sample - loss: 1.4690 - accuracy: 0.3491 - val_loss: 1.4272 - val_accuracy: 0.3724\n",
      "Epoch 3/6\n",
      "8544/8544 [==============================] - 4s 499us/sample - loss: 1.2734 - accuracy: 0.4311 - val_loss: 1.4320 - val_accuracy: 0.3624\n",
      "Epoch 4/6\n",
      "8544/8544 [==============================] - 4s 499us/sample - loss: 1.1184 - accuracy: 0.4870 - val_loss: 1.4807 - val_accuracy: 0.3588\n",
      "Epoch 5/6\n",
      "8544/8544 [==============================] - 4s 497us/sample - loss: 1.0010 - accuracy: 0.5679 - val_loss: 1.6412 - val_accuracy: 0.3697\n",
      "Epoch 6/6\n",
      "8544/8544 [==============================] - 4s 499us/sample - loss: 0.8949 - accuracy: 0.6238 - val_loss: 1.6841 - val_accuracy: 0.3488\n"
     ]
    }
   ],
   "source": [
    "# 5 - Train your model and find the best hyperparameters for your dev set\n",
    "#     you will be evaluated on the quality of your predictions on the test set\n",
    "#     Keras expects y_train and y_dev to be one-hot encodings of the labels, i.e. with shape=(n_samples, 5)\n",
    "\n",
    "\n",
    "# ADAPT CODE BELOW\n",
    "bs = 64\n",
    "n_epochs = 6\n",
    "\n",
    "history = model.fit(train_pad, train_classes, batch_size=bs, nb_epoch=n_epochs, validation_data=(dev_pad, dev_classes))"
   ]
  },
  {
   "cell_type": "code",
   "execution_count": 10,
   "metadata": {},
   "outputs": [],
   "source": [
    "# 6 - Generate your predictions on the test set using model.predict(x_test)\n",
    "#     https://keras.io/models/model/\n",
    "#     Log your predictions in a file (one line = one integer: 0,1,2,3,4)\n",
    "#     Attach the output file \"logreg_lstm_y_test_sst.txt\" to your deliverable.\n",
    "\n",
    "pred = model.predict_classes(test_pad)\n",
    "\n",
    "assert pred.shape == (2210,)\n",
    "\n",
    "filename = \"logreg_lstm_y_test_sst.txt\"\n",
    "np.savetxt(filename, pred.astype(int), fmt=\"%u\")"
   ]
  },
  {
   "cell_type": "markdown",
   "metadata": {},
   "source": [
    "## 4.3 - innovate !"
   ]
  },
  {
   "cell_type": "code",
   "execution_count": 53,
   "metadata": {},
   "outputs": [
    {
     "name": "stdout",
     "output_type": "stream",
     "text": [
      "Model: \"sequential_42\"\n",
      "_________________________________________________________________\n",
      "Layer (type)                 Output Shape              Param #   \n",
      "=================================================================\n",
      "embedding_42 (Embedding)     (None, None, 64)          320000    \n",
      "_________________________________________________________________\n",
      "conv1d_75 (Conv1D)           (None, None, 32)          10272     \n",
      "_________________________________________________________________\n",
      "dropout_26 (Dropout)         (None, None, 32)          0         \n",
      "_________________________________________________________________\n",
      "max_pooling1d_75 (MaxPooling (None, None, 32)          0         \n",
      "_________________________________________________________________\n",
      "conv1d_76 (Conv1D)           (None, None, 16)          1552      \n",
      "_________________________________________________________________\n",
      "dropout_27 (Dropout)         (None, None, 16)          0         \n",
      "_________________________________________________________________\n",
      "max_pooling1d_76 (MaxPooling (None, None, 16)          0         \n",
      "_________________________________________________________________\n",
      "lstm_35 (LSTM)               (None, 16)                2112      \n",
      "_________________________________________________________________\n",
      "dense_36 (Dense)             (None, 5)                 85        \n",
      "=================================================================\n",
      "Total params: 334,021\n",
      "Trainable params: 334,021\n",
      "Non-trainable params: 0\n",
      "_________________________________________________________________\n",
      "None\n",
      "Train on 8544 samples, validate on 1101 samples\n",
      "Epoch 1/8\n",
      "8544/8544 [==============================] - 3s 383us/sample - loss: 1.5797 - accuracy: 0.2626 - val_loss: 1.5720 - val_accuracy: 0.2534\n",
      "Epoch 2/8\n",
      "8544/8544 [==============================] - 2s 212us/sample - loss: 1.5681 - accuracy: 0.2791 - val_loss: 1.5716 - val_accuracy: 0.2534\n",
      "Epoch 3/8\n",
      "8544/8544 [==============================] - 2s 209us/sample - loss: 1.5579 - accuracy: 0.2853 - val_loss: 1.5458 - val_accuracy: 0.3124\n",
      "Epoch 4/8\n",
      "8544/8544 [==============================] - 2s 211us/sample - loss: 1.4953 - accuracy: 0.3408 - val_loss: 1.4846 - val_accuracy: 0.3424\n",
      "Epoch 5/8\n",
      "8544/8544 [==============================] - 2s 214us/sample - loss: 1.4148 - accuracy: 0.3751 - val_loss: 1.4557 - val_accuracy: 0.3615\n",
      "Epoch 6/8\n",
      "8544/8544 [==============================] - 2s 209us/sample - loss: 1.3545 - accuracy: 0.3997 - val_loss: 1.4716 - val_accuracy: 0.3533\n",
      "Epoch 7/8\n",
      "8544/8544 [==============================] - 2s 211us/sample - loss: 1.3080 - accuracy: 0.4212 - val_loss: 1.4841 - val_accuracy: 0.3606\n",
      "Epoch 8/8\n",
      "8544/8544 [==============================] - 2s 205us/sample - loss: 1.2784 - accuracy: 0.4290 - val_loss: 1.5032 - val_accuracy: 0.3606\n"
     ]
    }
   ],
   "source": [
    "# 7 - Open question: find a model that is better on your dev set\n",
    "#     (e.g: use a 1D ConvNet, use a better classifier, pretrain your lookup tables ..)\n",
    "#     you will get point if the results on the test set are better: be careful of not overfitting your dev set too much..\n",
    "#     Attach the output file \"XXX_XXX_y_test_sst.txt\" to your deliverable.\n",
    "\n",
    "from tensorflow.keras.models import Sequential\n",
    "from tensorflow.keras.layers import Conv1D, MaxPooling1D, Dropout\n",
    "\n",
    "embed_dim  = 64  # word embedding dimension\n",
    "nhid       = 16  # number of hidden units in the LSTM\n",
    "vocab_size = 5000  # size of the vocabulary\n",
    "n_classes  = 5\n",
    "\n",
    "dropout_rate = 0.7\n",
    "\n",
    "model = Sequential()\n",
    "model.add(Embedding(vocab_size, embed_dim))\n",
    "model.add(Conv1D(32,5,activation='relu'))\n",
    "model.add(Dropout(dropout_rate))\n",
    "model.add(MaxPooling1D(2,2))\n",
    "model.add(Conv1D(16,3,activation='relu'))\n",
    "model.add(Dropout(dropout_rate))\n",
    "model.add(MaxPooling1D(2,2))\n",
    "model.add(LSTM(nhid, dropout=0.45, recurrent_dropout=0.45,return_sequences=False))\n",
    "model.add(Dense(n_classes, activation='sigmoid'))\n",
    "\n",
    "\n",
    "loss_classif     =  'categorical_crossentropy' # find the right loss for multi-class classification\n",
    "optimizer        =  'adam' # find the right optimizer\n",
    "metrics_classif  =  ['accuracy']\n",
    "\n",
    "# Observe how easy (but blackboxed) this is in Keras\n",
    "model.compile(loss=loss_classif,\n",
    "              optimizer=optimizer,\n",
    "              metrics=metrics_classif)\n",
    "print(model.summary())\n",
    "\n",
    "bs = 64\n",
    "n_epochs = 8\n",
    "\n",
    "history = model.fit(train_pad, train_classes, batch_size=bs, epochs=n_epochs, validation_data=(dev_pad, dev_classes))"
   ]
  },
  {
   "cell_type": "code",
   "execution_count": null,
   "metadata": {},
   "outputs": [],
   "source": []
  }
 ],
 "metadata": {
  "kernelspec": {
   "display_name": "Python 3",
   "language": "python",
   "name": "python3"
  },
  "language_info": {
   "codemirror_mode": {
    "name": "ipython",
    "version": 3
   },
   "file_extension": ".py",
   "mimetype": "text/x-python",
   "name": "python",
   "nbconvert_exporter": "python",
   "pygments_lexer": "ipython3",
   "version": "3.6.8"
  }
 },
 "nbformat": 4,
 "nbformat_minor": 4
}
